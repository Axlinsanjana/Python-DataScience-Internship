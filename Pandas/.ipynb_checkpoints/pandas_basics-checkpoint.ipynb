{
 "cells": [
  {
   "cell_type": "markdown",
   "id": "bee62a8f-d7fe-4dd2-821c-bcd096a9362c",
   "metadata": {},
   "source": [
    "<center><h1><b>Pandas Basics</h1></center>"
   ]
  },
  {
   "cell_type": "markdown",
   "id": "cfe38484-bc6e-4479-a3d7-5b890a2d6e8f",
   "metadata": {},
   "source": [
    "## 1) Importing Pandas and NumPy"
   ]
  },
  {
   "cell_type": "code",
   "execution_count": 27,
   "id": "28091112-91f8-4d03-b13d-198a34205d52",
   "metadata": {},
   "outputs": [],
   "source": [
    "import pandas as pd\n",
    "import numpy as np"
   ]
  },
  {
   "cell_type": "markdown",
   "id": "e3c1f506-baff-4b0f-a41b-3b97de261f96",
   "metadata": {},
   "source": [
    "## 2) Checking Pandas Version"
   ]
  },
  {
   "cell_type": "code",
   "execution_count": 28,
   "id": "6ab32085-65c9-47c6-8909-0debbc6e3be8",
   "metadata": {},
   "outputs": [
    {
     "data": {
      "text/plain": [
       "'2.3.1'"
      ]
     },
     "execution_count": 28,
     "metadata": {},
     "output_type": "execute_result"
    }
   ],
   "source": [
    "#To find version of pandas\n",
    "pd.__version__"
   ]
  },
  {
   "cell_type": "markdown",
   "id": "cf60abd5-d114-4407-8ec5-682d908358db",
   "metadata": {},
   "source": [
    "## 3) Creating a Simple Pandas Series"
   ]
  },
  {
   "cell_type": "code",
   "execution_count": 29,
   "id": "ee874d96-592c-43f9-aceb-ef5985faec53",
   "metadata": {},
   "outputs": [
    {
     "name": "stdout",
     "output_type": "stream",
     "text": [
      "0    1\n",
      "1    3\n",
      "2    2\n",
      "3    4\n",
      "4    5\n",
      "dtype: int64\n"
     ]
    }
   ],
   "source": [
    "a = pd.Series([1,3,2,4,5])\n",
    "print(a)"
   ]
  },
  {
   "cell_type": "markdown",
   "id": "cb38264c-3a5c-4f6b-8f9c-22b0c97a6bfa",
   "metadata": {},
   "source": [
    "## 4) Creating a Series with Custom Index"
   ]
  },
  {
   "cell_type": "code",
   "execution_count": 30,
   "id": "9a6f2305-a989-4470-94e6-579fbaab7a89",
   "metadata": {},
   "outputs": [
    {
     "name": "stdout",
     "output_type": "stream",
     "text": [
      "a    1\n",
      "b    3\n",
      "c    2\n",
      "d    4\n",
      "e    5\n",
      "Name: Number, dtype: int64\n"
     ]
    }
   ],
   "source": [
    "a = pd.Series([1,3,2,4,5],index=['a','b','c','d','e'],name = 'Number')\n",
    "print(a)"
   ]
  },
  {
   "cell_type": "markdown",
   "id": "6ec25c1b-eca5-400a-9619-40718a9f7b3e",
   "metadata": {},
   "source": [
    "## 5) Accessing Elements of a Series"
   ]
  },
  {
   "cell_type": "code",
   "execution_count": 31,
   "id": "9de82df4-6bc9-46ee-aa21-2305ae767d56",
   "metadata": {},
   "outputs": [
    {
     "name": "stdout",
     "output_type": "stream",
     "text": [
      "3\n"
     ]
    }
   ],
   "source": [
    "print(a.iloc[1])"
   ]
  },
  {
   "cell_type": "markdown",
   "id": "28df6c0d-246d-4a84-ac1c-6c93dba54582",
   "metadata": {},
   "source": [
    "## 6) Creating a DataFrame from a NumPy Array"
   ]
  },
  {
   "cell_type": "code",
   "execution_count": 32,
   "id": "04357a65-4c76-429e-996c-017f2d18524d",
   "metadata": {},
   "outputs": [
    {
     "name": "stdout",
     "output_type": "stream",
     "text": [
      "   a  b  c  d\n",
      "0  5  5  4  4\n",
      "1  5  5  5  5\n",
      "2  5  5  4  5\n"
     ]
    }
   ],
   "source": [
    "a = np.random.randint(4,6,(3,4))\n",
    "ans = pd.DataFrame(a, columns= ['a','b','c','d'])\n",
    "print(ans)"
   ]
  },
  {
   "cell_type": "markdown",
   "id": "7c1cafe3-311d-4e01-b015-c92b98657511",
   "metadata": {},
   "source": [
    "## 7) Creating a DataFrame with Custom Index and Columns"
   ]
  },
  {
   "cell_type": "code",
   "execution_count": 33,
   "id": "8eae606b-728c-485c-a3b3-e40f8baa6a8f",
   "metadata": {},
   "outputs": [
    {
     "name": "stdout",
     "output_type": "stream",
     "text": [
      "     a  b  c\n",
      "1st  0  2  1\n",
      "2nd  4  4  0\n",
      "3rd  2  1  4\n"
     ]
    }
   ],
   "source": [
    "a = np.random.randint(0,5,(3,3))\n",
    "ans = pd.DataFrame(a, index = ['1st','2nd','3rd'], columns= ['a','b','c'])\n",
    "print(ans)"
   ]
  },
  {
   "cell_type": "markdown",
   "id": "f82e5224-2684-4694-b3cd-85764d333dec",
   "metadata": {},
   "source": [
    "## 8) Creating a DataFrame from a List of Lists"
   ]
  },
  {
   "cell_type": "code",
   "execution_count": 34,
   "id": "2f8422e4-20f5-441a-a1e3-8d06b002e2ad",
   "metadata": {},
   "outputs": [
    {
     "name": "stdout",
     "output_type": "stream",
     "text": [
      "    Name  Age\n",
      "0  axlin   21\n",
      "1   sanj   35\n",
      "2    hri   24\n"
     ]
    }
   ],
   "source": [
    "a = [['axlin',21],['sanj',35],['hri',24]]\n",
    "ans = pd.DataFrame(a, columns= ['Name','Age'])\n",
    "print(ans)"
   ]
  },
  {
   "cell_type": "markdown",
   "id": "98f2f3a6-701a-432e-b5c8-c6d303faca5f",
   "metadata": {},
   "source": [
    "## 9) Creating a DataFrame from a Dictionary"
   ]
  },
  {
   "cell_type": "code",
   "execution_count": 35,
   "id": "f0671a1d-3153-4a5d-a3fd-0b879464714b",
   "metadata": {},
   "outputs": [
    {
     "name": "stdout",
     "output_type": "stream",
     "text": [
      "  Employee  salary\n",
      "0      axl   12000\n",
      "1      san   55000\n",
      "2      hri   70000\n"
     ]
    }
   ],
   "source": [
    "x = {'Employee':['axl','san','hri'], 'salary': [12000,55000,70000]}\n",
    "ans = pd.DataFrame(x)\n",
    "print(ans)"
   ]
  },
  {
   "cell_type": "markdown",
   "id": "c54ac36e-5318-4100-8098-de825ee0cf9b",
   "metadata": {},
   "source": [
    "## 10) Creating a DataFrame from a List of Dictionaries"
   ]
  },
  {
   "cell_type": "code",
   "execution_count": 36,
   "id": "16b37bbe-8f96-489d-a960-dc1aea8434ce",
   "metadata": {},
   "outputs": [
    {
     "name": "stdout",
     "output_type": "stream",
     "text": [
      "   a  b  c\n",
      "0  1  2  3\n",
      "1  4  5  8\n"
     ]
    }
   ],
   "source": [
    "a = [{'a':1,'b':2,'c':3}, {'a':4,'b':5,'c':8}]\n",
    "ans = pd.DataFrame(a)\n",
    "print(ans)"
   ]
  },
  {
   "cell_type": "markdown",
   "id": "08eef7e6-f48a-4621-898d-4e2268494e6f",
   "metadata": {},
   "source": [
    "## 11) Creating a DataFrame from a List of Dictionaries (with Missing Keys)"
   ]
  },
  {
   "cell_type": "code",
   "execution_count": 37,
   "id": "41b399e7-b33a-452b-873b-3f8ddf74ff13",
   "metadata": {},
   "outputs": [
    {
     "name": "stdout",
     "output_type": "stream",
     "text": [
      "    a   c     b\n",
      "0  10  20   NaN\n",
      "1  40  60  50.0\n"
     ]
    }
   ],
   "source": [
    "a = [{'a':10,'c':20},{'a':40,'b':50,'c':60}]\n",
    "ans = pd.DataFrame(a)\n",
    "print(ans)"
   ]
  },
  {
   "cell_type": "markdown",
   "id": "0c2ce487-7c89-42d7-86ed-c30c8b5177e9",
   "metadata": {},
   "source": [
    "## 12) Creating a DataFrame by Zipping Two Lists (with Missing Values)"
   ]
  },
  {
   "cell_type": "code",
   "execution_count": 38,
   "id": "7425ef06-1669-4623-b12d-3207463c097f",
   "metadata": {},
   "outputs": [
    {
     "name": "stdout",
     "output_type": "stream",
     "text": [
      "   Name   Age\n",
      "0   axl  33.0\n",
      "1   san  44.0\n",
      "2   hri  22.0\n",
      "3  sana   NaN\n"
     ]
    }
   ],
   "source": [
    "name = ['axl','san','hri','sana']\n",
    "age = [33,44,22,np.nan]\n",
    "x = list(zip(name,age))\n",
    "ans = pd.DataFrame(x, columns=['Name','Age'])\n",
    "print(ans)"
   ]
  },
  {
   "cell_type": "markdown",
   "id": "262859fa-74be-4aae-b16a-c54514f31433",
   "metadata": {},
   "source": [
    "## 13) Creating a DataFrame from a Dictionary with Multiple Columns"
   ]
  },
  {
   "cell_type": "code",
   "execution_count": 39,
   "id": "301ca4bb-736a-42a8-8798-6d0383b27f0a",
   "metadata": {},
   "outputs": [
    {
     "name": "stdout",
     "output_type": "stream",
     "text": [
      "    Name  Marks    Subject\n",
      "0    Anu     50      Tamil\n",
      "1  Reena     60     Botany\n",
      "2   Jaan     70    English\n",
      "3   Hema     80    Physics\n",
      "4  Rathi     90  Chemistry\n"
     ]
    }
   ],
   "source": [
    "names = {'Name':['Anu', 'Reena', 'Jaan', 'Hema', 'Rathi'], 'Marks':[50,60,70,80,90],\n",
    "        'Subject':['Tamil','Botany', 'English', 'Physics', 'Chemistry']}\n",
    "x_ = pd.DataFrame(names)\n",
    "print(x_)"
   ]
  },
  {
   "cell_type": "markdown",
   "id": "12cb572b-63dd-49dd-b8ef-235e8884d5fd",
   "metadata": {},
   "source": [
    "## 14) Creating a DataFrame of Students and Their Marks"
   ]
  },
  {
   "cell_type": "code",
   "execution_count": 40,
   "id": "518e9fac-b591-4563-99fa-305a439b4b89",
   "metadata": {},
   "outputs": [
    {
     "name": "stdout",
     "output_type": "stream",
     "text": [
      "  Students Name  Maths  Physics  English\n",
      "0      student1     75      100       81\n",
      "1      student2    100       74       92\n",
      "2      student3     83       96       86\n",
      "3      student4     75       75       78\n",
      "4      student5     77       71       90\n",
      "5      student6     79       82       99\n",
      "6      student7     93       99       74\n",
      "7      student8     83       92       77\n",
      "8      student9     98       74       76\n",
      "9     student10     99       84       78\n"
     ]
    }
   ],
   "source": [
    "students = [f'student{i}' for i in range(1,11)]\n",
    "marks = np.random.randint(70,101,(10,3))\n",
    "marks_ = pd.DataFrame(marks, columns = ['Maths','Physics', 'English'])\n",
    "marks_.insert(0,'Students Name',students)\n",
    "print(marks_)"
   ]
  },
  {
   "cell_type": "markdown",
   "id": "c7360d61-f6af-43cd-84c7-429e430e46c6",
   "metadata": {},
   "source": [
    "## 15) Creating a DataFrame with Random Floating-Point Numbers"
   ]
  },
  {
   "cell_type": "code",
   "execution_count": 41,
   "id": "e8a81efb-6305-48e1-9762-a8a5558f8efb",
   "metadata": {},
   "outputs": [
    {
     "name": "stdout",
     "output_type": "stream",
     "text": [
      "           A         B         C         D         E\n",
      "0  -1.914711 -0.002019  1.387434  0.543966 -0.218864\n",
      "1   1.068507 -0.295374 -0.263047  0.302570  0.563027\n",
      "2  -0.319268  0.132368 -0.077698 -0.440674 -0.350669\n",
      "3  -1.051755 -0.000681 -0.529901  0.425359 -0.214126\n",
      "4   1.071843  0.081798  1.213550 -0.662926  0.730024\n",
      "..       ...       ...       ...       ...       ...\n",
      "95  0.261348  0.970844  0.318032  1.552001 -0.229287\n",
      "96  0.955046 -0.278354  0.674409  1.545745 -0.967440\n",
      "97  0.280959 -0.587499  0.911280 -0.395575 -1.184867\n",
      "98  2.332370 -0.571715 -1.748772 -1.627472  0.537277\n",
      "99  0.957177 -1.372543 -0.833756 -1.115050 -1.756376\n",
      "\n",
      "[100 rows x 5 columns]\n"
     ]
    }
   ],
   "source": [
    "a =  np.random.randn(100,5)\n",
    "a_ = pd.DataFrame(a, columns =['A','B','C','D','E'])\n",
    "print(a_)"
   ]
  },
  {
   "cell_type": "markdown",
   "id": "75eeb197-a126-4447-971d-f536ae071257",
   "metadata": {},
   "source": [
    "## 16) Viewing the First Five Rows of the DataFrame"
   ]
  },
  {
   "cell_type": "code",
   "execution_count": 42,
   "id": "f4a76f5f-5156-4dbb-a57d-c1d4480bf7fe",
   "metadata": {},
   "outputs": [
    {
     "data": {
      "text/html": [
       "<div>\n",
       "<style scoped>\n",
       "    .dataframe tbody tr th:only-of-type {\n",
       "        vertical-align: middle;\n",
       "    }\n",
       "\n",
       "    .dataframe tbody tr th {\n",
       "        vertical-align: top;\n",
       "    }\n",
       "\n",
       "    .dataframe thead th {\n",
       "        text-align: right;\n",
       "    }\n",
       "</style>\n",
       "<table border=\"1\" class=\"dataframe\">\n",
       "  <thead>\n",
       "    <tr style=\"text-align: right;\">\n",
       "      <th></th>\n",
       "      <th>A</th>\n",
       "      <th>B</th>\n",
       "      <th>C</th>\n",
       "      <th>D</th>\n",
       "      <th>E</th>\n",
       "    </tr>\n",
       "  </thead>\n",
       "  <tbody>\n",
       "    <tr>\n",
       "      <th>0</th>\n",
       "      <td>-1.914711</td>\n",
       "      <td>-0.002019</td>\n",
       "      <td>1.387434</td>\n",
       "      <td>0.543966</td>\n",
       "      <td>-0.218864</td>\n",
       "    </tr>\n",
       "    <tr>\n",
       "      <th>1</th>\n",
       "      <td>1.068507</td>\n",
       "      <td>-0.295374</td>\n",
       "      <td>-0.263047</td>\n",
       "      <td>0.302570</td>\n",
       "      <td>0.563027</td>\n",
       "    </tr>\n",
       "    <tr>\n",
       "      <th>2</th>\n",
       "      <td>-0.319268</td>\n",
       "      <td>0.132368</td>\n",
       "      <td>-0.077698</td>\n",
       "      <td>-0.440674</td>\n",
       "      <td>-0.350669</td>\n",
       "    </tr>\n",
       "    <tr>\n",
       "      <th>3</th>\n",
       "      <td>-1.051755</td>\n",
       "      <td>-0.000681</td>\n",
       "      <td>-0.529901</td>\n",
       "      <td>0.425359</td>\n",
       "      <td>-0.214126</td>\n",
       "    </tr>\n",
       "    <tr>\n",
       "      <th>4</th>\n",
       "      <td>1.071843</td>\n",
       "      <td>0.081798</td>\n",
       "      <td>1.213550</td>\n",
       "      <td>-0.662926</td>\n",
       "      <td>0.730024</td>\n",
       "    </tr>\n",
       "  </tbody>\n",
       "</table>\n",
       "</div>"
      ],
      "text/plain": [
       "          A         B         C         D         E\n",
       "0 -1.914711 -0.002019  1.387434  0.543966 -0.218864\n",
       "1  1.068507 -0.295374 -0.263047  0.302570  0.563027\n",
       "2 -0.319268  0.132368 -0.077698 -0.440674 -0.350669\n",
       "3 -1.051755 -0.000681 -0.529901  0.425359 -0.214126\n",
       "4  1.071843  0.081798  1.213550 -0.662926  0.730024"
      ]
     },
     "execution_count": 42,
     "metadata": {},
     "output_type": "execute_result"
    }
   ],
   "source": [
    "a_.head()"
   ]
  },
  {
   "cell_type": "markdown",
   "id": "7e5324f4-5b7e-4b21-9bf0-8891e45cb11b",
   "metadata": {},
   "source": [
    "## 17) Viewing the First Ten Rows of the DataFrame"
   ]
  },
  {
   "cell_type": "code",
   "execution_count": 43,
   "id": "90fc0bb9-bcf7-406e-a0b2-2b083244834a",
   "metadata": {},
   "outputs": [
    {
     "data": {
      "text/html": [
       "<div>\n",
       "<style scoped>\n",
       "    .dataframe tbody tr th:only-of-type {\n",
       "        vertical-align: middle;\n",
       "    }\n",
       "\n",
       "    .dataframe tbody tr th {\n",
       "        vertical-align: top;\n",
       "    }\n",
       "\n",
       "    .dataframe thead th {\n",
       "        text-align: right;\n",
       "    }\n",
       "</style>\n",
       "<table border=\"1\" class=\"dataframe\">\n",
       "  <thead>\n",
       "    <tr style=\"text-align: right;\">\n",
       "      <th></th>\n",
       "      <th>A</th>\n",
       "      <th>B</th>\n",
       "      <th>C</th>\n",
       "      <th>D</th>\n",
       "      <th>E</th>\n",
       "    </tr>\n",
       "  </thead>\n",
       "  <tbody>\n",
       "    <tr>\n",
       "      <th>0</th>\n",
       "      <td>-1.914711</td>\n",
       "      <td>-0.002019</td>\n",
       "      <td>1.387434</td>\n",
       "      <td>0.543966</td>\n",
       "      <td>-0.218864</td>\n",
       "    </tr>\n",
       "    <tr>\n",
       "      <th>1</th>\n",
       "      <td>1.068507</td>\n",
       "      <td>-0.295374</td>\n",
       "      <td>-0.263047</td>\n",
       "      <td>0.302570</td>\n",
       "      <td>0.563027</td>\n",
       "    </tr>\n",
       "    <tr>\n",
       "      <th>2</th>\n",
       "      <td>-0.319268</td>\n",
       "      <td>0.132368</td>\n",
       "      <td>-0.077698</td>\n",
       "      <td>-0.440674</td>\n",
       "      <td>-0.350669</td>\n",
       "    </tr>\n",
       "    <tr>\n",
       "      <th>3</th>\n",
       "      <td>-1.051755</td>\n",
       "      <td>-0.000681</td>\n",
       "      <td>-0.529901</td>\n",
       "      <td>0.425359</td>\n",
       "      <td>-0.214126</td>\n",
       "    </tr>\n",
       "    <tr>\n",
       "      <th>4</th>\n",
       "      <td>1.071843</td>\n",
       "      <td>0.081798</td>\n",
       "      <td>1.213550</td>\n",
       "      <td>-0.662926</td>\n",
       "      <td>0.730024</td>\n",
       "    </tr>\n",
       "    <tr>\n",
       "      <th>5</th>\n",
       "      <td>-1.549474</td>\n",
       "      <td>-0.566583</td>\n",
       "      <td>0.532273</td>\n",
       "      <td>-0.091349</td>\n",
       "      <td>-0.499645</td>\n",
       "    </tr>\n",
       "    <tr>\n",
       "      <th>6</th>\n",
       "      <td>0.988605</td>\n",
       "      <td>0.226430</td>\n",
       "      <td>-0.443360</td>\n",
       "      <td>-1.682201</td>\n",
       "      <td>0.169488</td>\n",
       "    </tr>\n",
       "    <tr>\n",
       "      <th>7</th>\n",
       "      <td>1.028564</td>\n",
       "      <td>-0.809243</td>\n",
       "      <td>-2.020595</td>\n",
       "      <td>0.396693</td>\n",
       "      <td>-0.666677</td>\n",
       "    </tr>\n",
       "    <tr>\n",
       "      <th>8</th>\n",
       "      <td>-0.593141</td>\n",
       "      <td>0.567812</td>\n",
       "      <td>-0.364503</td>\n",
       "      <td>-1.786213</td>\n",
       "      <td>-0.654747</td>\n",
       "    </tr>\n",
       "    <tr>\n",
       "      <th>9</th>\n",
       "      <td>-0.344246</td>\n",
       "      <td>-0.115809</td>\n",
       "      <td>0.880579</td>\n",
       "      <td>-1.903800</td>\n",
       "      <td>0.697314</td>\n",
       "    </tr>\n",
       "  </tbody>\n",
       "</table>\n",
       "</div>"
      ],
      "text/plain": [
       "          A         B         C         D         E\n",
       "0 -1.914711 -0.002019  1.387434  0.543966 -0.218864\n",
       "1  1.068507 -0.295374 -0.263047  0.302570  0.563027\n",
       "2 -0.319268  0.132368 -0.077698 -0.440674 -0.350669\n",
       "3 -1.051755 -0.000681 -0.529901  0.425359 -0.214126\n",
       "4  1.071843  0.081798  1.213550 -0.662926  0.730024\n",
       "5 -1.549474 -0.566583  0.532273 -0.091349 -0.499645\n",
       "6  0.988605  0.226430 -0.443360 -1.682201  0.169488\n",
       "7  1.028564 -0.809243 -2.020595  0.396693 -0.666677\n",
       "8 -0.593141  0.567812 -0.364503 -1.786213 -0.654747\n",
       "9 -0.344246 -0.115809  0.880579 -1.903800  0.697314"
      ]
     },
     "execution_count": 43,
     "metadata": {},
     "output_type": "execute_result"
    }
   ],
   "source": [
    "a_.head(10)"
   ]
  },
  {
   "cell_type": "markdown",
   "id": "2b6c70e3-9600-47f0-bc39-794c0f50577a",
   "metadata": {},
   "source": [
    "## 18) Viewing the Last Five Rows of the DataFrame"
   ]
  },
  {
   "cell_type": "code",
   "execution_count": 44,
   "id": "5f670cce-0e6a-4daf-ae62-16093c236446",
   "metadata": {},
   "outputs": [
    {
     "data": {
      "text/html": [
       "<div>\n",
       "<style scoped>\n",
       "    .dataframe tbody tr th:only-of-type {\n",
       "        vertical-align: middle;\n",
       "    }\n",
       "\n",
       "    .dataframe tbody tr th {\n",
       "        vertical-align: top;\n",
       "    }\n",
       "\n",
       "    .dataframe thead th {\n",
       "        text-align: right;\n",
       "    }\n",
       "</style>\n",
       "<table border=\"1\" class=\"dataframe\">\n",
       "  <thead>\n",
       "    <tr style=\"text-align: right;\">\n",
       "      <th></th>\n",
       "      <th>A</th>\n",
       "      <th>B</th>\n",
       "      <th>C</th>\n",
       "      <th>D</th>\n",
       "      <th>E</th>\n",
       "    </tr>\n",
       "  </thead>\n",
       "  <tbody>\n",
       "    <tr>\n",
       "      <th>95</th>\n",
       "      <td>0.261348</td>\n",
       "      <td>0.970844</td>\n",
       "      <td>0.318032</td>\n",
       "      <td>1.552001</td>\n",
       "      <td>-0.229287</td>\n",
       "    </tr>\n",
       "    <tr>\n",
       "      <th>96</th>\n",
       "      <td>0.955046</td>\n",
       "      <td>-0.278354</td>\n",
       "      <td>0.674409</td>\n",
       "      <td>1.545745</td>\n",
       "      <td>-0.967440</td>\n",
       "    </tr>\n",
       "    <tr>\n",
       "      <th>97</th>\n",
       "      <td>0.280959</td>\n",
       "      <td>-0.587499</td>\n",
       "      <td>0.911280</td>\n",
       "      <td>-0.395575</td>\n",
       "      <td>-1.184867</td>\n",
       "    </tr>\n",
       "    <tr>\n",
       "      <th>98</th>\n",
       "      <td>2.332370</td>\n",
       "      <td>-0.571715</td>\n",
       "      <td>-1.748772</td>\n",
       "      <td>-1.627472</td>\n",
       "      <td>0.537277</td>\n",
       "    </tr>\n",
       "    <tr>\n",
       "      <th>99</th>\n",
       "      <td>0.957177</td>\n",
       "      <td>-1.372543</td>\n",
       "      <td>-0.833756</td>\n",
       "      <td>-1.115050</td>\n",
       "      <td>-1.756376</td>\n",
       "    </tr>\n",
       "  </tbody>\n",
       "</table>\n",
       "</div>"
      ],
      "text/plain": [
       "           A         B         C         D         E\n",
       "95  0.261348  0.970844  0.318032  1.552001 -0.229287\n",
       "96  0.955046 -0.278354  0.674409  1.545745 -0.967440\n",
       "97  0.280959 -0.587499  0.911280 -0.395575 -1.184867\n",
       "98  2.332370 -0.571715 -1.748772 -1.627472  0.537277\n",
       "99  0.957177 -1.372543 -0.833756 -1.115050 -1.756376"
      ]
     },
     "execution_count": 44,
     "metadata": {},
     "output_type": "execute_result"
    }
   ],
   "source": [
    "a_.tail()"
   ]
  },
  {
   "cell_type": "markdown",
   "id": "543e8277-fb9f-4ad3-8bf0-edae3b1ae757",
   "metadata": {},
   "source": [
    "## 19) Viewing the Last Ten Rows of the DataFrame"
   ]
  },
  {
   "cell_type": "code",
   "execution_count": 45,
   "id": "7e5b56d0-3377-4365-b6a7-e57d6eff3d38",
   "metadata": {},
   "outputs": [
    {
     "data": {
      "text/html": [
       "<div>\n",
       "<style scoped>\n",
       "    .dataframe tbody tr th:only-of-type {\n",
       "        vertical-align: middle;\n",
       "    }\n",
       "\n",
       "    .dataframe tbody tr th {\n",
       "        vertical-align: top;\n",
       "    }\n",
       "\n",
       "    .dataframe thead th {\n",
       "        text-align: right;\n",
       "    }\n",
       "</style>\n",
       "<table border=\"1\" class=\"dataframe\">\n",
       "  <thead>\n",
       "    <tr style=\"text-align: right;\">\n",
       "      <th></th>\n",
       "      <th>A</th>\n",
       "      <th>B</th>\n",
       "      <th>C</th>\n",
       "      <th>D</th>\n",
       "      <th>E</th>\n",
       "    </tr>\n",
       "  </thead>\n",
       "  <tbody>\n",
       "    <tr>\n",
       "      <th>90</th>\n",
       "      <td>0.488718</td>\n",
       "      <td>-0.327955</td>\n",
       "      <td>0.642974</td>\n",
       "      <td>-0.868400</td>\n",
       "      <td>1.766787</td>\n",
       "    </tr>\n",
       "    <tr>\n",
       "      <th>91</th>\n",
       "      <td>1.108552</td>\n",
       "      <td>0.948486</td>\n",
       "      <td>0.787398</td>\n",
       "      <td>-0.716789</td>\n",
       "      <td>-0.885965</td>\n",
       "    </tr>\n",
       "    <tr>\n",
       "      <th>92</th>\n",
       "      <td>2.249024</td>\n",
       "      <td>-0.544442</td>\n",
       "      <td>-1.228596</td>\n",
       "      <td>-0.413989</td>\n",
       "      <td>0.524860</td>\n",
       "    </tr>\n",
       "    <tr>\n",
       "      <th>93</th>\n",
       "      <td>-0.055240</td>\n",
       "      <td>-0.542990</td>\n",
       "      <td>-1.471368</td>\n",
       "      <td>-1.318913</td>\n",
       "      <td>0.383169</td>\n",
       "    </tr>\n",
       "    <tr>\n",
       "      <th>94</th>\n",
       "      <td>0.236425</td>\n",
       "      <td>-0.364435</td>\n",
       "      <td>-0.004251</td>\n",
       "      <td>1.439305</td>\n",
       "      <td>0.980492</td>\n",
       "    </tr>\n",
       "    <tr>\n",
       "      <th>95</th>\n",
       "      <td>0.261348</td>\n",
       "      <td>0.970844</td>\n",
       "      <td>0.318032</td>\n",
       "      <td>1.552001</td>\n",
       "      <td>-0.229287</td>\n",
       "    </tr>\n",
       "    <tr>\n",
       "      <th>96</th>\n",
       "      <td>0.955046</td>\n",
       "      <td>-0.278354</td>\n",
       "      <td>0.674409</td>\n",
       "      <td>1.545745</td>\n",
       "      <td>-0.967440</td>\n",
       "    </tr>\n",
       "    <tr>\n",
       "      <th>97</th>\n",
       "      <td>0.280959</td>\n",
       "      <td>-0.587499</td>\n",
       "      <td>0.911280</td>\n",
       "      <td>-0.395575</td>\n",
       "      <td>-1.184867</td>\n",
       "    </tr>\n",
       "    <tr>\n",
       "      <th>98</th>\n",
       "      <td>2.332370</td>\n",
       "      <td>-0.571715</td>\n",
       "      <td>-1.748772</td>\n",
       "      <td>-1.627472</td>\n",
       "      <td>0.537277</td>\n",
       "    </tr>\n",
       "    <tr>\n",
       "      <th>99</th>\n",
       "      <td>0.957177</td>\n",
       "      <td>-1.372543</td>\n",
       "      <td>-0.833756</td>\n",
       "      <td>-1.115050</td>\n",
       "      <td>-1.756376</td>\n",
       "    </tr>\n",
       "  </tbody>\n",
       "</table>\n",
       "</div>"
      ],
      "text/plain": [
       "           A         B         C         D         E\n",
       "90  0.488718 -0.327955  0.642974 -0.868400  1.766787\n",
       "91  1.108552  0.948486  0.787398 -0.716789 -0.885965\n",
       "92  2.249024 -0.544442 -1.228596 -0.413989  0.524860\n",
       "93 -0.055240 -0.542990 -1.471368 -1.318913  0.383169\n",
       "94  0.236425 -0.364435 -0.004251  1.439305  0.980492\n",
       "95  0.261348  0.970844  0.318032  1.552001 -0.229287\n",
       "96  0.955046 -0.278354  0.674409  1.545745 -0.967440\n",
       "97  0.280959 -0.587499  0.911280 -0.395575 -1.184867\n",
       "98  2.332370 -0.571715 -1.748772 -1.627472  0.537277\n",
       "99  0.957177 -1.372543 -0.833756 -1.115050 -1.756376"
      ]
     },
     "execution_count": 45,
     "metadata": {},
     "output_type": "execute_result"
    }
   ],
   "source": [
    "a_.tail(10)"
   ]
  },
  {
   "cell_type": "markdown",
   "id": "d8fa34db-8be1-4340-8eaf-d92d0729bc01",
   "metadata": {},
   "source": [
    "## 20) Getting Information About the DataFrame"
   ]
  },
  {
   "cell_type": "code",
   "execution_count": 46,
   "id": "c7f54e6d-2f5f-4a46-ae58-815c97f092cd",
   "metadata": {},
   "outputs": [
    {
     "name": "stdout",
     "output_type": "stream",
     "text": [
      "<class 'pandas.core.frame.DataFrame'>\n",
      "RangeIndex: 100 entries, 0 to 99\n",
      "Data columns (total 5 columns):\n",
      " #   Column  Non-Null Count  Dtype  \n",
      "---  ------  --------------  -----  \n",
      " 0   A       100 non-null    float64\n",
      " 1   B       100 non-null    float64\n",
      " 2   C       100 non-null    float64\n",
      " 3   D       100 non-null    float64\n",
      " 4   E       100 non-null    float64\n",
      "dtypes: float64(5)\n",
      "memory usage: 4.0 KB\n"
     ]
    }
   ],
   "source": [
    "a_.info()"
   ]
  },
  {
   "cell_type": "markdown",
   "id": "fc5fd6fb-a0bf-4b85-9706-f4b2ff3d35bb",
   "metadata": {},
   "source": [
    "## 21) Getting the Shape of the DataFrame"
   ]
  },
  {
   "cell_type": "code",
   "execution_count": 47,
   "id": "ea318bcf-3ae5-4650-9796-f1a3bcdbb6cd",
   "metadata": {},
   "outputs": [
    {
     "data": {
      "text/plain": [
       "(100, 5)"
      ]
     },
     "execution_count": 47,
     "metadata": {},
     "output_type": "execute_result"
    }
   ],
   "source": [
    "a_.shape"
   ]
  },
  {
   "cell_type": "markdown",
   "id": "763905ef-94f9-4b90-9ae5-eb5b189dce5e",
   "metadata": {},
   "source": [
    "## 22) Getting Descriptive Statistics of the DataFrame"
   ]
  },
  {
   "cell_type": "code",
   "execution_count": 48,
   "id": "24f7cc92-6af2-47ed-89a2-78479b12fd5c",
   "metadata": {},
   "outputs": [
    {
     "data": {
      "text/html": [
       "<div>\n",
       "<style scoped>\n",
       "    .dataframe tbody tr th:only-of-type {\n",
       "        vertical-align: middle;\n",
       "    }\n",
       "\n",
       "    .dataframe tbody tr th {\n",
       "        vertical-align: top;\n",
       "    }\n",
       "\n",
       "    .dataframe thead th {\n",
       "        text-align: right;\n",
       "    }\n",
       "</style>\n",
       "<table border=\"1\" class=\"dataframe\">\n",
       "  <thead>\n",
       "    <tr style=\"text-align: right;\">\n",
       "      <th></th>\n",
       "      <th>A</th>\n",
       "      <th>B</th>\n",
       "      <th>C</th>\n",
       "      <th>D</th>\n",
       "      <th>E</th>\n",
       "    </tr>\n",
       "  </thead>\n",
       "  <tbody>\n",
       "    <tr>\n",
       "      <th>count</th>\n",
       "      <td>100.000000</td>\n",
       "      <td>100.000000</td>\n",
       "      <td>100.000000</td>\n",
       "      <td>100.000000</td>\n",
       "      <td>100.000000</td>\n",
       "    </tr>\n",
       "    <tr>\n",
       "      <th>mean</th>\n",
       "      <td>-0.092019</td>\n",
       "      <td>0.002187</td>\n",
       "      <td>0.023218</td>\n",
       "      <td>-0.143945</td>\n",
       "      <td>-0.199020</td>\n",
       "    </tr>\n",
       "    <tr>\n",
       "      <th>std</th>\n",
       "      <td>1.146341</td>\n",
       "      <td>0.960349</td>\n",
       "      <td>0.960551</td>\n",
       "      <td>0.953628</td>\n",
       "      <td>1.038314</td>\n",
       "    </tr>\n",
       "    <tr>\n",
       "      <th>min</th>\n",
       "      <td>-2.314232</td>\n",
       "      <td>-3.111751</td>\n",
       "      <td>-2.154717</td>\n",
       "      <td>-1.915980</td>\n",
       "      <td>-2.710774</td>\n",
       "    </tr>\n",
       "    <tr>\n",
       "      <th>25%</th>\n",
       "      <td>-0.763541</td>\n",
       "      <td>-0.613899</td>\n",
       "      <td>-0.565997</td>\n",
       "      <td>-0.842120</td>\n",
       "      <td>-0.861494</td>\n",
       "    </tr>\n",
       "    <tr>\n",
       "      <th>50%</th>\n",
       "      <td>0.040140</td>\n",
       "      <td>0.015377</td>\n",
       "      <td>-0.031659</td>\n",
       "      <td>-0.266038</td>\n",
       "      <td>-0.224076</td>\n",
       "    </tr>\n",
       "    <tr>\n",
       "      <th>75%</th>\n",
       "      <td>0.621651</td>\n",
       "      <td>0.670366</td>\n",
       "      <td>0.721480</td>\n",
       "      <td>0.407687</td>\n",
       "      <td>0.496625</td>\n",
       "    </tr>\n",
       "    <tr>\n",
       "      <th>max</th>\n",
       "      <td>3.594472</td>\n",
       "      <td>2.750569</td>\n",
       "      <td>2.566023</td>\n",
       "      <td>2.518600</td>\n",
       "      <td>2.663914</td>\n",
       "    </tr>\n",
       "  </tbody>\n",
       "</table>\n",
       "</div>"
      ],
      "text/plain": [
       "                A           B           C           D           E\n",
       "count  100.000000  100.000000  100.000000  100.000000  100.000000\n",
       "mean    -0.092019    0.002187    0.023218   -0.143945   -0.199020\n",
       "std      1.146341    0.960349    0.960551    0.953628    1.038314\n",
       "min     -2.314232   -3.111751   -2.154717   -1.915980   -2.710774\n",
       "25%     -0.763541   -0.613899   -0.565997   -0.842120   -0.861494\n",
       "50%      0.040140    0.015377   -0.031659   -0.266038   -0.224076\n",
       "75%      0.621651    0.670366    0.721480    0.407687    0.496625\n",
       "max      3.594472    2.750569    2.566023    2.518600    2.663914"
      ]
     },
     "execution_count": 48,
     "metadata": {},
     "output_type": "execute_result"
    }
   ],
   "source": [
    "a_.describe()"
   ]
  }
 ],
 "metadata": {
  "kernelspec": {
   "display_name": "Python 3 (ipykernel)",
   "language": "python",
   "name": "python3"
  },
  "language_info": {
   "codemirror_mode": {
    "name": "ipython",
    "version": 3
   },
   "file_extension": ".py",
   "mimetype": "text/x-python",
   "name": "python",
   "nbconvert_exporter": "python",
   "pygments_lexer": "ipython3",
   "version": "3.13.5"
  }
 },
 "nbformat": 4,
 "nbformat_minor": 5
}
