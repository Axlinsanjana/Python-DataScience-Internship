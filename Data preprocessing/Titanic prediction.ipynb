{
 "cells": [
  {
   "cell_type": "markdown",
   "id": "9b7c9ff7-ad69-4feb-9b84-b7d720cefa8f",
   "metadata": {},
   "source": [
    "<center><h1><b>Titanic Dataset Analysis</h1></center>"
   ]
  },
  {
   "cell_type": "markdown",
   "id": "1d983007-c62a-46af-a2ae-5218fdc05b63",
   "metadata": {
    "jp-MarkdownHeadingCollapsed": true
   },
   "source": [
    "# Introduction\n",
    "This notebook analyzes the Titanic dataset to explore factors affecting passenger survival.\n",
    "We clean the data, explore variables, visualize patterns, and draw conclusions that can guide predictive modelling.\n"
   ]
  },
  {
   "cell_type": "markdown",
   "id": "e491837c-8ede-4f44-b4e3-052accdc9980",
   "metadata": {},
   "source": [
    "# I) Understanding the Data   \n",
    "**Understanding the Data:**   \n",
    "The dataset contains information about passengers on the RMS Titanic. Each row represents a single passenger, and the columns include demographic details (such as Name, Age, and Sex), socio-economic status indicators (like Passenger Class, Ticket, and Fare), and family relationships aboard (SibSp for siblings/spouses, Parch for parents/children). The key target column, Survived, indicates whether the passenger survived (1) or did not survive (0). This structure enables analysis of survival patterns based on age, gender, class, and other factors, and supports building predictive models for survival outcomes."
   ]
  },
  {
   "cell_type": "markdown",
   "id": "27f22bbf-8bef-43d8-b568-0bc81d866f28",
   "metadata": {},
   "source": [
    "## 1) Importing Essential Libraries"
   ]
  },
  {
   "cell_type": "code",
   "execution_count": 34,
   "id": "ff62022b-2326-43c2-bff0-fc5f1b752c16",
   "metadata": {},
   "outputs": [],
   "source": [
    "#Importing Libraries:\n",
    "import pandas as pd\n",
    "import matplotlib.pyplot as plt\n",
    "import seaborn as sns"
   ]
  },
  {
   "cell_type": "markdown",
   "id": "d2528ddb-3199-46f9-a12c-8803d298eab5",
   "metadata": {},
   "source": [
    "## 2) Reading data"
   ]
  },
  {
   "cell_type": "code",
   "execution_count": 35,
   "id": "12e4cabe-bc0e-4ce5-96ec-090f87918174",
   "metadata": {},
   "outputs": [
    {
     "data": {
      "text/html": [
       "<div>\n",
       "<style scoped>\n",
       "    .dataframe tbody tr th:only-of-type {\n",
       "        vertical-align: middle;\n",
       "    }\n",
       "\n",
       "    .dataframe tbody tr th {\n",
       "        vertical-align: top;\n",
       "    }\n",
       "\n",
       "    .dataframe thead th {\n",
       "        text-align: right;\n",
       "    }\n",
       "</style>\n",
       "<table border=\"1\" class=\"dataframe\">\n",
       "  <thead>\n",
       "    <tr style=\"text-align: right;\">\n",
       "      <th></th>\n",
       "      <th>PassengerId</th>\n",
       "      <th>Survived</th>\n",
       "      <th>Pclass</th>\n",
       "      <th>Name</th>\n",
       "      <th>Sex</th>\n",
       "      <th>Age</th>\n",
       "      <th>SibSp</th>\n",
       "      <th>Parch</th>\n",
       "      <th>Ticket</th>\n",
       "      <th>Fare</th>\n",
       "      <th>Cabin</th>\n",
       "      <th>Embarked</th>\n",
       "    </tr>\n",
       "  </thead>\n",
       "  <tbody>\n",
       "    <tr>\n",
       "      <th>0</th>\n",
       "      <td>1</td>\n",
       "      <td>0</td>\n",
       "      <td>3</td>\n",
       "      <td>Braund, Mr. Owen Harris</td>\n",
       "      <td>male</td>\n",
       "      <td>22.0</td>\n",
       "      <td>1</td>\n",
       "      <td>0</td>\n",
       "      <td>A/5 21171</td>\n",
       "      <td>7.2500</td>\n",
       "      <td>NaN</td>\n",
       "      <td>S</td>\n",
       "    </tr>\n",
       "    <tr>\n",
       "      <th>1</th>\n",
       "      <td>2</td>\n",
       "      <td>1</td>\n",
       "      <td>1</td>\n",
       "      <td>Cumings, Mrs. John Bradley (Florence Briggs Th...</td>\n",
       "      <td>female</td>\n",
       "      <td>38.0</td>\n",
       "      <td>1</td>\n",
       "      <td>0</td>\n",
       "      <td>PC 17599</td>\n",
       "      <td>71.2833</td>\n",
       "      <td>C85</td>\n",
       "      <td>C</td>\n",
       "    </tr>\n",
       "    <tr>\n",
       "      <th>2</th>\n",
       "      <td>3</td>\n",
       "      <td>1</td>\n",
       "      <td>3</td>\n",
       "      <td>Heikkinen, Miss. Laina</td>\n",
       "      <td>female</td>\n",
       "      <td>26.0</td>\n",
       "      <td>0</td>\n",
       "      <td>0</td>\n",
       "      <td>STON/O2. 3101282</td>\n",
       "      <td>7.9250</td>\n",
       "      <td>NaN</td>\n",
       "      <td>S</td>\n",
       "    </tr>\n",
       "    <tr>\n",
       "      <th>3</th>\n",
       "      <td>4</td>\n",
       "      <td>1</td>\n",
       "      <td>1</td>\n",
       "      <td>Futrelle, Mrs. Jacques Heath (Lily May Peel)</td>\n",
       "      <td>female</td>\n",
       "      <td>35.0</td>\n",
       "      <td>1</td>\n",
       "      <td>0</td>\n",
       "      <td>113803</td>\n",
       "      <td>53.1000</td>\n",
       "      <td>C123</td>\n",
       "      <td>S</td>\n",
       "    </tr>\n",
       "    <tr>\n",
       "      <th>4</th>\n",
       "      <td>5</td>\n",
       "      <td>0</td>\n",
       "      <td>3</td>\n",
       "      <td>Allen, Mr. William Henry</td>\n",
       "      <td>male</td>\n",
       "      <td>35.0</td>\n",
       "      <td>0</td>\n",
       "      <td>0</td>\n",
       "      <td>373450</td>\n",
       "      <td>8.0500</td>\n",
       "      <td>NaN</td>\n",
       "      <td>S</td>\n",
       "    </tr>\n",
       "    <tr>\n",
       "      <th>...</th>\n",
       "      <td>...</td>\n",
       "      <td>...</td>\n",
       "      <td>...</td>\n",
       "      <td>...</td>\n",
       "      <td>...</td>\n",
       "      <td>...</td>\n",
       "      <td>...</td>\n",
       "      <td>...</td>\n",
       "      <td>...</td>\n",
       "      <td>...</td>\n",
       "      <td>...</td>\n",
       "      <td>...</td>\n",
       "    </tr>\n",
       "    <tr>\n",
       "      <th>886</th>\n",
       "      <td>887</td>\n",
       "      <td>0</td>\n",
       "      <td>2</td>\n",
       "      <td>Montvila, Rev. Juozas</td>\n",
       "      <td>male</td>\n",
       "      <td>27.0</td>\n",
       "      <td>0</td>\n",
       "      <td>0</td>\n",
       "      <td>211536</td>\n",
       "      <td>13.0000</td>\n",
       "      <td>NaN</td>\n",
       "      <td>S</td>\n",
       "    </tr>\n",
       "    <tr>\n",
       "      <th>887</th>\n",
       "      <td>888</td>\n",
       "      <td>1</td>\n",
       "      <td>1</td>\n",
       "      <td>Graham, Miss. Margaret Edith</td>\n",
       "      <td>female</td>\n",
       "      <td>19.0</td>\n",
       "      <td>0</td>\n",
       "      <td>0</td>\n",
       "      <td>112053</td>\n",
       "      <td>30.0000</td>\n",
       "      <td>B42</td>\n",
       "      <td>S</td>\n",
       "    </tr>\n",
       "    <tr>\n",
       "      <th>888</th>\n",
       "      <td>889</td>\n",
       "      <td>0</td>\n",
       "      <td>3</td>\n",
       "      <td>Johnston, Miss. Catherine Helen \"Carrie\"</td>\n",
       "      <td>female</td>\n",
       "      <td>NaN</td>\n",
       "      <td>1</td>\n",
       "      <td>2</td>\n",
       "      <td>W./C. 6607</td>\n",
       "      <td>23.4500</td>\n",
       "      <td>NaN</td>\n",
       "      <td>S</td>\n",
       "    </tr>\n",
       "    <tr>\n",
       "      <th>889</th>\n",
       "      <td>890</td>\n",
       "      <td>1</td>\n",
       "      <td>1</td>\n",
       "      <td>Behr, Mr. Karl Howell</td>\n",
       "      <td>male</td>\n",
       "      <td>26.0</td>\n",
       "      <td>0</td>\n",
       "      <td>0</td>\n",
       "      <td>111369</td>\n",
       "      <td>30.0000</td>\n",
       "      <td>C148</td>\n",
       "      <td>C</td>\n",
       "    </tr>\n",
       "    <tr>\n",
       "      <th>890</th>\n",
       "      <td>891</td>\n",
       "      <td>0</td>\n",
       "      <td>3</td>\n",
       "      <td>Dooley, Mr. Patrick</td>\n",
       "      <td>male</td>\n",
       "      <td>32.0</td>\n",
       "      <td>0</td>\n",
       "      <td>0</td>\n",
       "      <td>370376</td>\n",
       "      <td>7.7500</td>\n",
       "      <td>NaN</td>\n",
       "      <td>Q</td>\n",
       "    </tr>\n",
       "  </tbody>\n",
       "</table>\n",
       "<p>891 rows × 12 columns</p>\n",
       "</div>"
      ],
      "text/plain": [
       "     PassengerId  Survived  Pclass  \\\n",
       "0              1         0       3   \n",
       "1              2         1       1   \n",
       "2              3         1       3   \n",
       "3              4         1       1   \n",
       "4              5         0       3   \n",
       "..           ...       ...     ...   \n",
       "886          887         0       2   \n",
       "887          888         1       1   \n",
       "888          889         0       3   \n",
       "889          890         1       1   \n",
       "890          891         0       3   \n",
       "\n",
       "                                                  Name     Sex   Age  SibSp  \\\n",
       "0                              Braund, Mr. Owen Harris    male  22.0      1   \n",
       "1    Cumings, Mrs. John Bradley (Florence Briggs Th...  female  38.0      1   \n",
       "2                               Heikkinen, Miss. Laina  female  26.0      0   \n",
       "3         Futrelle, Mrs. Jacques Heath (Lily May Peel)  female  35.0      1   \n",
       "4                             Allen, Mr. William Henry    male  35.0      0   \n",
       "..                                                 ...     ...   ...    ...   \n",
       "886                              Montvila, Rev. Juozas    male  27.0      0   \n",
       "887                       Graham, Miss. Margaret Edith  female  19.0      0   \n",
       "888           Johnston, Miss. Catherine Helen \"Carrie\"  female   NaN      1   \n",
       "889                              Behr, Mr. Karl Howell    male  26.0      0   \n",
       "890                                Dooley, Mr. Patrick    male  32.0      0   \n",
       "\n",
       "     Parch            Ticket     Fare Cabin Embarked  \n",
       "0        0         A/5 21171   7.2500   NaN        S  \n",
       "1        0          PC 17599  71.2833   C85        C  \n",
       "2        0  STON/O2. 3101282   7.9250   NaN        S  \n",
       "3        0            113803  53.1000  C123        S  \n",
       "4        0            373450   8.0500   NaN        S  \n",
       "..     ...               ...      ...   ...      ...  \n",
       "886      0            211536  13.0000   NaN        S  \n",
       "887      0            112053  30.0000   B42        S  \n",
       "888      2        W./C. 6607  23.4500   NaN        S  \n",
       "889      0            111369  30.0000  C148        C  \n",
       "890      0            370376   7.7500   NaN        Q  \n",
       "\n",
       "[891 rows x 12 columns]"
      ]
     },
     "execution_count": 35,
     "metadata": {},
     "output_type": "execute_result"
    }
   ],
   "source": [
    "#Importing csv File:\n",
    "df = pd.read_csv(r\"S:\\Jupyter Notebook\\Data Science Internship/Dataset/titanic.csv\")\n",
    "df"
   ]
  },
  {
   "cell_type": "markdown",
   "id": "11736725-46a2-4220-b096-1c8f48c32889",
   "metadata": {},
   "source": [
    "## 3) Data Exploration"
   ]
  },
  {
   "cell_type": "markdown",
   "id": "c7c1f5df-cd9a-4431-8476-2591a03646be",
   "metadata": {},
   "source": [
    "### i) First 5 Records:"
   ]
  },
  {
   "cell_type": "code",
   "execution_count": 36,
   "id": "cd3f8246-0748-4adf-948b-88e1cd765b53",
   "metadata": {},
   "outputs": [
    {
     "data": {
      "text/html": [
       "<div>\n",
       "<style scoped>\n",
       "    .dataframe tbody tr th:only-of-type {\n",
       "        vertical-align: middle;\n",
       "    }\n",
       "\n",
       "    .dataframe tbody tr th {\n",
       "        vertical-align: top;\n",
       "    }\n",
       "\n",
       "    .dataframe thead th {\n",
       "        text-align: right;\n",
       "    }\n",
       "</style>\n",
       "<table border=\"1\" class=\"dataframe\">\n",
       "  <thead>\n",
       "    <tr style=\"text-align: right;\">\n",
       "      <th></th>\n",
       "      <th>PassengerId</th>\n",
       "      <th>Survived</th>\n",
       "      <th>Pclass</th>\n",
       "      <th>Name</th>\n",
       "      <th>Sex</th>\n",
       "      <th>Age</th>\n",
       "      <th>SibSp</th>\n",
       "      <th>Parch</th>\n",
       "      <th>Ticket</th>\n",
       "      <th>Fare</th>\n",
       "      <th>Cabin</th>\n",
       "      <th>Embarked</th>\n",
       "    </tr>\n",
       "  </thead>\n",
       "  <tbody>\n",
       "    <tr>\n",
       "      <th>0</th>\n",
       "      <td>1</td>\n",
       "      <td>0</td>\n",
       "      <td>3</td>\n",
       "      <td>Braund, Mr. Owen Harris</td>\n",
       "      <td>male</td>\n",
       "      <td>22.0</td>\n",
       "      <td>1</td>\n",
       "      <td>0</td>\n",
       "      <td>A/5 21171</td>\n",
       "      <td>7.2500</td>\n",
       "      <td>NaN</td>\n",
       "      <td>S</td>\n",
       "    </tr>\n",
       "    <tr>\n",
       "      <th>1</th>\n",
       "      <td>2</td>\n",
       "      <td>1</td>\n",
       "      <td>1</td>\n",
       "      <td>Cumings, Mrs. John Bradley (Florence Briggs Th...</td>\n",
       "      <td>female</td>\n",
       "      <td>38.0</td>\n",
       "      <td>1</td>\n",
       "      <td>0</td>\n",
       "      <td>PC 17599</td>\n",
       "      <td>71.2833</td>\n",
       "      <td>C85</td>\n",
       "      <td>C</td>\n",
       "    </tr>\n",
       "    <tr>\n",
       "      <th>2</th>\n",
       "      <td>3</td>\n",
       "      <td>1</td>\n",
       "      <td>3</td>\n",
       "      <td>Heikkinen, Miss. Laina</td>\n",
       "      <td>female</td>\n",
       "      <td>26.0</td>\n",
       "      <td>0</td>\n",
       "      <td>0</td>\n",
       "      <td>STON/O2. 3101282</td>\n",
       "      <td>7.9250</td>\n",
       "      <td>NaN</td>\n",
       "      <td>S</td>\n",
       "    </tr>\n",
       "    <tr>\n",
       "      <th>3</th>\n",
       "      <td>4</td>\n",
       "      <td>1</td>\n",
       "      <td>1</td>\n",
       "      <td>Futrelle, Mrs. Jacques Heath (Lily May Peel)</td>\n",
       "      <td>female</td>\n",
       "      <td>35.0</td>\n",
       "      <td>1</td>\n",
       "      <td>0</td>\n",
       "      <td>113803</td>\n",
       "      <td>53.1000</td>\n",
       "      <td>C123</td>\n",
       "      <td>S</td>\n",
       "    </tr>\n",
       "    <tr>\n",
       "      <th>4</th>\n",
       "      <td>5</td>\n",
       "      <td>0</td>\n",
       "      <td>3</td>\n",
       "      <td>Allen, Mr. William Henry</td>\n",
       "      <td>male</td>\n",
       "      <td>35.0</td>\n",
       "      <td>0</td>\n",
       "      <td>0</td>\n",
       "      <td>373450</td>\n",
       "      <td>8.0500</td>\n",
       "      <td>NaN</td>\n",
       "      <td>S</td>\n",
       "    </tr>\n",
       "  </tbody>\n",
       "</table>\n",
       "</div>"
      ],
      "text/plain": [
       "   PassengerId  Survived  Pclass  \\\n",
       "0            1         0       3   \n",
       "1            2         1       1   \n",
       "2            3         1       3   \n",
       "3            4         1       1   \n",
       "4            5         0       3   \n",
       "\n",
       "                                                Name     Sex   Age  SibSp  \\\n",
       "0                            Braund, Mr. Owen Harris    male  22.0      1   \n",
       "1  Cumings, Mrs. John Bradley (Florence Briggs Th...  female  38.0      1   \n",
       "2                             Heikkinen, Miss. Laina  female  26.0      0   \n",
       "3       Futrelle, Mrs. Jacques Heath (Lily May Peel)  female  35.0      1   \n",
       "4                           Allen, Mr. William Henry    male  35.0      0   \n",
       "\n",
       "   Parch            Ticket     Fare Cabin Embarked  \n",
       "0      0         A/5 21171   7.2500   NaN        S  \n",
       "1      0          PC 17599  71.2833   C85        C  \n",
       "2      0  STON/O2. 3101282   7.9250   NaN        S  \n",
       "3      0            113803  53.1000  C123        S  \n",
       "4      0            373450   8.0500   NaN        S  "
      ]
     },
     "execution_count": 36,
     "metadata": {},
     "output_type": "execute_result"
    }
   ],
   "source": [
    "#head of the data:\n",
    "df.head()"
   ]
  },
  {
   "cell_type": "markdown",
   "id": "90190ca6-3b42-48c7-a425-98b65a3b64b6",
   "metadata": {},
   "source": [
    "### ii) Last 5 Records:"
   ]
  },
  {
   "cell_type": "code",
   "execution_count": 37,
   "id": "4039191c-442b-4d57-9a3e-8367e7b90fbb",
   "metadata": {},
   "outputs": [
    {
     "data": {
      "text/html": [
       "<div>\n",
       "<style scoped>\n",
       "    .dataframe tbody tr th:only-of-type {\n",
       "        vertical-align: middle;\n",
       "    }\n",
       "\n",
       "    .dataframe tbody tr th {\n",
       "        vertical-align: top;\n",
       "    }\n",
       "\n",
       "    .dataframe thead th {\n",
       "        text-align: right;\n",
       "    }\n",
       "</style>\n",
       "<table border=\"1\" class=\"dataframe\">\n",
       "  <thead>\n",
       "    <tr style=\"text-align: right;\">\n",
       "      <th></th>\n",
       "      <th>PassengerId</th>\n",
       "      <th>Survived</th>\n",
       "      <th>Pclass</th>\n",
       "      <th>Name</th>\n",
       "      <th>Sex</th>\n",
       "      <th>Age</th>\n",
       "      <th>SibSp</th>\n",
       "      <th>Parch</th>\n",
       "      <th>Ticket</th>\n",
       "      <th>Fare</th>\n",
       "      <th>Cabin</th>\n",
       "      <th>Embarked</th>\n",
       "    </tr>\n",
       "  </thead>\n",
       "  <tbody>\n",
       "    <tr>\n",
       "      <th>886</th>\n",
       "      <td>887</td>\n",
       "      <td>0</td>\n",
       "      <td>2</td>\n",
       "      <td>Montvila, Rev. Juozas</td>\n",
       "      <td>male</td>\n",
       "      <td>27.0</td>\n",
       "      <td>0</td>\n",
       "      <td>0</td>\n",
       "      <td>211536</td>\n",
       "      <td>13.00</td>\n",
       "      <td>NaN</td>\n",
       "      <td>S</td>\n",
       "    </tr>\n",
       "    <tr>\n",
       "      <th>887</th>\n",
       "      <td>888</td>\n",
       "      <td>1</td>\n",
       "      <td>1</td>\n",
       "      <td>Graham, Miss. Margaret Edith</td>\n",
       "      <td>female</td>\n",
       "      <td>19.0</td>\n",
       "      <td>0</td>\n",
       "      <td>0</td>\n",
       "      <td>112053</td>\n",
       "      <td>30.00</td>\n",
       "      <td>B42</td>\n",
       "      <td>S</td>\n",
       "    </tr>\n",
       "    <tr>\n",
       "      <th>888</th>\n",
       "      <td>889</td>\n",
       "      <td>0</td>\n",
       "      <td>3</td>\n",
       "      <td>Johnston, Miss. Catherine Helen \"Carrie\"</td>\n",
       "      <td>female</td>\n",
       "      <td>NaN</td>\n",
       "      <td>1</td>\n",
       "      <td>2</td>\n",
       "      <td>W./C. 6607</td>\n",
       "      <td>23.45</td>\n",
       "      <td>NaN</td>\n",
       "      <td>S</td>\n",
       "    </tr>\n",
       "    <tr>\n",
       "      <th>889</th>\n",
       "      <td>890</td>\n",
       "      <td>1</td>\n",
       "      <td>1</td>\n",
       "      <td>Behr, Mr. Karl Howell</td>\n",
       "      <td>male</td>\n",
       "      <td>26.0</td>\n",
       "      <td>0</td>\n",
       "      <td>0</td>\n",
       "      <td>111369</td>\n",
       "      <td>30.00</td>\n",
       "      <td>C148</td>\n",
       "      <td>C</td>\n",
       "    </tr>\n",
       "    <tr>\n",
       "      <th>890</th>\n",
       "      <td>891</td>\n",
       "      <td>0</td>\n",
       "      <td>3</td>\n",
       "      <td>Dooley, Mr. Patrick</td>\n",
       "      <td>male</td>\n",
       "      <td>32.0</td>\n",
       "      <td>0</td>\n",
       "      <td>0</td>\n",
       "      <td>370376</td>\n",
       "      <td>7.75</td>\n",
       "      <td>NaN</td>\n",
       "      <td>Q</td>\n",
       "    </tr>\n",
       "  </tbody>\n",
       "</table>\n",
       "</div>"
      ],
      "text/plain": [
       "     PassengerId  Survived  Pclass                                      Name  \\\n",
       "886          887         0       2                     Montvila, Rev. Juozas   \n",
       "887          888         1       1              Graham, Miss. Margaret Edith   \n",
       "888          889         0       3  Johnston, Miss. Catherine Helen \"Carrie\"   \n",
       "889          890         1       1                     Behr, Mr. Karl Howell   \n",
       "890          891         0       3                       Dooley, Mr. Patrick   \n",
       "\n",
       "        Sex   Age  SibSp  Parch      Ticket   Fare Cabin Embarked  \n",
       "886    male  27.0      0      0      211536  13.00   NaN        S  \n",
       "887  female  19.0      0      0      112053  30.00   B42        S  \n",
       "888  female   NaN      1      2  W./C. 6607  23.45   NaN        S  \n",
       "889    male  26.0      0      0      111369  30.00  C148        C  \n",
       "890    male  32.0      0      0      370376   7.75   NaN        Q  "
      ]
     },
     "execution_count": 37,
     "metadata": {},
     "output_type": "execute_result"
    }
   ],
   "source": [
    "#tail of the data:\n",
    "df.tail()"
   ]
  },
  {
   "cell_type": "markdown",
   "id": "5ee419b3-2955-4136-871e-b3276a6e16d7",
   "metadata": {},
   "source": [
    "# II) Understanding Variables"
   ]
  },
  {
   "cell_type": "markdown",
   "id": "17921d2a-286c-45dc-80c6-7e0f59543a9e",
   "metadata": {},
   "source": [
    "## 1) Overview of Dataset Variables"
   ]
  },
  {
   "cell_type": "markdown",
   "id": "2c60ec05-b8d5-4f4f-9e39-67bb6e876547",
   "metadata": {},
   "source": [
    "### i) Column Names"
   ]
  },
  {
   "cell_type": "code",
   "execution_count": 38,
   "id": "08b46b1f-579b-4cb5-8810-cc3a4e661e03",
   "metadata": {},
   "outputs": [
    {
     "name": "stdout",
     "output_type": "stream",
     "text": [
      "Colums Names:\n",
      "Index(['PassengerId', 'Survived', 'Pclass', 'Name', 'Sex', 'Age', 'SibSp',\n",
      "       'Parch', 'Ticket', 'Fare', 'Cabin', 'Embarked'],\n",
      "      dtype='object')\n"
     ]
    }
   ],
   "source": [
    "#Column names:\n",
    "print('Colums Names:')\n",
    "print(df.columns)"
   ]
  },
  {
   "cell_type": "markdown",
   "id": "0bb70082-10a6-4d8f-a92a-689bf0870b0a",
   "metadata": {},
   "source": [
    "### ii) Overview of Column Data Types:"
   ]
  },
  {
   "cell_type": "code",
   "execution_count": 39,
   "id": "7bb860e5-d813-4b79-8fc9-85b1e1021ec4",
   "metadata": {},
   "outputs": [
    {
     "name": "stdout",
     "output_type": "stream",
     "text": [
      "Data Types:\n",
      "PassengerId      int64\n",
      "Survived         int64\n",
      "Pclass           int64\n",
      "Name            object\n",
      "Sex             object\n",
      "Age            float64\n",
      "SibSp            int64\n",
      "Parch            int64\n",
      "Ticket          object\n",
      "Fare           float64\n",
      "Cabin           object\n",
      "Embarked        object\n",
      "dtype: object\n"
     ]
    }
   ],
   "source": [
    "#Datatypes:\n",
    "print('Data Types:')\n",
    "print(df.dtypes)"
   ]
  },
  {
   "cell_type": "markdown",
   "id": "d13050d9-1ebd-4467-9504-e6c786fb9d1b",
   "metadata": {},
   "source": [
    "## 2) Statistical Summary of Numerical Variables"
   ]
  },
  {
   "cell_type": "code",
   "execution_count": 40,
   "id": "d3969867-415f-47b5-82a5-f5813d29ca95",
   "metadata": {},
   "outputs": [
    {
     "data": {
      "text/html": [
       "<div>\n",
       "<style scoped>\n",
       "    .dataframe tbody tr th:only-of-type {\n",
       "        vertical-align: middle;\n",
       "    }\n",
       "\n",
       "    .dataframe tbody tr th {\n",
       "        vertical-align: top;\n",
       "    }\n",
       "\n",
       "    .dataframe thead th {\n",
       "        text-align: right;\n",
       "    }\n",
       "</style>\n",
       "<table border=\"1\" class=\"dataframe\">\n",
       "  <thead>\n",
       "    <tr style=\"text-align: right;\">\n",
       "      <th></th>\n",
       "      <th>PassengerId</th>\n",
       "      <th>Survived</th>\n",
       "      <th>Pclass</th>\n",
       "      <th>Age</th>\n",
       "      <th>SibSp</th>\n",
       "      <th>Parch</th>\n",
       "      <th>Fare</th>\n",
       "    </tr>\n",
       "  </thead>\n",
       "  <tbody>\n",
       "    <tr>\n",
       "      <th>count</th>\n",
       "      <td>891.000000</td>\n",
       "      <td>891.000000</td>\n",
       "      <td>891.000000</td>\n",
       "      <td>714.000000</td>\n",
       "      <td>891.000000</td>\n",
       "      <td>891.000000</td>\n",
       "      <td>891.000000</td>\n",
       "    </tr>\n",
       "    <tr>\n",
       "      <th>mean</th>\n",
       "      <td>446.000000</td>\n",
       "      <td>0.383838</td>\n",
       "      <td>2.308642</td>\n",
       "      <td>29.699118</td>\n",
       "      <td>0.523008</td>\n",
       "      <td>0.381594</td>\n",
       "      <td>32.204208</td>\n",
       "    </tr>\n",
       "    <tr>\n",
       "      <th>std</th>\n",
       "      <td>257.353842</td>\n",
       "      <td>0.486592</td>\n",
       "      <td>0.836071</td>\n",
       "      <td>14.526497</td>\n",
       "      <td>1.102743</td>\n",
       "      <td>0.806057</td>\n",
       "      <td>49.693429</td>\n",
       "    </tr>\n",
       "    <tr>\n",
       "      <th>min</th>\n",
       "      <td>1.000000</td>\n",
       "      <td>0.000000</td>\n",
       "      <td>1.000000</td>\n",
       "      <td>0.420000</td>\n",
       "      <td>0.000000</td>\n",
       "      <td>0.000000</td>\n",
       "      <td>0.000000</td>\n",
       "    </tr>\n",
       "    <tr>\n",
       "      <th>25%</th>\n",
       "      <td>223.500000</td>\n",
       "      <td>0.000000</td>\n",
       "      <td>2.000000</td>\n",
       "      <td>20.125000</td>\n",
       "      <td>0.000000</td>\n",
       "      <td>0.000000</td>\n",
       "      <td>7.910400</td>\n",
       "    </tr>\n",
       "    <tr>\n",
       "      <th>50%</th>\n",
       "      <td>446.000000</td>\n",
       "      <td>0.000000</td>\n",
       "      <td>3.000000</td>\n",
       "      <td>28.000000</td>\n",
       "      <td>0.000000</td>\n",
       "      <td>0.000000</td>\n",
       "      <td>14.454200</td>\n",
       "    </tr>\n",
       "    <tr>\n",
       "      <th>75%</th>\n",
       "      <td>668.500000</td>\n",
       "      <td>1.000000</td>\n",
       "      <td>3.000000</td>\n",
       "      <td>38.000000</td>\n",
       "      <td>1.000000</td>\n",
       "      <td>0.000000</td>\n",
       "      <td>31.000000</td>\n",
       "    </tr>\n",
       "    <tr>\n",
       "      <th>max</th>\n",
       "      <td>891.000000</td>\n",
       "      <td>1.000000</td>\n",
       "      <td>3.000000</td>\n",
       "      <td>80.000000</td>\n",
       "      <td>8.000000</td>\n",
       "      <td>6.000000</td>\n",
       "      <td>512.329200</td>\n",
       "    </tr>\n",
       "  </tbody>\n",
       "</table>\n",
       "</div>"
      ],
      "text/plain": [
       "       PassengerId    Survived      Pclass         Age       SibSp  \\\n",
       "count   891.000000  891.000000  891.000000  714.000000  891.000000   \n",
       "mean    446.000000    0.383838    2.308642   29.699118    0.523008   \n",
       "std     257.353842    0.486592    0.836071   14.526497    1.102743   \n",
       "min       1.000000    0.000000    1.000000    0.420000    0.000000   \n",
       "25%     223.500000    0.000000    2.000000   20.125000    0.000000   \n",
       "50%     446.000000    0.000000    3.000000   28.000000    0.000000   \n",
       "75%     668.500000    1.000000    3.000000   38.000000    1.000000   \n",
       "max     891.000000    1.000000    3.000000   80.000000    8.000000   \n",
       "\n",
       "            Parch        Fare  \n",
       "count  891.000000  891.000000  \n",
       "mean     0.381594   32.204208  \n",
       "std      0.806057   49.693429  \n",
       "min      0.000000    0.000000  \n",
       "25%      0.000000    7.910400  \n",
       "50%      0.000000   14.454200  \n",
       "75%      0.000000   31.000000  \n",
       "max      6.000000  512.329200  "
      ]
     },
     "execution_count": 40,
     "metadata": {},
     "output_type": "execute_result"
    }
   ],
   "source": [
    "#Describing the data:\n",
    "df.describe()"
   ]
  },
  {
   "cell_type": "markdown",
   "id": "329c7933-d7ef-45ba-a9e8-7eda29d23368",
   "metadata": {},
   "source": [
    "## 3) Checking"
   ]
  },
  {
   "cell_type": "markdown",
   "id": "4b5ca34f-a56a-4406-93c9-13dbfd139072",
   "metadata": {},
   "source": [
    "### i) Information Summary:"
   ]
  },
  {
   "cell_type": "code",
   "execution_count": 41,
   "id": "c5469c00-9c0b-4b89-878c-8c3308edcdc7",
   "metadata": {},
   "outputs": [
    {
     "name": "stdout",
     "output_type": "stream",
     "text": [
      "<class 'pandas.core.frame.DataFrame'>\n",
      "RangeIndex: 891 entries, 0 to 890\n",
      "Data columns (total 12 columns):\n",
      " #   Column       Non-Null Count  Dtype  \n",
      "---  ------       --------------  -----  \n",
      " 0   PassengerId  891 non-null    int64  \n",
      " 1   Survived     891 non-null    int64  \n",
      " 2   Pclass       891 non-null    int64  \n",
      " 3   Name         891 non-null    object \n",
      " 4   Sex          891 non-null    object \n",
      " 5   Age          714 non-null    float64\n",
      " 6   SibSp        891 non-null    int64  \n",
      " 7   Parch        891 non-null    int64  \n",
      " 8   Ticket       891 non-null    object \n",
      " 9   Fare         891 non-null    float64\n",
      " 10  Cabin        204 non-null    object \n",
      " 11  Embarked     889 non-null    object \n",
      "dtypes: float64(2), int64(5), object(5)\n",
      "memory usage: 83.7+ KB\n"
     ]
    }
   ],
   "source": [
    "#Information Summary:\n",
    "df.info()"
   ]
  },
  {
   "cell_type": "markdown",
   "id": "556277f8-1c5e-4e38-b65f-421b0aadd2f4",
   "metadata": {},
   "source": [
    "### ii) Shape of the Data:"
   ]
  },
  {
   "cell_type": "code",
   "execution_count": 42,
   "id": "833cfc15-72a7-4c22-9679-9e746f1ff7ce",
   "metadata": {},
   "outputs": [
    {
     "data": {
      "text/plain": [
       "(891, 12)"
      ]
     },
     "execution_count": 42,
     "metadata": {},
     "output_type": "execute_result"
    }
   ],
   "source": [
    "#Shape of the Data\n",
    "df.shape"
   ]
  },
  {
   "cell_type": "markdown",
   "id": "6f015ff5-ff1e-4d54-814c-46b78c5232db",
   "metadata": {},
   "source": [
    "# III) Data Wrangling"
   ]
  },
  {
   "cell_type": "markdown",
   "id": "04ca4bf3-a67f-489c-ace3-6ab374ccb90a",
   "metadata": {},
   "source": [
    "## 1) Checking missing/null values"
   ]
  },
  {
   "cell_type": "code",
   "execution_count": 43,
   "id": "143dbe1d-3221-4970-bd3b-7c968f2a4f83",
   "metadata": {},
   "outputs": [
    {
     "name": "stdout",
     "output_type": "stream",
     "text": [
      "PassengerId      0\n",
      "Survived         0\n",
      "Pclass           0\n",
      "Name             0\n",
      "Sex              0\n",
      "Age            177\n",
      "SibSp            0\n",
      "Parch            0\n",
      "Ticket           0\n",
      "Fare             0\n",
      "Cabin          687\n",
      "Embarked         2\n",
      "dtype: int64\n"
     ]
    }
   ],
   "source": [
    "#Count of Missing Entries:\n",
    "x = df.isnull().sum()\n",
    "print(x)"
   ]
  },
  {
   "cell_type": "markdown",
   "id": "d94ba5df-e54c-4eb9-af1f-25f5bcade05c",
   "metadata": {},
   "source": [
    "## 2) Handling missing values"
   ]
  },
  {
   "cell_type": "markdown",
   "id": "61e90d67-1a0e-4349-bc5d-e20daf7caf6f",
   "metadata": {},
   "source": [
    "### i) Filling Missing Age:"
   ]
  },
  {
   "cell_type": "code",
   "execution_count": 44,
   "id": "4f908624-8ab1-46ea-9bc3-bc97186adefd",
   "metadata": {},
   "outputs": [
    {
     "data": {
      "text/plain": [
       "PassengerId      0\n",
       "Survived         0\n",
       "Pclass           0\n",
       "Name             0\n",
       "Sex              0\n",
       "Age              0\n",
       "SibSp            0\n",
       "Parch            0\n",
       "Ticket           0\n",
       "Fare             0\n",
       "Cabin          687\n",
       "Embarked         2\n",
       "dtype: int64"
      ]
     },
     "execution_count": 44,
     "metadata": {},
     "output_type": "execute_result"
    }
   ],
   "source": [
    "#Fill missing Age with mean:\n",
    "df['Age'] = df['Age'].fillna(df['Age'].mean())\n",
    "df.isnull().sum()"
   ]
  },
  {
   "cell_type": "markdown",
   "id": "9231cb7a-5328-4237-85b0-6348b345fcd7",
   "metadata": {},
   "source": [
    "### ii) Dropping Column with High Null Count:"
   ]
  },
  {
   "cell_type": "code",
   "execution_count": 45,
   "id": "3cfa08dd-7ff6-401a-9bbf-06dc7056ed1b",
   "metadata": {},
   "outputs": [
    {
     "data": {
      "text/plain": [
       "PassengerId    0\n",
       "Survived       0\n",
       "Pclass         0\n",
       "Name           0\n",
       "Sex            0\n",
       "Age            0\n",
       "SibSp          0\n",
       "Parch          0\n",
       "Ticket         0\n",
       "Fare           0\n",
       "Embarked       2\n",
       "dtype: int64"
      ]
     },
     "execution_count": 45,
     "metadata": {},
     "output_type": "execute_result"
    }
   ],
   "source": [
    "#Drop ‘Cabin’ column because too many missing:\n",
    "df.drop('Cabin',axis=1,inplace=True)\n",
    "df.isnull().sum()"
   ]
  },
  {
   "cell_type": "markdown",
   "id": "7ee686fd-8995-4b2d-bfd5-c003daf839e2",
   "metadata": {},
   "source": [
    "### iii) Filling Missing ‘Embarked’ Values with Mode:"
   ]
  },
  {
   "cell_type": "code",
   "execution_count": 46,
   "id": "82fa0b71-9ceb-47aa-ad66-a591b00e15c6",
   "metadata": {},
   "outputs": [
    {
     "data": {
      "text/plain": [
       "PassengerId    0\n",
       "Survived       0\n",
       "Pclass         0\n",
       "Name           0\n",
       "Sex            0\n",
       "Age            0\n",
       "SibSp          0\n",
       "Parch          0\n",
       "Ticket         0\n",
       "Fare           0\n",
       "Embarked       0\n",
       "dtype: int64"
      ]
     },
     "execution_count": 46,
     "metadata": {},
     "output_type": "execute_result"
    }
   ],
   "source": [
    "#Fill missing Embarked with mode:\n",
    "df['Embarked'] = df['Embarked'].fillna(df['Embarked'].mode()[0])\n",
    "df.isnull().sum()"
   ]
  },
  {
   "cell_type": "markdown",
   "id": "8254cb02-d13d-40a1-83ff-3bd10765cdfa",
   "metadata": {},
   "source": [
    "# IV) Exploratory Data Analysis"
   ]
  },
  {
   "cell_type": "markdown",
   "id": "487df4cd-29ea-456a-baab-a86a5061e4cc",
   "metadata": {},
   "source": [
    "## 1) Bar Chart of Survival Counts"
   ]
  },
  {
   "cell_type": "code",
   "execution_count": 47,
   "id": "ab5d9c1d-a484-4445-9550-5c242b28f59f",
   "metadata": {},
   "outputs": [
    {
     "data": {
      "image/png": "[encoded data removed]",
      "text/plain": [
       "<Figure size 400x400 with 1 Axes>"
      ]
     },
     "metadata": {},
     "output_type": "display_data"
    }
   ],
   "source": [
    "#Survival Counts:\n",
    "s = df['Survived'].value_counts()\n",
    "plt.figure(figsize=(4,4))\n",
    "s.plot(kind='bar',color= 'palegreen', edgecolor='black')\n",
    "plt.title('Passenger Survival Counts')\n",
    "plt.xlabel('Survived')\n",
    "plt.ylabel('Number of passengers')\n",
    "plt.show()"
   ]
  },
  {
   "cell_type": "markdown",
   "id": "82d40eac-56b1-493a-80f9-22f0e83dfec8",
   "metadata": {},
   "source": [
    "**Observation:**   \n",
    "The bar chart displays the number of passengers who survived and did not survive the Titanic disaster:   \n",
    "1) The x-axis shows two categories: 0 (Did not survive) and 1 (Survived).   \n",
    "2) The y-axis shows the number of passengers in each category.   \n",
    "3) The taller bar at 0 indicates that more passengers did not survive.   \n",
    "4) The shorter bar at 1 indicates that fewer passengers survived."
   ]
  },
  {
   "cell_type": "markdown",
   "id": "9ebde625-ce80-4863-ae6e-fff72e1870ee",
   "metadata": {},
   "source": [
    "## 2) Count Plot of Survival Status"
   ]
  },
  {
   "cell_type": "code",
   "execution_count": 48,
   "id": "fc93391b-4260-4759-a76c-4bacc6831aac",
   "metadata": {},
   "outputs": [
    {
     "data": {
      "image/png": "[encoded data removed]",
      "text/plain": [
       "<Figure size 400x400 with 1 Axes>"
      ]
     },
     "metadata": {},
     "output_type": "display_data"
    }
   ],
   "source": [
    "#Survival Counts:\n",
    "plt.figure(figsize=(4,4))\n",
    "sns.countplot(x='Survived', data =df, hue='Survived', palette = 'pastel', edgecolor='black')\n",
    "plt.title('Passenger Survival Status')\n",
    "plt.xlabel('Survived')\n",
    "plt.ylabel('Number of passengers')\n",
    "plt.show()"
   ]
  },
  {
   "cell_type": "markdown",
   "id": "cf179628-a74b-4cf4-9739-0a91a4caf017",
   "metadata": {},
   "source": [
    "**Observation:**   \n",
    "The countplot shows the same survival counts but using seaborn:   \n",
    "1) The x-axis shows the two survival categories (0 = Did not survive, 1 = Survived).   \n",
    "2) The y-axis shows the number of passengers in each category.   \n",
    "3) The taller bar at 0 indicates more passengers did not survive.   \n",
    "4) The shorter bar at 1 indicates fewer passengers survived."
   ]
  },
  {
   "cell_type": "markdown",
   "id": "55f90b99-35dc-4d0d-940b-b47738d97b77",
   "metadata": {},
   "source": [
    "## 3) Survival Status by Gender"
   ]
  },
  {
   "cell_type": "code",
   "execution_count": 49,
   "id": "98235e52-ffc5-4cd5-bb5a-1b5d7a90bd3c",
   "metadata": {},
   "outputs": [
    {
     "name": "stdout",
     "output_type": "stream",
     "text": [
      "Survived  Sex   \n",
      "0         female     81\n",
      "          male      468\n",
      "1         female    233\n",
      "          male      109\n",
      "dtype: int64\n"
     ]
    }
   ],
   "source": [
    "#Survival Status by Gender:\n",
    "a = df.groupby(['Survived','Sex']).size()\n",
    "print(a)"
   ]
  },
  {
   "cell_type": "markdown",
   "id": "8aff34da-c0a1-42cf-9c0f-08ff3390e6a1",
   "metadata": {},
   "source": [
    "## 4) Counts of Each Passenger Class"
   ]
  },
  {
   "cell_type": "code",
   "execution_count": 50,
   "id": "b1e7bef6-b529-4ca5-bbc9-5fa6f19dfd77",
   "metadata": {},
   "outputs": [
    {
     "name": "stdout",
     "output_type": "stream",
     "text": [
      "Pclass\n",
      "3    491\n",
      "1    216\n",
      "2    184\n",
      "Name: count, dtype: int64\n"
     ]
    }
   ],
   "source": [
    "#Counts of Each Passenger Class\n",
    "a = df['Pclass'].value_counts()\n",
    "print(a)"
   ]
  },
  {
   "cell_type": "markdown",
   "id": "fac59d64-4c7c-466c-afa1-143a9bfc7c89",
   "metadata": {},
   "source": [
    "### Countplot of Survival Status by Gender"
   ]
  },
  {
   "cell_type": "code",
   "execution_count": 51,
   "id": "2dcfcda2-4398-4b5e-b82c-911ad3a60362",
   "metadata": {},
   "outputs": [
    {
     "data": {
      "image/png": "[encoded data removed]",
      "text/plain": [
       "<Figure size 600x400 with 1 Axes>"
      ]
     },
     "metadata": {},
     "output_type": "display_data"
    }
   ],
   "source": [
    "#Countplot Countplot of Survival Status by Gender:\n",
    "plt.figure(figsize=(6,4))\n",
    "sns.countplot(x='Sex', hue= 'Survived', data =df, palette = 'Paired', edgecolor='black')\n",
    "plt.legend(title='Survived')\n",
    "plt.title('Passenger Survival Counts by Gender')\n",
    "plt.xlabel('Gender')\n",
    "plt.ylabel('Number of passengers')\n",
    "plt.show()"
   ]
  },
  {
   "cell_type": "markdown",
   "id": "67098085-0cd8-45d2-b504-e924f58ccb0c",
   "metadata": {},
   "source": [
    "**Observation:**   \n",
    "The countplot displays the distribution of survival status across genders:   \n",
    "1) The x-axis shows gender categories: male and female.\n",
    "2) Each bar is split into survival status (different colours for survived vs. not survived).\n",
    "3) More males did not survive, while a higher proportion of females survived."
   ]
  },
  {
   "cell_type": "markdown",
   "id": "ab67aed6-f696-4646-8c01-09e649070920",
   "metadata": {},
   "source": [
    "### Countplot of Passengers by Class"
   ]
  },
  {
   "cell_type": "code",
   "execution_count": 52,
   "id": "161d8bef-42b6-4fe5-a21c-792fd80f6ebb",
   "metadata": {},
   "outputs": [
    {
     "data": {
      "image/png": "[encoded data removed]",
      "text/plain": [
       "<Figure size 600x400 with 1 Axes>"
      ]
     },
     "metadata": {},
     "output_type": "display_data"
    }
   ],
   "source": [
    "plt.figure(figsize=(6,4))\n",
    "sns.countplot(x='Pclass', data=df, color ='lightcoral', edgecolor='black')\n",
    "plt.title('Passenger Counts by Class')\n",
    "plt.xlabel('Passenger Class')\n",
    "plt.ylabel('Number of Passengers')\n",
    "plt.show()"
   ]
  },
  {
   "cell_type": "markdown",
   "id": "1f71f405-6232-4218-8467-66ba7d79237c",
   "metadata": {},
   "source": [
    "**Observation:**   \n",
    "The countplot shows the distribution of passengers across the three passenger classes:   \n",
    "1) The x-axis shows passenger classes (1, 2, 3).\n",
    "2) The y-axis shows the number of passengers in each class.\n",
    "3) The plot indicates that Class 3 had the highest number of passengers, followed by Class 1 and then Class 2."
   ]
  },
  {
   "cell_type": "markdown",
   "id": "1f9bea6f-a379-4d12-afbb-7462924124f8",
   "metadata": {},
   "source": [
    "## 5) Pie Chart of Passenger Counts by Class"
   ]
  },
  {
   "cell_type": "code",
   "execution_count": 53,
   "id": "4b24c837-872b-45c8-b4db-dd8fc81eecc2",
   "metadata": {},
   "outputs": [
    {
     "data": {
      "image/png": "[encoded data removed]",
      "text/plain": [
       "<Figure size 640x480 with 1 Axes>"
      ]
     },
     "metadata": {},
     "output_type": "display_data"
    }
   ],
   "source": [
    "#Passenger Counts by Class:\n",
    "a.plot(kind='pie', labels=a.index, autopct='%1.1f%%', colors = ['lightcoral', 'skyblue', 'palegreen'], \n",
    "       startangle = 90, wedgeprops={'edgecolor': 'black', 'linewidth': 1})\n",
    "plt.title('Passenger Class Distribution')\n",
    "plt.ylabel('')\n",
    "plt.show()"
   ]
  },
  {
   "cell_type": "markdown",
   "id": "e27c51ff-b848-4f09-8cb8-76c424a36a7b",
   "metadata": {},
   "source": [
    "**Observation:**   \n",
    "The pie chart illustrates the distribution of passengers across the three passenger classes:   \n",
    "1) Each slice represents one passenger class (1, 2, and 3).\n",
    "2) The percentage labels on the slices show the proportion of passengers in each class.\n",
    "3) The largest slice corresponds to Class 3, indicating it had the highest number of passengers.\n",
    "4) Class 1 and Class 2 represent smaller portions of the total passenger count."
   ]
  },
  {
   "cell_type": "markdown",
   "id": "79ba8aba-ef8c-4397-b658-d46d956e0a76",
   "metadata": {},
   "source": [
    "## 6) Kernel Density Plot of Passenger Age"
   ]
  },
  {
   "cell_type": "code",
   "execution_count": 54,
   "id": "66301b52-6d5b-4c29-a433-e5ee5df5bd94",
   "metadata": {},
   "outputs": [
    {
     "data": {
      "image/png": "[encoded data removed]",
      "text/plain": [
       "<Figure size 640x480 with 1 Axes>"
      ]
     },
     "metadata": {},
     "output_type": "display_data"
    }
   ],
   "source": [
    "#Kernel Density Plot of Passenger Age\n",
    "sns.kdeplot(df['Age'], fill=True, color='skyblue')\n",
    "plt.title('KDE Plot of Age Distribution')\n",
    "plt.xlabel('Age')\n",
    "plt.ylabel('Density')\n",
    "plt.show()"
   ]
  },
  {
   "cell_type": "markdown",
   "id": "087e0e48-b8f7-45e2-848d-6ab8ed853e17",
   "metadata": {},
   "source": [
    "**Observation:**   \n",
    "The KDE plot shows the density distribution of passenger ages on the Titanic:\n",
    "1) The x-axis represents passenger ages.\n",
    "2) The y-axis represents the density (how concentrated the data is at each age).\n",
    "3) The peak around 20–30 years indicates that most passengers were in this age group.\n",
    " 4) The density decreases for very young and very old ages, meaning fewer passengers in those ranges."
   ]
  },
  {
   "cell_type": "markdown",
   "id": "3d9375b5-d964-4c8e-a334-8bf203345f71",
   "metadata": {},
   "source": [
    "## 7) Stacked Histogram of Age by Survival Status"
   ]
  },
  {
   "cell_type": "code",
   "execution_count": 55,
   "id": "5b907b8e-93c4-4479-93de-96d697212509",
   "metadata": {},
   "outputs": [
    {
     "data": {
      "image/png": "[encoded data removed]",
      "text/plain": [
       "<Figure size 640x480 with 1 Axes>"
      ]
     },
     "metadata": {},
     "output_type": "display_data"
    }
   ],
   "source": [
    "sns.histplot(data=df, x='Age', hue='Survived', multiple='stack', bins=20)\n",
    "plt.title('Stacked Histogram of Age by Survival Status')\n",
    "plt.ylabel('Number of Passengers')\n",
    "plt.xlabel('Age')\n",
    "plt.show()"
   ]
  },
  {
   "cell_type": "markdown",
   "id": "16318769-1a1f-4410-8d5e-8007245cd199",
   "metadata": {},
   "source": [
    "**Observation:**   \n",
    "The stacked histogram shows the age distribution of passengers by survival status:\n",
    "1) The x-axis represents passenger ages divided into bins.\n",
    "2) The y-axis represents the number of passengers in each age bin.\n",
    "3) Each bar is stacked by survival status (different colours for survived vs. not survived).\n",
    "4) The plot shows that most passengers between about 20 and 40 years old did not survive, while there are visible but smaller stacks of survivors in the same age range."
   ]
  },
  {
   "cell_type": "markdown",
   "id": "1a558be5-86d6-44d8-ae09-9fde315eb775",
   "metadata": {},
   "source": [
    "## 8) Countplot of Age Groups by Survival Status"
   ]
  },
  {
   "cell_type": "code",
   "execution_count": 56,
   "id": "96b5656a-bf0f-44ac-bd55-9d3c47db0a7c",
   "metadata": {},
   "outputs": [
    {
     "data": {
      "image/png": "[encoded data removed]",
      "text/plain": [
       "<Figure size 640x480 with 1 Axes>"
      ]
     },
     "metadata": {},
     "output_type": "display_data"
    }
   ],
   "source": [
    "#Age Groups by Survival Status\n",
    "df['AgeGroup'] = pd.cut(df['Age'], bins =[0,12,19,35,50,100],labels=['child','Teenage','Young Age','Adult','Senior'])\n",
    "sns.countplot(data =df, x='AgeGroup', hue = 'Survived')\n",
    "plt.title('Age Groups by Survival Status')\n",
    "plt.xlabel('Age Group')\n",
    "plt.ylabel('Number of Passengers')\n",
    "plt.show()"
   ]
  },
  {
   "cell_type": "markdown",
   "id": "fca3452c-5240-4d60-8cc1-e0c326931300",
   "metadata": {},
   "source": [
    "**Observation:**   \n",
    "The countplot shows survival counts of passengers divided into age groups:\n",
    "1) The x-axis lists the age groups (Child, Teenage, Young Age, Adult, Senior).\n",
    "2) The y-axis shows the number of passengers in each age group.\n",
    "3) Each bar is split by survival status (different colours for survived vs. not survived).\n",
    "4) The plot shows that the Young Age and Adult groups had the largest numbers of passengers, with a noticeably higher proportion of survivors among children compared to older groups."
   ]
  },
  {
   "cell_type": "markdown",
   "id": "445af3e4-7bde-4b76-88bf-29229ebab5b6",
   "metadata": {},
   "source": [
    "# V) Conclusion"
   ]
  },
  {
   "cell_type": "markdown",
   "id": "77df8a29-8162-4bac-aee1-6bed40aebfbe",
   "metadata": {},
   "source": [
    "**Conclusion:**   \n",
    "The Titanic dataset reveals clear patterns in survival: female passengers, children, and those in higher classes had a much greater chance of survival compared to adult males and lower-class passengers. Through data cleaning (handling missing values, dropping irrelevant columns, and creating age groups), we prepared the dataset for meaningful analysis. Exploratory analysis using bar charts, pie charts, histograms, and KDE plots highlighted the relationships between demographic factors and survival rates. These insights demonstrate how EDA can uncover important factors affecting outcomes and guide further modelling or decision-making, such as building a survival prediction model."
   ]
  }
 ],
 "metadata": {
  "kernelspec": {
   "display_name": "Python 3 (ipykernel)",
   "language": "python",
   "name": "python3"
  },
  "language_info": {
   "codemirror_mode": {
    "name": "ipython",
    "version": 3
   },
   "file_extension": ".py",
   "mimetype": "text/x-python",
   "name": "python",
   "nbconvert_exporter": "python",
   "pygments_lexer": "ipython3",
   "version": "3.13.5"
  }
 },
 "nbformat": 4,
 "nbformat_minor": 5
}
