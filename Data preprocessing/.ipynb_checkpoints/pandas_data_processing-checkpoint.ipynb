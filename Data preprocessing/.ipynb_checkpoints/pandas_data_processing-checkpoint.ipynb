{
 "cells": [
  {
   "cell_type": "markdown",
   "id": "23c310f9-7cf6-412b-9dab-eb1f87e04064",
   "metadata": {},
   "source": [
    "<center><h1><b>Pandas Data Processing & Missing Values Handling</h1></center>"
   ]
  },
  {
   "cell_type": "markdown",
   "id": "12dbb067-9361-4c81-9ae8-e38b41fd333b",
   "metadata": {},
   "source": [
    "## 1) Importing Library"
   ]
  },
  {
   "cell_type": "code",
   "execution_count": 45,
   "id": "c671d830-a31e-4b93-9c2b-fb47bc063f59",
   "metadata": {},
   "outputs": [],
   "source": [
    "#Importing library:\n",
    "import pandas as pd"
   ]
  },
  {
   "cell_type": "markdown",
   "id": "c1e3412f-e436-4b31-a398-af42fb07522d",
   "metadata": {},
   "source": [
    "## 2) Creating a DataFrame"
   ]
  },
  {
   "cell_type": "code",
   "execution_count": 46,
   "id": "e59c8425-01d2-4232-91c0-66428c15d266",
   "metadata": {},
   "outputs": [
    {
     "name": "stdout",
     "output_type": "stream",
     "text": [
      "   Name   Age\n",
      "0  John  33.0\n",
      "1  None  44.0\n",
      "2   Anu   NaN\n"
     ]
    }
   ],
   "source": [
    "#Creating DataFrame\n",
    "data = {\n",
    "    'Name':['John',None,'Anu'],\n",
    "    'Age':[33,44,None]\n",
    "}\n",
    "df = pd.DataFrame(data)\n",
    "print(df)"
   ]
  },
  {
   "cell_type": "markdown",
   "id": "754ba1d5-92cc-46f6-b670-12bfcfb2e6c5",
   "metadata": {},
   "source": [
    "## 3) Checking for Missing Values"
   ]
  },
  {
   "cell_type": "code",
   "execution_count": 47,
   "id": "354d715b-a4c2-4182-8882-a779e5a563f9",
   "metadata": {},
   "outputs": [
    {
     "name": "stdout",
     "output_type": "stream",
     "text": [
      "    Name    Age\n",
      "0  False  False\n",
      "1   True  False\n",
      "2  False   True\n",
      "Name    1\n",
      "Age     1\n",
      "dtype: int64\n"
     ]
    }
   ],
   "source": [
    "#Checking for Missing Values\n",
    "print(df.isnull())\n",
    "print(df.isnull().sum())"
   ]
  },
  {
   "cell_type": "markdown",
   "id": "7b701252-85a5-4972-b155-82ba463fd2b0",
   "metadata": {},
   "source": [
    "## 4) Handling Missing Values"
   ]
  },
  {
   "cell_type": "code",
   "execution_count": 48,
   "id": "22e6b55a-4b29-4c67-871c-9de35d19e2fd",
   "metadata": {},
   "outputs": [
    {
     "name": "stdout",
     "output_type": "stream",
     "text": [
      "      Name   Age\n",
      "0     John  33.0\n",
      "1  Unknown  44.0\n",
      "2      Anu  38.5\n"
     ]
    }
   ],
   "source": [
    "#Filling Missing values\n",
    "df['Age'] = df['Age'].fillna(df['Age'].mean())\n",
    "df['Name'] = df['Name'].fillna('Unknown')\n",
    "print(df)"
   ]
  },
  {
   "cell_type": "markdown",
   "id": "63762468-9838-40fb-aa2b-40a4c22c67df",
   "metadata": {},
   "source": [
    "## 5) Detecting and Filtering Outliers Using the IQR Method"
   ]
  },
  {
   "cell_type": "code",
   "execution_count": 49,
   "id": "aef68078-4bf6-4914-addc-36953fe186fa",
   "metadata": {},
   "outputs": [
    {
     "name": "stdout",
     "output_type": "stream",
     "text": [
      "   salary\n",
      "0   25000\n",
      "1   28000\n",
      "2   27000\n",
      "3  100000\n",
      "   salary\n",
      "0   25000\n",
      "1   28000\n",
      "2   27000\n"
     ]
    }
   ],
   "source": [
    "#Detecting and Filtering Outliers\n",
    "df = pd.DataFrame({'salary':[25000,28000,27000,100000]})\n",
    "Q1 = df['salary'].quantile(0.25)\n",
    "Q3 = df['salary'].quantile(0.75)\n",
    "IQR = Q3 - Q1\n",
    "ans = df[(df['salary']>= Q1-1.5*IQR) & (df['salary']<= Q3+1.5*IQR)]\n",
    "print(df)\n",
    "print(ans)"
   ]
  },
  {
   "cell_type": "markdown",
   "id": "3416cf4e-c7d3-4e8d-821b-fa7c037d2faa",
   "metadata": {},
   "source": [
    "## 6) Detecting and Filtering Outliers in a Numeric Column Using the IQR Method"
   ]
  },
  {
   "cell_type": "code",
   "execution_count": 50,
   "id": "159a973c-0807-4f64-b068-e0200269d032",
   "metadata": {},
   "outputs": [
    {
     "name": "stdout",
     "output_type": "stream",
     "text": [
      "      num\n",
      "0      51\n",
      "1      52\n",
      "2      53\n",
      "3      54\n",
      "4      55\n",
      "5      56\n",
      "6      57\n",
      "7      99\n",
      "8  100000\n",
      "      num\n",
      "0      51\n",
      "1      52\n",
      "2      53\n",
      "3      54\n",
      "4      55\n",
      "5      56\n",
      "6      57\n",
      "7      99\n",
      "8  100000\n"
     ]
    }
   ],
   "source": [
    "#Numeric Column Using the IQR Method\n",
    "x = pd.DataFrame({'num':[51,52,53,54,55,56,57,99,100000]})\n",
    "Q1 = x['num'].quantile(0.25)\n",
    "Q2 = x['num'].quantile(0.75)\n",
    "IQR =Q3-Q1\n",
    "result = x[(x['num']>= Q1-1.5*IQR) & (x['num']<=Q3+1.5*IQR)]\n",
    "print(x)\n",
    "print(result)"
   ]
  },
  {
   "cell_type": "markdown",
   "id": "a7f92527-3b4f-4261-8641-0bbe186f8c6f",
   "metadata": {},
   "source": [
    "## 7) Calculating BMI Column from Height and Weight"
   ]
  },
  {
   "cell_type": "code",
   "execution_count": 57,
   "id": "61a24543-c94b-42e8-a746-6ef3e904fd65",
   "metadata": {},
   "outputs": [
    {
     "name": "stdout",
     "output_type": "stream",
     "text": [
      "   height  weight        BMI\n",
      "0    1.53      44  18.796189\n",
      "1    1.62      55  20.957171\n"
     ]
    }
   ],
   "source": [
    "#Calculating BMI Column\n",
    "x = pd.DataFrame({'height':[1.53,1.62],'weight':[44,55]})\n",
    "# Standard BMI formula:\n",
    "# BMI = weight (kg) / (height (m) ** 2)\n",
    "x['BMI'] = x['weight'] / (x['height']**2)\n",
    "print(x)"
   ]
  },
  {
   "cell_type": "markdown",
   "id": "1e96ad31-d109-4157-be26-2fa3fcd9d1c5",
   "metadata": {},
   "source": [
    "## 8) Dropping an Unnecessary Column"
   ]
  },
  {
   "cell_type": "code",
   "execution_count": 52,
   "id": "a4056974-6dab-4bdc-b376-7c96824635b2",
   "metadata": {},
   "outputs": [
    {
     "name": "stdout",
     "output_type": "stream",
     "text": [
      "  Name  Age\n",
      "0    A   22\n",
      "1    b   24\n"
     ]
    }
   ],
   "source": [
    "#Dropping an Unnecessary Column\n",
    "x = pd.DataFrame({'ID':[1,2], 'Name':['A','b'], 'Age':[22,24]})\n",
    "x.drop('ID',axis=1,inplace=True)\n",
    "print(x)"
   ]
  },
  {
   "cell_type": "markdown",
   "id": "7f6d7308-938f-4f32-8adf-68aa66bf4a03",
   "metadata": {},
   "source": [
    "## 9) Calculating Age from Year Column"
   ]
  },
  {
   "cell_type": "code",
   "execution_count": 53,
   "id": "1cfcab01-3052-4a19-98bd-b049b5d20d48",
   "metadata": {},
   "outputs": [
    {
     "name": "stdout",
     "output_type": "stream",
     "text": [
      "   Years  Age\n",
      "0   2004   21\n",
      "1   2008   17\n",
      "2   2016    9\n"
     ]
    }
   ],
   "source": [
    "#Calculating Age\n",
    "x = pd.DataFrame({'Years':[2004,2008,2016]})\n",
    "x['Age'] = 2025 - x['Years']\n",
    "print(x)"
   ]
  },
  {
   "cell_type": "markdown",
   "id": "ce49b5cb-a530-413e-affd-b6ac110ce0f6",
   "metadata": {},
   "source": [
    "## 10) Converting Column Data Type from String to Integer"
   ]
  },
  {
   "cell_type": "code",
   "execution_count": 54,
   "id": "47143872-01aa-4138-9272-1ad3e55568e2",
   "metadata": {},
   "outputs": [
    {
     "name": "stdout",
     "output_type": "stream",
     "text": [
      "salary    int64\n",
      "dtype: object\n"
     ]
    }
   ],
   "source": [
    "#Converting Column Data Type from String to Integer\n",
    "x = pd.DataFrame({'salary':['1000','2000','3000']})\n",
    "x['salary'] = x['salary'].astype(int)\n",
    "print(x.dtypes)"
   ]
  },
  {
   "cell_type": "markdown",
   "id": "09b90009-9a5e-43d7-806c-974e0d3dfa5c",
   "metadata": {},
   "source": [
    "## 11) Converting String Dates to Datetime Objects"
   ]
  },
  {
   "cell_type": "code",
   "execution_count": 55,
   "id": "47501e5f-13b7-4e11-ad29-df08aeb0c298",
   "metadata": {},
   "outputs": [
    {
     "name": "stdout",
     "output_type": "stream",
     "text": [
      "   join_date\n",
      "0 2024-12-03\n",
      "1 2024-05-04\n"
     ]
    }
   ],
   "source": [
    "#Converting String Dates to Datetime Objects\n",
    "x = pd.DataFrame({'join_date': ['12-03-2024', '05-04-2024']})\n",
    "x['join_date'] = pd.to_datetime(x['join_date'])\n",
    "print(x)"
   ]
  },
  {
   "cell_type": "markdown",
   "id": "db2c16d9-211b-4f19-8676-7feb2bb0a7fa",
   "metadata": {},
   "source": [
    "## 12) Renaming DataFrame Columns"
   ]
  },
  {
   "cell_type": "code",
   "execution_count": 56,
   "id": "b0accde5-ea2d-460b-8465-2accc322fabf",
   "metadata": {},
   "outputs": [
    {
     "name": "stdout",
     "output_type": "stream",
     "text": [
      "  Name  Age\n",
      "0  Anu   22\n"
     ]
    }
   ],
   "source": [
    "#Renaming Columns\n",
    "x = pd.DataFrame({'emp_name':['Anu'],'emp_age':[22]})\n",
    "x.rename(columns={'emp_name':'Name', 'emp_age':'Age'},inplace=True)\n",
    "print(x)"
   ]
  }
 ],
 "metadata": {
  "kernelspec": {
   "display_name": "Python 3 (ipykernel)",
   "language": "python",
   "name": "python3"
  },
  "language_info": {
   "codemirror_mode": {
    "name": "ipython",
    "version": 3
   },
   "file_extension": ".py",
   "mimetype": "text/x-python",
   "name": "python",
   "nbconvert_exporter": "python",
   "pygments_lexer": "ipython3",
   "version": "3.13.5"
  }
 },
 "nbformat": 4,
 "nbformat_minor": 5
}
