{
 "cells": [
  {
   "cell_type": "markdown",
   "id": "a74eadae-ea09-4f65-bb56-ba56e9b5b66d",
   "metadata": {},
   "source": [
    "<center><h1><b>Company Salesperson Data Analysis</center>"
   ]
  },
  {
   "cell_type": "markdown",
   "id": "5f92a607-922f-44b3-be83-1875bd75078a",
   "metadata": {},
   "source": [
    "# Understanding the Data   \n",
    "The dataset provides order-level information about company sales handled by different salespersons. Each row corresponds to a single order and records the key details needed to evaluate sales performance. It contains the order ID and date, the region where the sale occurred, the name of the salesperson, the product sold, the number of units sold, the unit price and the total sales amount (units × unit price).\n",
    "Because it includes both categorical fields (region, salesperson, product) and numerical fields (units, unit price, total sales), the dataset can be used to measure salesperson performance, compare regional sales, analyse product demand and identify trends over time."
   ]
  },
  {
   "cell_type": "markdown",
   "id": "73a62813-20c5-4795-9eb1-86d651e5a16c",
   "metadata": {},
   "source": [
    "## Importing Required Libraries"
   ]
  },
  {
   "cell_type": "code",
   "execution_count": 24,
   "id": "fb070dd7-7047-46a3-84db-4b0815de6e4e",
   "metadata": {},
   "outputs": [],
   "source": [
    "#Importing Libraries\n",
    "import numpy as np\n",
    "import pandas as pd"
   ]
  },
  {
   "cell_type": "markdown",
   "id": "7e34073a-354a-4971-93f1-bc54c56f71f4",
   "metadata": {},
   "source": [
    "## Reading data"
   ]
  },
  {
   "cell_type": "code",
   "execution_count": 25,
   "id": "8210ea5f-08ad-44e8-9794-1c062af5e18f",
   "metadata": {},
   "outputs": [
    {
     "name": "stdout",
     "output_type": "stream",
     "text": [
      "    OrderID        Date Region SalesPerson     Product  Units  UnitPrice  \\\n",
      "0       101  2024-01-06  South       Diana      Laptop      2        600   \n",
      "1       102  2024-01-30  South       Diana      Tablet     13        250   \n",
      "2       103  2024-01-26   East         Bob       Phone      1        300   \n",
      "3       104  2024-01-01  North       Diana      Laptop      7        600   \n",
      "4       105  2024-01-13  South     Charlie     Monitor      6        200   \n",
      "5       106  2024-01-12   East       Alice      Tablet      8        250   \n",
      "6       107  2024-01-03   West      Edward     Monitor      8        200   \n",
      "7       108  2024-01-14  North     Charlie       Phone     14        300   \n",
      "8       109  2024-01-20  North         Bob     Monitor      2        200   \n",
      "9       110  2024-01-07  South         Bob      Tablet      8        250   \n",
      "10      111  2024-01-25   West      Edward       Phone     14        300   \n",
      "11      112  2024-01-08  South     Charlie     Monitor      3        200   \n",
      "12      113  2024-01-07   East       Alice       Phone     13        300   \n",
      "13      114  2024-01-08  South         Bob      Laptop      3        600   \n",
      "14      115  2024-01-26  South       Alice      Tablet      5        250   \n",
      "15      116  2024-01-01   West       Diana     Monitor      9        200   \n",
      "16      117  2024-01-24   West      Edward  Headphones     15        100   \n",
      "17      118  2024-01-20   East      Edward      Laptop     15        600   \n",
      "18      119  2024-01-19  South       Alice      Laptop      8        600   \n",
      "19      120  2024-01-25   East       Diana       Phone      1        300   \n",
      "20      121  2024-01-26   West       Diana     Monitor      7        200   \n",
      "21      122  2024-01-31  North       Diana     Monitor     15        200   \n",
      "22      123  2024-01-28   East         Bob      Laptop      2        600   \n",
      "23      124  2024-01-31  North       Alice      Laptop      5        600   \n",
      "24      125  2024-01-14   East       Diana       Phone     12        300   \n",
      "25      126  2024-01-20   West     Charlie     Monitor     10        200   \n",
      "26      127  2024-01-03  South       Diana       Phone      7        300   \n",
      "27      128  2024-01-07  South       Diana       Phone      3        300   \n",
      "28      129  2024-01-07   West       Diana  Headphones      8        100   \n",
      "29      130  2024-01-18   East       Diana      Laptop     15        600   \n",
      "30      131  2024-01-24  North         Bob  Headphones      3        100   \n",
      "31      132  2024-01-26  North       Diana     Monitor     10        200   \n",
      "32      133  2024-01-06  North      Edward     Monitor      1        200   \n",
      "33      134  2024-01-04  South       Alice      Laptop      1        600   \n",
      "34      135  2024-01-05   East      Edward  Headphones     15        100   \n",
      "35      136  2024-01-28  South       Alice      Tablet     11        250   \n",
      "36      137  2024-01-19   West     Charlie     Monitor      4        200   \n",
      "37      138  2024-01-12   West     Charlie     Monitor      7        200   \n",
      "38      139  2024-01-27   West     Charlie  Headphones     12        100   \n",
      "39      140  2024-01-05   East      Edward      Tablet     10        250   \n",
      "40      141  2024-01-14   West     Charlie       Phone      8        300   \n",
      "41      142  2024-01-19  South       Diana      Laptop      1        600   \n",
      "42      143  2024-01-15  South       Diana      Laptop      1        600   \n",
      "43      144  2024-01-20   East     Charlie      Laptop      9        600   \n",
      "44      145  2024-01-03  South         Bob       Phone     12        300   \n",
      "45      146  2024-01-07   East         Bob       Phone     14        300   \n",
      "46      147  2024-01-25  South       Diana      Laptop     12        600   \n",
      "47      148  2024-01-16   East     Charlie      Laptop     11        600   \n",
      "48      149  2024-01-20   East      Edward      Tablet      9        250   \n",
      "49      150  2024-01-29  South         Bob     Monitor      1        200   \n",
      "\n",
      "    TotalSales  \n",
      "0         1200  \n",
      "1         3250  \n",
      "2          300  \n",
      "3         4200  \n",
      "4         1200  \n",
      "5         2000  \n",
      "6         1600  \n",
      "7         4200  \n",
      "8          400  \n",
      "9         2000  \n",
      "10        4200  \n",
      "11         600  \n",
      "12        3900  \n",
      "13        1800  \n",
      "14        1250  \n",
      "15        1800  \n",
      "16        1500  \n",
      "17        9000  \n",
      "18        4800  \n",
      "19         300  \n",
      "20        1400  \n",
      "21        3000  \n",
      "22        1200  \n",
      "23        3000  \n",
      "24        3600  \n",
      "25        2000  \n",
      "26        2100  \n",
      "27         900  \n",
      "28         800  \n",
      "29        9000  \n",
      "30         300  \n",
      "31        2000  \n",
      "32         200  \n",
      "33         600  \n",
      "34        1500  \n",
      "35        2750  \n",
      "36         800  \n",
      "37        1400  \n",
      "38        1200  \n",
      "39        2500  \n",
      "40        2400  \n",
      "41         600  \n",
      "42         600  \n",
      "43        5400  \n",
      "44        3600  \n",
      "45        4200  \n",
      "46        7200  \n",
      "47        6600  \n",
      "48        2250  \n",
      "49         200  \n"
     ]
    }
   ],
   "source": [
    "#Reading data\n",
    "persons = pd.read_csv(r\"S:\\Jupyter Notebook\\Data Science Internship/Dataset/company_sales_person.csv\")\n",
    "print(persons)"
   ]
  },
  {
   "cell_type": "markdown",
   "id": "edefe541-010e-47a5-9006-eee9c9215909",
   "metadata": {},
   "source": [
    "## 1) Show the first 7 rows of the dataset."
   ]
  },
  {
   "cell_type": "code",
   "execution_count": 26,
   "id": "fd0556ff-7524-4de9-a6d6-32ad3e304625",
   "metadata": {},
   "outputs": [
    {
     "data": {
      "text/html": [
       "<div>\n",
       "<style scoped>\n",
       "    .dataframe tbody tr th:only-of-type {\n",
       "        vertical-align: middle;\n",
       "    }\n",
       "\n",
       "    .dataframe tbody tr th {\n",
       "        vertical-align: top;\n",
       "    }\n",
       "\n",
       "    .dataframe thead th {\n",
       "        text-align: right;\n",
       "    }\n",
       "</style>\n",
       "<table border=\"1\" class=\"dataframe\">\n",
       "  <thead>\n",
       "    <tr style=\"text-align: right;\">\n",
       "      <th></th>\n",
       "      <th>OrderID</th>\n",
       "      <th>Date</th>\n",
       "      <th>Region</th>\n",
       "      <th>SalesPerson</th>\n",
       "      <th>Product</th>\n",
       "      <th>Units</th>\n",
       "      <th>UnitPrice</th>\n",
       "      <th>TotalSales</th>\n",
       "    </tr>\n",
       "  </thead>\n",
       "  <tbody>\n",
       "    <tr>\n",
       "      <th>0</th>\n",
       "      <td>101</td>\n",
       "      <td>2024-01-06</td>\n",
       "      <td>South</td>\n",
       "      <td>Diana</td>\n",
       "      <td>Laptop</td>\n",
       "      <td>2</td>\n",
       "      <td>600</td>\n",
       "      <td>1200</td>\n",
       "    </tr>\n",
       "    <tr>\n",
       "      <th>1</th>\n",
       "      <td>102</td>\n",
       "      <td>2024-01-30</td>\n",
       "      <td>South</td>\n",
       "      <td>Diana</td>\n",
       "      <td>Tablet</td>\n",
       "      <td>13</td>\n",
       "      <td>250</td>\n",
       "      <td>3250</td>\n",
       "    </tr>\n",
       "    <tr>\n",
       "      <th>2</th>\n",
       "      <td>103</td>\n",
       "      <td>2024-01-26</td>\n",
       "      <td>East</td>\n",
       "      <td>Bob</td>\n",
       "      <td>Phone</td>\n",
       "      <td>1</td>\n",
       "      <td>300</td>\n",
       "      <td>300</td>\n",
       "    </tr>\n",
       "    <tr>\n",
       "      <th>3</th>\n",
       "      <td>104</td>\n",
       "      <td>2024-01-01</td>\n",
       "      <td>North</td>\n",
       "      <td>Diana</td>\n",
       "      <td>Laptop</td>\n",
       "      <td>7</td>\n",
       "      <td>600</td>\n",
       "      <td>4200</td>\n",
       "    </tr>\n",
       "    <tr>\n",
       "      <th>4</th>\n",
       "      <td>105</td>\n",
       "      <td>2024-01-13</td>\n",
       "      <td>South</td>\n",
       "      <td>Charlie</td>\n",
       "      <td>Monitor</td>\n",
       "      <td>6</td>\n",
       "      <td>200</td>\n",
       "      <td>1200</td>\n",
       "    </tr>\n",
       "    <tr>\n",
       "      <th>5</th>\n",
       "      <td>106</td>\n",
       "      <td>2024-01-12</td>\n",
       "      <td>East</td>\n",
       "      <td>Alice</td>\n",
       "      <td>Tablet</td>\n",
       "      <td>8</td>\n",
       "      <td>250</td>\n",
       "      <td>2000</td>\n",
       "    </tr>\n",
       "    <tr>\n",
       "      <th>6</th>\n",
       "      <td>107</td>\n",
       "      <td>2024-01-03</td>\n",
       "      <td>West</td>\n",
       "      <td>Edward</td>\n",
       "      <td>Monitor</td>\n",
       "      <td>8</td>\n",
       "      <td>200</td>\n",
       "      <td>1600</td>\n",
       "    </tr>\n",
       "  </tbody>\n",
       "</table>\n",
       "</div>"
      ],
      "text/plain": [
       "   OrderID        Date Region SalesPerson  Product  Units  UnitPrice  \\\n",
       "0      101  2024-01-06  South       Diana   Laptop      2        600   \n",
       "1      102  2024-01-30  South       Diana   Tablet     13        250   \n",
       "2      103  2024-01-26   East         Bob    Phone      1        300   \n",
       "3      104  2024-01-01  North       Diana   Laptop      7        600   \n",
       "4      105  2024-01-13  South     Charlie  Monitor      6        200   \n",
       "5      106  2024-01-12   East       Alice   Tablet      8        250   \n",
       "6      107  2024-01-03   West      Edward  Monitor      8        200   \n",
       "\n",
       "   TotalSales  \n",
       "0        1200  \n",
       "1        3250  \n",
       "2         300  \n",
       "3        4200  \n",
       "4        1200  \n",
       "5        2000  \n",
       "6        1600  "
      ]
     },
     "execution_count": 26,
     "metadata": {},
     "output_type": "execute_result"
    }
   ],
   "source": [
    "#Show the first 7 rows of the dataset.\n",
    "persons.head(7)"
   ]
  },
  {
   "cell_type": "markdown",
   "id": "c4a7c8c9-b8bc-4434-85e2-05ff38d5baa0",
   "metadata": {},
   "source": [
    "## 2) Show the last 5 rows of the dataset."
   ]
  },
  {
   "cell_type": "code",
   "execution_count": 27,
   "id": "7ea65490-b672-40b7-abfd-e30f7dc97871",
   "metadata": {},
   "outputs": [
    {
     "data": {
      "text/html": [
       "<div>\n",
       "<style scoped>\n",
       "    .dataframe tbody tr th:only-of-type {\n",
       "        vertical-align: middle;\n",
       "    }\n",
       "\n",
       "    .dataframe tbody tr th {\n",
       "        vertical-align: top;\n",
       "    }\n",
       "\n",
       "    .dataframe thead th {\n",
       "        text-align: right;\n",
       "    }\n",
       "</style>\n",
       "<table border=\"1\" class=\"dataframe\">\n",
       "  <thead>\n",
       "    <tr style=\"text-align: right;\">\n",
       "      <th></th>\n",
       "      <th>OrderID</th>\n",
       "      <th>Date</th>\n",
       "      <th>Region</th>\n",
       "      <th>SalesPerson</th>\n",
       "      <th>Product</th>\n",
       "      <th>Units</th>\n",
       "      <th>UnitPrice</th>\n",
       "      <th>TotalSales</th>\n",
       "    </tr>\n",
       "  </thead>\n",
       "  <tbody>\n",
       "    <tr>\n",
       "      <th>45</th>\n",
       "      <td>146</td>\n",
       "      <td>2024-01-07</td>\n",
       "      <td>East</td>\n",
       "      <td>Bob</td>\n",
       "      <td>Phone</td>\n",
       "      <td>14</td>\n",
       "      <td>300</td>\n",
       "      <td>4200</td>\n",
       "    </tr>\n",
       "    <tr>\n",
       "      <th>46</th>\n",
       "      <td>147</td>\n",
       "      <td>2024-01-25</td>\n",
       "      <td>South</td>\n",
       "      <td>Diana</td>\n",
       "      <td>Laptop</td>\n",
       "      <td>12</td>\n",
       "      <td>600</td>\n",
       "      <td>7200</td>\n",
       "    </tr>\n",
       "    <tr>\n",
       "      <th>47</th>\n",
       "      <td>148</td>\n",
       "      <td>2024-01-16</td>\n",
       "      <td>East</td>\n",
       "      <td>Charlie</td>\n",
       "      <td>Laptop</td>\n",
       "      <td>11</td>\n",
       "      <td>600</td>\n",
       "      <td>6600</td>\n",
       "    </tr>\n",
       "    <tr>\n",
       "      <th>48</th>\n",
       "      <td>149</td>\n",
       "      <td>2024-01-20</td>\n",
       "      <td>East</td>\n",
       "      <td>Edward</td>\n",
       "      <td>Tablet</td>\n",
       "      <td>9</td>\n",
       "      <td>250</td>\n",
       "      <td>2250</td>\n",
       "    </tr>\n",
       "    <tr>\n",
       "      <th>49</th>\n",
       "      <td>150</td>\n",
       "      <td>2024-01-29</td>\n",
       "      <td>South</td>\n",
       "      <td>Bob</td>\n",
       "      <td>Monitor</td>\n",
       "      <td>1</td>\n",
       "      <td>200</td>\n",
       "      <td>200</td>\n",
       "    </tr>\n",
       "  </tbody>\n",
       "</table>\n",
       "</div>"
      ],
      "text/plain": [
       "    OrderID        Date Region SalesPerson  Product  Units  UnitPrice  \\\n",
       "45      146  2024-01-07   East         Bob    Phone     14        300   \n",
       "46      147  2024-01-25  South       Diana   Laptop     12        600   \n",
       "47      148  2024-01-16   East     Charlie   Laptop     11        600   \n",
       "48      149  2024-01-20   East      Edward   Tablet      9        250   \n",
       "49      150  2024-01-29  South         Bob  Monitor      1        200   \n",
       "\n",
       "    TotalSales  \n",
       "45        4200  \n",
       "46        7200  \n",
       "47        6600  \n",
       "48        2250  \n",
       "49         200  "
      ]
     },
     "execution_count": 27,
     "metadata": {},
     "output_type": "execute_result"
    }
   ],
   "source": [
    "#Show the last 5 rows of the dataset.\n",
    "persons.tail()"
   ]
  },
  {
   "cell_type": "markdown",
   "id": "894545bf-d80b-4672-9153-bd9d455adb42",
   "metadata": {},
   "source": [
    "## 3) Information Summary:"
   ]
  },
  {
   "cell_type": "code",
   "execution_count": 28,
   "id": "3b599561-87f3-4bcc-9aa5-334de88f2e3e",
   "metadata": {},
   "outputs": [
    {
     "name": "stdout",
     "output_type": "stream",
     "text": [
      "<class 'pandas.core.frame.DataFrame'>\n",
      "RangeIndex: 50 entries, 0 to 49\n",
      "Data columns (total 8 columns):\n",
      " #   Column       Non-Null Count  Dtype \n",
      "---  ------       --------------  ----- \n",
      " 0   OrderID      50 non-null     int64 \n",
      " 1   Date         50 non-null     object\n",
      " 2   Region       50 non-null     object\n",
      " 3   SalesPerson  50 non-null     object\n",
      " 4   Product      50 non-null     object\n",
      " 5   Units        50 non-null     int64 \n",
      " 6   UnitPrice    50 non-null     int64 \n",
      " 7   TotalSales   50 non-null     int64 \n",
      "dtypes: int64(4), object(4)\n",
      "memory usage: 3.3+ KB\n"
     ]
    }
   ],
   "source": [
    "#Information Summary:\n",
    "persons.info()"
   ]
  },
  {
   "cell_type": "markdown",
   "id": "2e0b0007-f7ea-49a1-b64d-1e8c415f91de",
   "metadata": {},
   "source": [
    "## 4) Describing the data:"
   ]
  },
  {
   "cell_type": "code",
   "execution_count": 29,
   "id": "c34b78b2-84d9-4682-aadb-bfde8abfc84c",
   "metadata": {},
   "outputs": [
    {
     "data": {
      "text/html": [
       "<div>\n",
       "<style scoped>\n",
       "    .dataframe tbody tr th:only-of-type {\n",
       "        vertical-align: middle;\n",
       "    }\n",
       "\n",
       "    .dataframe tbody tr th {\n",
       "        vertical-align: top;\n",
       "    }\n",
       "\n",
       "    .dataframe thead th {\n",
       "        text-align: right;\n",
       "    }\n",
       "</style>\n",
       "<table border=\"1\" class=\"dataframe\">\n",
       "  <thead>\n",
       "    <tr style=\"text-align: right;\">\n",
       "      <th></th>\n",
       "      <th>OrderID</th>\n",
       "      <th>Units</th>\n",
       "      <th>UnitPrice</th>\n",
       "      <th>TotalSales</th>\n",
       "    </tr>\n",
       "  </thead>\n",
       "  <tbody>\n",
       "    <tr>\n",
       "      <th>count</th>\n",
       "      <td>50.00000</td>\n",
       "      <td>50.000000</td>\n",
       "      <td>50.000000</td>\n",
       "      <td>50.000000</td>\n",
       "    </tr>\n",
       "    <tr>\n",
       "      <th>mean</th>\n",
       "      <td>125.50000</td>\n",
       "      <td>7.820000</td>\n",
       "      <td>331.000000</td>\n",
       "      <td>2456.000000</td>\n",
       "    </tr>\n",
       "    <tr>\n",
       "      <th>std</th>\n",
       "      <td>14.57738</td>\n",
       "      <td>4.719434</td>\n",
       "      <td>178.397058</td>\n",
       "      <td>2129.114025</td>\n",
       "    </tr>\n",
       "    <tr>\n",
       "      <th>min</th>\n",
       "      <td>101.00000</td>\n",
       "      <td>1.000000</td>\n",
       "      <td>100.000000</td>\n",
       "      <td>200.000000</td>\n",
       "    </tr>\n",
       "    <tr>\n",
       "      <th>25%</th>\n",
       "      <td>113.25000</td>\n",
       "      <td>3.000000</td>\n",
       "      <td>200.000000</td>\n",
       "      <td>975.000000</td>\n",
       "    </tr>\n",
       "    <tr>\n",
       "      <th>50%</th>\n",
       "      <td>125.50000</td>\n",
       "      <td>8.000000</td>\n",
       "      <td>275.000000</td>\n",
       "      <td>1900.000000</td>\n",
       "    </tr>\n",
       "    <tr>\n",
       "      <th>75%</th>\n",
       "      <td>137.75000</td>\n",
       "      <td>12.000000</td>\n",
       "      <td>600.000000</td>\n",
       "      <td>3512.500000</td>\n",
       "    </tr>\n",
       "    <tr>\n",
       "      <th>max</th>\n",
       "      <td>150.00000</td>\n",
       "      <td>15.000000</td>\n",
       "      <td>600.000000</td>\n",
       "      <td>9000.000000</td>\n",
       "    </tr>\n",
       "  </tbody>\n",
       "</table>\n",
       "</div>"
      ],
      "text/plain": [
       "         OrderID      Units   UnitPrice   TotalSales\n",
       "count   50.00000  50.000000   50.000000    50.000000\n",
       "mean   125.50000   7.820000  331.000000  2456.000000\n",
       "std     14.57738   4.719434  178.397058  2129.114025\n",
       "min    101.00000   1.000000  100.000000   200.000000\n",
       "25%    113.25000   3.000000  200.000000   975.000000\n",
       "50%    125.50000   8.000000  275.000000  1900.000000\n",
       "75%    137.75000  12.000000  600.000000  3512.500000\n",
       "max    150.00000  15.000000  600.000000  9000.000000"
      ]
     },
     "execution_count": 29,
     "metadata": {},
     "output_type": "execute_result"
    }
   ],
   "source": [
    "#Describing the data:\n",
    "persons.describe()"
   ]
  },
  {
   "cell_type": "markdown",
   "id": "2307615d-946b-464d-a7b6-04b2652116b0",
   "metadata": {},
   "source": [
    "## 5) Find the shape (rows × columns) of the dataset."
   ]
  },
  {
   "cell_type": "code",
   "execution_count": 30,
   "id": "fa2b2a35-25b7-44de-8932-224edac74255",
   "metadata": {},
   "outputs": [
    {
     "data": {
      "text/plain": [
       "(50, 8)"
      ]
     },
     "execution_count": 30,
     "metadata": {},
     "output_type": "execute_result"
    }
   ],
   "source": [
    "#Find the shape (rows × columns) of the dataset.\n",
    "persons.shape"
   ]
  },
  {
   "cell_type": "markdown",
   "id": "f3ec9060-550e-4f2d-b092-94f9b36842fa",
   "metadata": {},
   "source": [
    "## 6) Check if there are any missing values."
   ]
  },
  {
   "cell_type": "code",
   "execution_count": 31,
   "id": "f1a156c4-0df6-4cd3-ad69-d51698b5cd08",
   "metadata": {},
   "outputs": [
    {
     "name": "stdout",
     "output_type": "stream",
     "text": [
      "OrderID        0\n",
      "Date           0\n",
      "Region         0\n",
      "SalesPerson    0\n",
      "Product        0\n",
      "Units          0\n",
      "UnitPrice      0\n",
      "TotalSales     0\n",
      "dtype: int64\n"
     ]
    }
   ],
   "source": [
    "#Check if there are any missing values.\n",
    "print(persons.isnull().sum())"
   ]
  },
  {
   "cell_type": "markdown",
   "id": "33fc1bae-146f-4b2a-8bbb-7417a00758a4",
   "metadata": {},
   "source": [
    "## 7) Display only the SalesPerson and TotalSales columns."
   ]
  },
  {
   "cell_type": "code",
   "execution_count": 32,
   "id": "91999f13-40de-46e9-bfa7-92b66205c1ec",
   "metadata": {},
   "outputs": [
    {
     "name": "stdout",
     "output_type": "stream",
     "text": [
      "   SalesPerson  TotalSales\n",
      "0        Diana        1200\n",
      "1        Diana        3250\n",
      "2          Bob         300\n",
      "3        Diana        4200\n",
      "4      Charlie        1200\n",
      "5        Alice        2000\n",
      "6       Edward        1600\n",
      "7      Charlie        4200\n",
      "8          Bob         400\n",
      "9          Bob        2000\n",
      "10      Edward        4200\n",
      "11     Charlie         600\n",
      "12       Alice        3900\n",
      "13         Bob        1800\n",
      "14       Alice        1250\n",
      "15       Diana        1800\n",
      "16      Edward        1500\n",
      "17      Edward        9000\n",
      "18       Alice        4800\n",
      "19       Diana         300\n",
      "20       Diana        1400\n",
      "21       Diana        3000\n",
      "22         Bob        1200\n",
      "23       Alice        3000\n",
      "24       Diana        3600\n",
      "25     Charlie        2000\n",
      "26       Diana        2100\n",
      "27       Diana         900\n",
      "28       Diana         800\n",
      "29       Diana        9000\n",
      "30         Bob         300\n",
      "31       Diana        2000\n",
      "32      Edward         200\n",
      "33       Alice         600\n",
      "34      Edward        1500\n",
      "35       Alice        2750\n",
      "36     Charlie         800\n",
      "37     Charlie        1400\n",
      "38     Charlie        1200\n",
      "39      Edward        2500\n",
      "40     Charlie        2400\n",
      "41       Diana         600\n",
      "42       Diana         600\n",
      "43     Charlie        5400\n",
      "44         Bob        3600\n",
      "45         Bob        4200\n",
      "46       Diana        7200\n",
      "47     Charlie        6600\n",
      "48      Edward        2250\n",
      "49         Bob         200\n"
     ]
    }
   ],
   "source": [
    "#Display only the SalesPerson and TotalSales columns.\n",
    "print(persons[['SalesPerson','TotalSales']])"
   ]
  },
  {
   "cell_type": "markdown",
   "id": "871a3ad0-6cc7-4bd7-936e-ed2ee376f20a",
   "metadata": {},
   "source": [
    "## 8) Show all sales records from the South region."
   ]
  },
  {
   "cell_type": "code",
   "execution_count": 33,
   "id": "eb693c19-e79e-4f65-9d60-ee92e1d977bb",
   "metadata": {},
   "outputs": [
    {
     "name": "stdout",
     "output_type": "stream",
     "text": [
      "    OrderID        Date Region SalesPerson  Product  Units  UnitPrice  \\\n",
      "0       101  2024-01-06  South       Diana   Laptop      2        600   \n",
      "1       102  2024-01-30  South       Diana   Tablet     13        250   \n",
      "4       105  2024-01-13  South     Charlie  Monitor      6        200   \n",
      "9       110  2024-01-07  South         Bob   Tablet      8        250   \n",
      "11      112  2024-01-08  South     Charlie  Monitor      3        200   \n",
      "13      114  2024-01-08  South         Bob   Laptop      3        600   \n",
      "14      115  2024-01-26  South       Alice   Tablet      5        250   \n",
      "18      119  2024-01-19  South       Alice   Laptop      8        600   \n",
      "26      127  2024-01-03  South       Diana    Phone      7        300   \n",
      "27      128  2024-01-07  South       Diana    Phone      3        300   \n",
      "33      134  2024-01-04  South       Alice   Laptop      1        600   \n",
      "35      136  2024-01-28  South       Alice   Tablet     11        250   \n",
      "41      142  2024-01-19  South       Diana   Laptop      1        600   \n",
      "42      143  2024-01-15  South       Diana   Laptop      1        600   \n",
      "44      145  2024-01-03  South         Bob    Phone     12        300   \n",
      "46      147  2024-01-25  South       Diana   Laptop     12        600   \n",
      "49      150  2024-01-29  South         Bob  Monitor      1        200   \n",
      "\n",
      "    TotalSales  \n",
      "0         1200  \n",
      "1         3250  \n",
      "4         1200  \n",
      "9         2000  \n",
      "11         600  \n",
      "13        1800  \n",
      "14        1250  \n",
      "18        4800  \n",
      "26        2100  \n",
      "27         900  \n",
      "33         600  \n",
      "35        2750  \n",
      "41         600  \n",
      "42         600  \n",
      "44        3600  \n",
      "46        7200  \n",
      "49         200  \n"
     ]
    }
   ],
   "source": [
    "#Show all sales records from the South region.\n",
    "print(persons[persons['Region'] == 'South'])"
   ]
  },
  {
   "cell_type": "markdown",
   "id": "d6c717c5-9931-4e9e-bc81-30c9ef0fb05a",
   "metadata": {},
   "source": [
    "## 9) Find all sales where Units > 10."
   ]
  },
  {
   "cell_type": "code",
   "execution_count": 34,
   "id": "0f7d2f79-f5a1-42bf-af53-2abdf9643d38",
   "metadata": {},
   "outputs": [
    {
     "name": "stdout",
     "output_type": "stream",
     "text": [
      "    OrderID        Date Region SalesPerson     Product  Units  UnitPrice  \\\n",
      "1       102  2024-01-30  South       Diana      Tablet     13        250   \n",
      "7       108  2024-01-14  North     Charlie       Phone     14        300   \n",
      "10      111  2024-01-25   West      Edward       Phone     14        300   \n",
      "12      113  2024-01-07   East       Alice       Phone     13        300   \n",
      "16      117  2024-01-24   West      Edward  Headphones     15        100   \n",
      "17      118  2024-01-20   East      Edward      Laptop     15        600   \n",
      "21      122  2024-01-31  North       Diana     Monitor     15        200   \n",
      "24      125  2024-01-14   East       Diana       Phone     12        300   \n",
      "29      130  2024-01-18   East       Diana      Laptop     15        600   \n",
      "34      135  2024-01-05   East      Edward  Headphones     15        100   \n",
      "35      136  2024-01-28  South       Alice      Tablet     11        250   \n",
      "38      139  2024-01-27   West     Charlie  Headphones     12        100   \n",
      "44      145  2024-01-03  South         Bob       Phone     12        300   \n",
      "45      146  2024-01-07   East         Bob       Phone     14        300   \n",
      "46      147  2024-01-25  South       Diana      Laptop     12        600   \n",
      "47      148  2024-01-16   East     Charlie      Laptop     11        600   \n",
      "\n",
      "    TotalSales  \n",
      "1         3250  \n",
      "7         4200  \n",
      "10        4200  \n",
      "12        3900  \n",
      "16        1500  \n",
      "17        9000  \n",
      "21        3000  \n",
      "24        3600  \n",
      "29        9000  \n",
      "34        1500  \n",
      "35        2750  \n",
      "38        1200  \n",
      "44        3600  \n",
      "45        4200  \n",
      "46        7200  \n",
      "47        6600  \n"
     ]
    }
   ],
   "source": [
    "#Find all sales where Units > 10.\n",
    "print(persons[persons['Units'] > 10])"
   ]
  },
  {
   "cell_type": "markdown",
   "id": "3c3ec952-3879-4cb8-8134-6f86ac8c5070",
   "metadata": {},
   "source": [
    "## 10) Show sales records for the product Laptop."
   ]
  },
  {
   "cell_type": "code",
   "execution_count": 35,
   "id": "89609217-08b9-4723-970e-ea2bd6926ff7",
   "metadata": {},
   "outputs": [
    {
     "name": "stdout",
     "output_type": "stream",
     "text": [
      "    OrderID        Date Region SalesPerson Product  Units  UnitPrice  \\\n",
      "0       101  2024-01-06  South       Diana  Laptop      2        600   \n",
      "3       104  2024-01-01  North       Diana  Laptop      7        600   \n",
      "13      114  2024-01-08  South         Bob  Laptop      3        600   \n",
      "17      118  2024-01-20   East      Edward  Laptop     15        600   \n",
      "18      119  2024-01-19  South       Alice  Laptop      8        600   \n",
      "22      123  2024-01-28   East         Bob  Laptop      2        600   \n",
      "23      124  2024-01-31  North       Alice  Laptop      5        600   \n",
      "29      130  2024-01-18   East       Diana  Laptop     15        600   \n",
      "33      134  2024-01-04  South       Alice  Laptop      1        600   \n",
      "41      142  2024-01-19  South       Diana  Laptop      1        600   \n",
      "42      143  2024-01-15  South       Diana  Laptop      1        600   \n",
      "43      144  2024-01-20   East     Charlie  Laptop      9        600   \n",
      "46      147  2024-01-25  South       Diana  Laptop     12        600   \n",
      "47      148  2024-01-16   East     Charlie  Laptop     11        600   \n",
      "\n",
      "    TotalSales  \n",
      "0         1200  \n",
      "3         4200  \n",
      "13        1800  \n",
      "17        9000  \n",
      "18        4800  \n",
      "22        1200  \n",
      "23        3000  \n",
      "29        9000  \n",
      "33         600  \n",
      "41         600  \n",
      "42         600  \n",
      "43        5400  \n",
      "46        7200  \n",
      "47        6600  \n"
     ]
    }
   ],
   "source": [
    "#Show sales records for the product Laptop.\n",
    "print(persons[persons['Product'] == 'Laptop'])"
   ]
  },
  {
   "cell_type": "markdown",
   "id": "12c01407-2c02-44a6-92de-eb7935a06bb8",
   "metadata": {},
   "source": [
    "## 11) Display all sales made by Bob."
   ]
  },
  {
   "cell_type": "code",
   "execution_count": 36,
   "id": "1e04588a-985a-4d03-8804-3f57a9158b36",
   "metadata": {},
   "outputs": [
    {
     "name": "stdout",
     "output_type": "stream",
     "text": [
      "    OrderID        Date Region SalesPerson     Product  Units  UnitPrice  \\\n",
      "2       103  2024-01-26   East         Bob       Phone      1        300   \n",
      "8       109  2024-01-20  North         Bob     Monitor      2        200   \n",
      "9       110  2024-01-07  South         Bob      Tablet      8        250   \n",
      "13      114  2024-01-08  South         Bob      Laptop      3        600   \n",
      "22      123  2024-01-28   East         Bob      Laptop      2        600   \n",
      "30      131  2024-01-24  North         Bob  Headphones      3        100   \n",
      "44      145  2024-01-03  South         Bob       Phone     12        300   \n",
      "45      146  2024-01-07   East         Bob       Phone     14        300   \n",
      "49      150  2024-01-29  South         Bob     Monitor      1        200   \n",
      "\n",
      "    TotalSales  \n",
      "2          300  \n",
      "8          400  \n",
      "9         2000  \n",
      "13        1800  \n",
      "22        1200  \n",
      "30         300  \n",
      "44        3600  \n",
      "45        4200  \n",
      "49         200  \n"
     ]
    }
   ],
   "source": [
    "#Display all sales made by Bob.\n",
    "print(persons[persons['SalesPerson'] == 'Bob'])"
   ]
  },
  {
   "cell_type": "markdown",
   "id": "93a99d29-9a7a-48eb-9bd1-da67a753ccba",
   "metadata": {},
   "source": [
    "## 12) Add a new column DiscountedSales = TotalSales × 0.9 (10% discount)."
   ]
  },
  {
   "cell_type": "code",
   "execution_count": 37,
   "id": "be950ff6-3bcb-4361-a824-4475b7f40282",
   "metadata": {},
   "outputs": [
    {
     "name": "stdout",
     "output_type": "stream",
     "text": [
      "    OrderID        Date Region SalesPerson     Product  Units  UnitPrice  \\\n",
      "0       101  2024-01-06  South       Diana      Laptop      2        600   \n",
      "1       102  2024-01-30  South       Diana      Tablet     13        250   \n",
      "2       103  2024-01-26   East         Bob       Phone      1        300   \n",
      "3       104  2024-01-01  North       Diana      Laptop      7        600   \n",
      "4       105  2024-01-13  South     Charlie     Monitor      6        200   \n",
      "5       106  2024-01-12   East       Alice      Tablet      8        250   \n",
      "6       107  2024-01-03   West      Edward     Monitor      8        200   \n",
      "7       108  2024-01-14  North     Charlie       Phone     14        300   \n",
      "8       109  2024-01-20  North         Bob     Monitor      2        200   \n",
      "9       110  2024-01-07  South         Bob      Tablet      8        250   \n",
      "10      111  2024-01-25   West      Edward       Phone     14        300   \n",
      "11      112  2024-01-08  South     Charlie     Monitor      3        200   \n",
      "12      113  2024-01-07   East       Alice       Phone     13        300   \n",
      "13      114  2024-01-08  South         Bob      Laptop      3        600   \n",
      "14      115  2024-01-26  South       Alice      Tablet      5        250   \n",
      "15      116  2024-01-01   West       Diana     Monitor      9        200   \n",
      "16      117  2024-01-24   West      Edward  Headphones     15        100   \n",
      "17      118  2024-01-20   East      Edward      Laptop     15        600   \n",
      "18      119  2024-01-19  South       Alice      Laptop      8        600   \n",
      "19      120  2024-01-25   East       Diana       Phone      1        300   \n",
      "20      121  2024-01-26   West       Diana     Monitor      7        200   \n",
      "21      122  2024-01-31  North       Diana     Monitor     15        200   \n",
      "22      123  2024-01-28   East         Bob      Laptop      2        600   \n",
      "23      124  2024-01-31  North       Alice      Laptop      5        600   \n",
      "24      125  2024-01-14   East       Diana       Phone     12        300   \n",
      "25      126  2024-01-20   West     Charlie     Monitor     10        200   \n",
      "26      127  2024-01-03  South       Diana       Phone      7        300   \n",
      "27      128  2024-01-07  South       Diana       Phone      3        300   \n",
      "28      129  2024-01-07   West       Diana  Headphones      8        100   \n",
      "29      130  2024-01-18   East       Diana      Laptop     15        600   \n",
      "30      131  2024-01-24  North         Bob  Headphones      3        100   \n",
      "31      132  2024-01-26  North       Diana     Monitor     10        200   \n",
      "32      133  2024-01-06  North      Edward     Monitor      1        200   \n",
      "33      134  2024-01-04  South       Alice      Laptop      1        600   \n",
      "34      135  2024-01-05   East      Edward  Headphones     15        100   \n",
      "35      136  2024-01-28  South       Alice      Tablet     11        250   \n",
      "36      137  2024-01-19   West     Charlie     Monitor      4        200   \n",
      "37      138  2024-01-12   West     Charlie     Monitor      7        200   \n",
      "38      139  2024-01-27   West     Charlie  Headphones     12        100   \n",
      "39      140  2024-01-05   East      Edward      Tablet     10        250   \n",
      "40      141  2024-01-14   West     Charlie       Phone      8        300   \n",
      "41      142  2024-01-19  South       Diana      Laptop      1        600   \n",
      "42      143  2024-01-15  South       Diana      Laptop      1        600   \n",
      "43      144  2024-01-20   East     Charlie      Laptop      9        600   \n",
      "44      145  2024-01-03  South         Bob       Phone     12        300   \n",
      "45      146  2024-01-07   East         Bob       Phone     14        300   \n",
      "46      147  2024-01-25  South       Diana      Laptop     12        600   \n",
      "47      148  2024-01-16   East     Charlie      Laptop     11        600   \n",
      "48      149  2024-01-20   East      Edward      Tablet      9        250   \n",
      "49      150  2024-01-29  South         Bob     Monitor      1        200   \n",
      "\n",
      "    TotalSales  DiscountSales  \n",
      "0         1200         1080.0  \n",
      "1         3250         2925.0  \n",
      "2          300          270.0  \n",
      "3         4200         3780.0  \n",
      "4         1200         1080.0  \n",
      "5         2000         1800.0  \n",
      "6         1600         1440.0  \n",
      "7         4200         3780.0  \n",
      "8          400          360.0  \n",
      "9         2000         1800.0  \n",
      "10        4200         3780.0  \n",
      "11         600          540.0  \n",
      "12        3900         3510.0  \n",
      "13        1800         1620.0  \n",
      "14        1250         1125.0  \n",
      "15        1800         1620.0  \n",
      "16        1500         1350.0  \n",
      "17        9000         8100.0  \n",
      "18        4800         4320.0  \n",
      "19         300          270.0  \n",
      "20        1400         1260.0  \n",
      "21        3000         2700.0  \n",
      "22        1200         1080.0  \n",
      "23        3000         2700.0  \n",
      "24        3600         3240.0  \n",
      "25        2000         1800.0  \n",
      "26        2100         1890.0  \n",
      "27         900          810.0  \n",
      "28         800          720.0  \n",
      "29        9000         8100.0  \n",
      "30         300          270.0  \n",
      "31        2000         1800.0  \n",
      "32         200          180.0  \n",
      "33         600          540.0  \n",
      "34        1500         1350.0  \n",
      "35        2750         2475.0  \n",
      "36         800          720.0  \n",
      "37        1400         1260.0  \n",
      "38        1200         1080.0  \n",
      "39        2500         2250.0  \n",
      "40        2400         2160.0  \n",
      "41         600          540.0  \n",
      "42         600          540.0  \n",
      "43        5400         4860.0  \n",
      "44        3600         3240.0  \n",
      "45        4200         3780.0  \n",
      "46        7200         6480.0  \n",
      "47        6600         5940.0  \n",
      "48        2250         2025.0  \n",
      "49         200          180.0  \n"
     ]
    }
   ],
   "source": [
    "#Add a new column DiscountedSales = TotalSales × 0.9 (10% discount).\n",
    "persons['DiscountSales'] = persons['TotalSales'] * 0.9\n",
    "print(persons)"
   ]
  },
  {
   "cell_type": "markdown",
   "id": "456c331b-c673-4aa5-a3f9-7e37cd37a006",
   "metadata": {},
   "source": [
    "## 13) Add a new column Profit = 25% of TotalSales."
   ]
  },
  {
   "cell_type": "code",
   "execution_count": 38,
   "id": "7d4db948-446a-47b8-8668-a342bbdda994",
   "metadata": {},
   "outputs": [
    {
     "name": "stdout",
     "output_type": "stream",
     "text": [
      "    OrderID        Date Region SalesPerson     Product  Units  UnitPrice  \\\n",
      "0       101  2024-01-06  South       Diana      Laptop      2        600   \n",
      "1       102  2024-01-30  South       Diana      Tablet     13        250   \n",
      "2       103  2024-01-26   East         Bob       Phone      1        300   \n",
      "3       104  2024-01-01  North       Diana      Laptop      7        600   \n",
      "4       105  2024-01-13  South     Charlie     Monitor      6        200   \n",
      "5       106  2024-01-12   East       Alice      Tablet      8        250   \n",
      "6       107  2024-01-03   West      Edward     Monitor      8        200   \n",
      "7       108  2024-01-14  North     Charlie       Phone     14        300   \n",
      "8       109  2024-01-20  North         Bob     Monitor      2        200   \n",
      "9       110  2024-01-07  South         Bob      Tablet      8        250   \n",
      "10      111  2024-01-25   West      Edward       Phone     14        300   \n",
      "11      112  2024-01-08  South     Charlie     Monitor      3        200   \n",
      "12      113  2024-01-07   East       Alice       Phone     13        300   \n",
      "13      114  2024-01-08  South         Bob      Laptop      3        600   \n",
      "14      115  2024-01-26  South       Alice      Tablet      5        250   \n",
      "15      116  2024-01-01   West       Diana     Monitor      9        200   \n",
      "16      117  2024-01-24   West      Edward  Headphones     15        100   \n",
      "17      118  2024-01-20   East      Edward      Laptop     15        600   \n",
      "18      119  2024-01-19  South       Alice      Laptop      8        600   \n",
      "19      120  2024-01-25   East       Diana       Phone      1        300   \n",
      "20      121  2024-01-26   West       Diana     Monitor      7        200   \n",
      "21      122  2024-01-31  North       Diana     Monitor     15        200   \n",
      "22      123  2024-01-28   East         Bob      Laptop      2        600   \n",
      "23      124  2024-01-31  North       Alice      Laptop      5        600   \n",
      "24      125  2024-01-14   East       Diana       Phone     12        300   \n",
      "25      126  2024-01-20   West     Charlie     Monitor     10        200   \n",
      "26      127  2024-01-03  South       Diana       Phone      7        300   \n",
      "27      128  2024-01-07  South       Diana       Phone      3        300   \n",
      "28      129  2024-01-07   West       Diana  Headphones      8        100   \n",
      "29      130  2024-01-18   East       Diana      Laptop     15        600   \n",
      "30      131  2024-01-24  North         Bob  Headphones      3        100   \n",
      "31      132  2024-01-26  North       Diana     Monitor     10        200   \n",
      "32      133  2024-01-06  North      Edward     Monitor      1        200   \n",
      "33      134  2024-01-04  South       Alice      Laptop      1        600   \n",
      "34      135  2024-01-05   East      Edward  Headphones     15        100   \n",
      "35      136  2024-01-28  South       Alice      Tablet     11        250   \n",
      "36      137  2024-01-19   West     Charlie     Monitor      4        200   \n",
      "37      138  2024-01-12   West     Charlie     Monitor      7        200   \n",
      "38      139  2024-01-27   West     Charlie  Headphones     12        100   \n",
      "39      140  2024-01-05   East      Edward      Tablet     10        250   \n",
      "40      141  2024-01-14   West     Charlie       Phone      8        300   \n",
      "41      142  2024-01-19  South       Diana      Laptop      1        600   \n",
      "42      143  2024-01-15  South       Diana      Laptop      1        600   \n",
      "43      144  2024-01-20   East     Charlie      Laptop      9        600   \n",
      "44      145  2024-01-03  South         Bob       Phone     12        300   \n",
      "45      146  2024-01-07   East         Bob       Phone     14        300   \n",
      "46      147  2024-01-25  South       Diana      Laptop     12        600   \n",
      "47      148  2024-01-16   East     Charlie      Laptop     11        600   \n",
      "48      149  2024-01-20   East      Edward      Tablet      9        250   \n",
      "49      150  2024-01-29  South         Bob     Monitor      1        200   \n",
      "\n",
      "    TotalSales  DiscountSales  Profit  \n",
      "0         1200         1080.0   300.0  \n",
      "1         3250         2925.0   812.5  \n",
      "2          300          270.0    75.0  \n",
      "3         4200         3780.0  1050.0  \n",
      "4         1200         1080.0   300.0  \n",
      "5         2000         1800.0   500.0  \n",
      "6         1600         1440.0   400.0  \n",
      "7         4200         3780.0  1050.0  \n",
      "8          400          360.0   100.0  \n",
      "9         2000         1800.0   500.0  \n",
      "10        4200         3780.0  1050.0  \n",
      "11         600          540.0   150.0  \n",
      "12        3900         3510.0   975.0  \n",
      "13        1800         1620.0   450.0  \n",
      "14        1250         1125.0   312.5  \n",
      "15        1800         1620.0   450.0  \n",
      "16        1500         1350.0   375.0  \n",
      "17        9000         8100.0  2250.0  \n",
      "18        4800         4320.0  1200.0  \n",
      "19         300          270.0    75.0  \n",
      "20        1400         1260.0   350.0  \n",
      "21        3000         2700.0   750.0  \n",
      "22        1200         1080.0   300.0  \n",
      "23        3000         2700.0   750.0  \n",
      "24        3600         3240.0   900.0  \n",
      "25        2000         1800.0   500.0  \n",
      "26        2100         1890.0   525.0  \n",
      "27         900          810.0   225.0  \n",
      "28         800          720.0   200.0  \n",
      "29        9000         8100.0  2250.0  \n",
      "30         300          270.0    75.0  \n",
      "31        2000         1800.0   500.0  \n",
      "32         200          180.0    50.0  \n",
      "33         600          540.0   150.0  \n",
      "34        1500         1350.0   375.0  \n",
      "35        2750         2475.0   687.5  \n",
      "36         800          720.0   200.0  \n",
      "37        1400         1260.0   350.0  \n",
      "38        1200         1080.0   300.0  \n",
      "39        2500         2250.0   625.0  \n",
      "40        2400         2160.0   600.0  \n",
      "41         600          540.0   150.0  \n",
      "42         600          540.0   150.0  \n",
      "43        5400         4860.0  1350.0  \n",
      "44        3600         3240.0   900.0  \n",
      "45        4200         3780.0  1050.0  \n",
      "46        7200         6480.0  1800.0  \n",
      "47        6600         5940.0  1650.0  \n",
      "48        2250         2025.0   562.5  \n",
      "49         200          180.0    50.0  \n"
     ]
    }
   ],
   "source": [
    "#Add a new column Profit = 25% of TotalSales.\n",
    "persons['Profit'] = persons['TotalSales'] * 0.25\n",
    "print(persons)"
   ]
  },
  {
   "cell_type": "markdown",
   "id": "0665c9c4-2dec-45ae-9c63-dc7f1bddc230",
   "metadata": {},
   "source": [
    "## 14) Sort the sales by TotalSales in descending order."
   ]
  },
  {
   "cell_type": "code",
   "execution_count": 39,
   "id": "7373ff5e-075b-444e-84d4-cee8925451c6",
   "metadata": {},
   "outputs": [
    {
     "name": "stdout",
     "output_type": "stream",
     "text": [
      "    OrderID        Date Region SalesPerson     Product  Units  UnitPrice  \\\n",
      "17      118  2024-01-20   East      Edward      Laptop     15        600   \n",
      "29      130  2024-01-18   East       Diana      Laptop     15        600   \n",
      "46      147  2024-01-25  South       Diana      Laptop     12        600   \n",
      "47      148  2024-01-16   East     Charlie      Laptop     11        600   \n",
      "43      144  2024-01-20   East     Charlie      Laptop      9        600   \n",
      "18      119  2024-01-19  South       Alice      Laptop      8        600   \n",
      "10      111  2024-01-25   West      Edward       Phone     14        300   \n",
      "7       108  2024-01-14  North     Charlie       Phone     14        300   \n",
      "45      146  2024-01-07   East         Bob       Phone     14        300   \n",
      "3       104  2024-01-01  North       Diana      Laptop      7        600   \n",
      "12      113  2024-01-07   East       Alice       Phone     13        300   \n",
      "24      125  2024-01-14   East       Diana       Phone     12        300   \n",
      "44      145  2024-01-03  South         Bob       Phone     12        300   \n",
      "1       102  2024-01-30  South       Diana      Tablet     13        250   \n",
      "23      124  2024-01-31  North       Alice      Laptop      5        600   \n",
      "21      122  2024-01-31  North       Diana     Monitor     15        200   \n",
      "35      136  2024-01-28  South       Alice      Tablet     11        250   \n",
      "39      140  2024-01-05   East      Edward      Tablet     10        250   \n",
      "40      141  2024-01-14   West     Charlie       Phone      8        300   \n",
      "48      149  2024-01-20   East      Edward      Tablet      9        250   \n",
      "26      127  2024-01-03  South       Diana       Phone      7        300   \n",
      "5       106  2024-01-12   East       Alice      Tablet      8        250   \n",
      "31      132  2024-01-26  North       Diana     Monitor     10        200   \n",
      "25      126  2024-01-20   West     Charlie     Monitor     10        200   \n",
      "9       110  2024-01-07  South         Bob      Tablet      8        250   \n",
      "15      116  2024-01-01   West       Diana     Monitor      9        200   \n",
      "13      114  2024-01-08  South         Bob      Laptop      3        600   \n",
      "6       107  2024-01-03   West      Edward     Monitor      8        200   \n",
      "16      117  2024-01-24   West      Edward  Headphones     15        100   \n",
      "34      135  2024-01-05   East      Edward  Headphones     15        100   \n",
      "37      138  2024-01-12   West     Charlie     Monitor      7        200   \n",
      "20      121  2024-01-26   West       Diana     Monitor      7        200   \n",
      "14      115  2024-01-26  South       Alice      Tablet      5        250   \n",
      "0       101  2024-01-06  South       Diana      Laptop      2        600   \n",
      "22      123  2024-01-28   East         Bob      Laptop      2        600   \n",
      "38      139  2024-01-27   West     Charlie  Headphones     12        100   \n",
      "4       105  2024-01-13  South     Charlie     Monitor      6        200   \n",
      "27      128  2024-01-07  South       Diana       Phone      3        300   \n",
      "36      137  2024-01-19   West     Charlie     Monitor      4        200   \n",
      "28      129  2024-01-07   West       Diana  Headphones      8        100   \n",
      "11      112  2024-01-08  South     Charlie     Monitor      3        200   \n",
      "41      142  2024-01-19  South       Diana      Laptop      1        600   \n",
      "42      143  2024-01-15  South       Diana      Laptop      1        600   \n",
      "33      134  2024-01-04  South       Alice      Laptop      1        600   \n",
      "8       109  2024-01-20  North         Bob     Monitor      2        200   \n",
      "2       103  2024-01-26   East         Bob       Phone      1        300   \n",
      "19      120  2024-01-25   East       Diana       Phone      1        300   \n",
      "30      131  2024-01-24  North         Bob  Headphones      3        100   \n",
      "32      133  2024-01-06  North      Edward     Monitor      1        200   \n",
      "49      150  2024-01-29  South         Bob     Monitor      1        200   \n",
      "\n",
      "    TotalSales  DiscountSales  Profit  \n",
      "17        9000         8100.0  2250.0  \n",
      "29        9000         8100.0  2250.0  \n",
      "46        7200         6480.0  1800.0  \n",
      "47        6600         5940.0  1650.0  \n",
      "43        5400         4860.0  1350.0  \n",
      "18        4800         4320.0  1200.0  \n",
      "10        4200         3780.0  1050.0  \n",
      "7         4200         3780.0  1050.0  \n",
      "45        4200         3780.0  1050.0  \n",
      "3         4200         3780.0  1050.0  \n",
      "12        3900         3510.0   975.0  \n",
      "24        3600         3240.0   900.0  \n",
      "44        3600         3240.0   900.0  \n",
      "1         3250         2925.0   812.5  \n",
      "23        3000         2700.0   750.0  \n",
      "21        3000         2700.0   750.0  \n",
      "35        2750         2475.0   687.5  \n",
      "39        2500         2250.0   625.0  \n",
      "40        2400         2160.0   600.0  \n",
      "48        2250         2025.0   562.5  \n",
      "26        2100         1890.0   525.0  \n",
      "5         2000         1800.0   500.0  \n",
      "31        2000         1800.0   500.0  \n",
      "25        2000         1800.0   500.0  \n",
      "9         2000         1800.0   500.0  \n",
      "15        1800         1620.0   450.0  \n",
      "13        1800         1620.0   450.0  \n",
      "6         1600         1440.0   400.0  \n",
      "16        1500         1350.0   375.0  \n",
      "34        1500         1350.0   375.0  \n",
      "37        1400         1260.0   350.0  \n",
      "20        1400         1260.0   350.0  \n",
      "14        1250         1125.0   312.5  \n",
      "0         1200         1080.0   300.0  \n",
      "22        1200         1080.0   300.0  \n",
      "38        1200         1080.0   300.0  \n",
      "4         1200         1080.0   300.0  \n",
      "27         900          810.0   225.0  \n",
      "36         800          720.0   200.0  \n",
      "28         800          720.0   200.0  \n",
      "11         600          540.0   150.0  \n",
      "41         600          540.0   150.0  \n",
      "42         600          540.0   150.0  \n",
      "33         600          540.0   150.0  \n",
      "8          400          360.0   100.0  \n",
      "2          300          270.0    75.0  \n",
      "19         300          270.0    75.0  \n",
      "30         300          270.0    75.0  \n",
      "32         200          180.0    50.0  \n",
      "49         200          180.0    50.0  \n"
     ]
    }
   ],
   "source": [
    "#Sort the sales by TotalSales in descending order.\n",
    "sales = persons.sort_values(\"TotalSales\", ascending=False)\n",
    "print(sales)"
   ]
  },
  {
   "cell_type": "markdown",
   "id": "48e3e2e5-3625-4090-9ee2-23adb3d6637d",
   "metadata": {},
   "source": [
    "## 15) Replace the region “North” with “North Zone”."
   ]
  },
  {
   "cell_type": "code",
   "execution_count": 40,
   "id": "c26a33c9-fd6e-4948-b7fe-7c92fe21a584",
   "metadata": {},
   "outputs": [
    {
     "name": "stdout",
     "output_type": "stream",
     "text": [
      "0          South\n",
      "1          South\n",
      "2           East\n",
      "3     North Zone\n",
      "4          South\n",
      "5           East\n",
      "6           West\n",
      "7     North Zone\n",
      "8     North Zone\n",
      "9          South\n",
      "10          West\n",
      "11         South\n",
      "12          East\n",
      "13         South\n",
      "14         South\n",
      "15          West\n",
      "16          West\n",
      "17          East\n",
      "18         South\n",
      "19          East\n",
      "20          West\n",
      "21    North Zone\n",
      "22          East\n",
      "23    North Zone\n",
      "24          East\n",
      "25          West\n",
      "26         South\n",
      "27         South\n",
      "28          West\n",
      "29          East\n",
      "30    North Zone\n",
      "31    North Zone\n",
      "32    North Zone\n",
      "33         South\n",
      "34          East\n",
      "35         South\n",
      "36          West\n",
      "37          West\n",
      "38          West\n",
      "39          East\n",
      "40          West\n",
      "41         South\n",
      "42         South\n",
      "43          East\n",
      "44         South\n",
      "45          East\n",
      "46         South\n",
      "47          East\n",
      "48          East\n",
      "49         South\n",
      "Name: Region, dtype: object\n"
     ]
    }
   ],
   "source": [
    "#Replace the region “North” with “North Zone”.\n",
    "reg = persons['Region'].replace('North','North Zone')\n",
    "print(reg)"
   ]
  },
  {
   "cell_type": "markdown",
   "id": "3a50d1f7-d2ed-4b4c-85e0-fc145bdcc59f",
   "metadata": {},
   "source": [
    "## 16) Convert the Date column into month names."
   ]
  },
  {
   "cell_type": "code",
   "execution_count": 41,
   "id": "a4e84e33-9a91-4ece-b994-c6e5a140bd42",
   "metadata": {},
   "outputs": [
    {
     "name": "stdout",
     "output_type": "stream",
     "text": [
      "    OrderID       Date Region SalesPerson     Product  Units  UnitPrice  \\\n",
      "0       101 2024-01-06  South       Diana      Laptop      2        600   \n",
      "1       102 2024-01-30  South       Diana      Tablet     13        250   \n",
      "2       103 2024-01-26   East         Bob       Phone      1        300   \n",
      "3       104 2024-01-01  North       Diana      Laptop      7        600   \n",
      "4       105 2024-01-13  South     Charlie     Monitor      6        200   \n",
      "5       106 2024-01-12   East       Alice      Tablet      8        250   \n",
      "6       107 2024-01-03   West      Edward     Monitor      8        200   \n",
      "7       108 2024-01-14  North     Charlie       Phone     14        300   \n",
      "8       109 2024-01-20  North         Bob     Monitor      2        200   \n",
      "9       110 2024-01-07  South         Bob      Tablet      8        250   \n",
      "10      111 2024-01-25   West      Edward       Phone     14        300   \n",
      "11      112 2024-01-08  South     Charlie     Monitor      3        200   \n",
      "12      113 2024-01-07   East       Alice       Phone     13        300   \n",
      "13      114 2024-01-08  South         Bob      Laptop      3        600   \n",
      "14      115 2024-01-26  South       Alice      Tablet      5        250   \n",
      "15      116 2024-01-01   West       Diana     Monitor      9        200   \n",
      "16      117 2024-01-24   West      Edward  Headphones     15        100   \n",
      "17      118 2024-01-20   East      Edward      Laptop     15        600   \n",
      "18      119 2024-01-19  South       Alice      Laptop      8        600   \n",
      "19      120 2024-01-25   East       Diana       Phone      1        300   \n",
      "20      121 2024-01-26   West       Diana     Monitor      7        200   \n",
      "21      122 2024-01-31  North       Diana     Monitor     15        200   \n",
      "22      123 2024-01-28   East         Bob      Laptop      2        600   \n",
      "23      124 2024-01-31  North       Alice      Laptop      5        600   \n",
      "24      125 2024-01-14   East       Diana       Phone     12        300   \n",
      "25      126 2024-01-20   West     Charlie     Monitor     10        200   \n",
      "26      127 2024-01-03  South       Diana       Phone      7        300   \n",
      "27      128 2024-01-07  South       Diana       Phone      3        300   \n",
      "28      129 2024-01-07   West       Diana  Headphones      8        100   \n",
      "29      130 2024-01-18   East       Diana      Laptop     15        600   \n",
      "30      131 2024-01-24  North         Bob  Headphones      3        100   \n",
      "31      132 2024-01-26  North       Diana     Monitor     10        200   \n",
      "32      133 2024-01-06  North      Edward     Monitor      1        200   \n",
      "33      134 2024-01-04  South       Alice      Laptop      1        600   \n",
      "34      135 2024-01-05   East      Edward  Headphones     15        100   \n",
      "35      136 2024-01-28  South       Alice      Tablet     11        250   \n",
      "36      137 2024-01-19   West     Charlie     Monitor      4        200   \n",
      "37      138 2024-01-12   West     Charlie     Monitor      7        200   \n",
      "38      139 2024-01-27   West     Charlie  Headphones     12        100   \n",
      "39      140 2024-01-05   East      Edward      Tablet     10        250   \n",
      "40      141 2024-01-14   West     Charlie       Phone      8        300   \n",
      "41      142 2024-01-19  South       Diana      Laptop      1        600   \n",
      "42      143 2024-01-15  South       Diana      Laptop      1        600   \n",
      "43      144 2024-01-20   East     Charlie      Laptop      9        600   \n",
      "44      145 2024-01-03  South         Bob       Phone     12        300   \n",
      "45      146 2024-01-07   East         Bob       Phone     14        300   \n",
      "46      147 2024-01-25  South       Diana      Laptop     12        600   \n",
      "47      148 2024-01-16   East     Charlie      Laptop     11        600   \n",
      "48      149 2024-01-20   East      Edward      Tablet      9        250   \n",
      "49      150 2024-01-29  South         Bob     Monitor      1        200   \n",
      "\n",
      "    TotalSales  DiscountSales  Profit    Month  \n",
      "0         1200         1080.0   300.0  January  \n",
      "1         3250         2925.0   812.5  January  \n",
      "2          300          270.0    75.0  January  \n",
      "3         4200         3780.0  1050.0  January  \n",
      "4         1200         1080.0   300.0  January  \n",
      "5         2000         1800.0   500.0  January  \n",
      "6         1600         1440.0   400.0  January  \n",
      "7         4200         3780.0  1050.0  January  \n",
      "8          400          360.0   100.0  January  \n",
      "9         2000         1800.0   500.0  January  \n",
      "10        4200         3780.0  1050.0  January  \n",
      "11         600          540.0   150.0  January  \n",
      "12        3900         3510.0   975.0  January  \n",
      "13        1800         1620.0   450.0  January  \n",
      "14        1250         1125.0   312.5  January  \n",
      "15        1800         1620.0   450.0  January  \n",
      "16        1500         1350.0   375.0  January  \n",
      "17        9000         8100.0  2250.0  January  \n",
      "18        4800         4320.0  1200.0  January  \n",
      "19         300          270.0    75.0  January  \n",
      "20        1400         1260.0   350.0  January  \n",
      "21        3000         2700.0   750.0  January  \n",
      "22        1200         1080.0   300.0  January  \n",
      "23        3000         2700.0   750.0  January  \n",
      "24        3600         3240.0   900.0  January  \n",
      "25        2000         1800.0   500.0  January  \n",
      "26        2100         1890.0   525.0  January  \n",
      "27         900          810.0   225.0  January  \n",
      "28         800          720.0   200.0  January  \n",
      "29        9000         8100.0  2250.0  January  \n",
      "30         300          270.0    75.0  January  \n",
      "31        2000         1800.0   500.0  January  \n",
      "32         200          180.0    50.0  January  \n",
      "33         600          540.0   150.0  January  \n",
      "34        1500         1350.0   375.0  January  \n",
      "35        2750         2475.0   687.5  January  \n",
      "36         800          720.0   200.0  January  \n",
      "37        1400         1260.0   350.0  January  \n",
      "38        1200         1080.0   300.0  January  \n",
      "39        2500         2250.0   625.0  January  \n",
      "40        2400         2160.0   600.0  January  \n",
      "41         600          540.0   150.0  January  \n",
      "42         600          540.0   150.0  January  \n",
      "43        5400         4860.0  1350.0  January  \n",
      "44        3600         3240.0   900.0  January  \n",
      "45        4200         3780.0  1050.0  January  \n",
      "46        7200         6480.0  1800.0  January  \n",
      "47        6600         5940.0  1650.0  January  \n",
      "48        2250         2025.0   562.5  January  \n",
      "49         200          180.0    50.0  January  \n"
     ]
    }
   ],
   "source": [
    "#Convert the Date column into month names.\n",
    "persons['Date'] = pd.to_datetime(persons['Date'])\n",
    "persons['Month'] = persons['Date'].dt.month_name()\n",
    "print(persons)"
   ]
  },
  {
   "cell_type": "markdown",
   "id": "906a5e0c-7b39-4c2b-a67b-3d21cf28dec2",
   "metadata": {},
   "source": [
    "## 17) Convert the Date column into month names. "
   ]
  },
  {
   "cell_type": "code",
   "execution_count": 42,
   "id": "17a5da56-bcb4-49ab-89bc-16035c966549",
   "metadata": {},
   "outputs": [
    {
     "name": "stdout",
     "output_type": "stream",
     "text": [
      "Region\n",
      "East     51750\n",
      "North    17300\n",
      "South    34650\n",
      "West     19100\n",
      "Name: TotalSales, dtype: int64\n"
     ]
    }
   ],
   "source": [
    "#Find the total sales per Region.\n",
    "tot = persons.groupby('Region')['TotalSales'].sum()\n",
    "print(tot)"
   ]
  },
  {
   "cell_type": "markdown",
   "id": "3108acd0-93b8-4f39-9ed3-b04268e41c91",
   "metadata": {},
   "source": [
    "## 18) Find the average Units sold per Product."
   ]
  },
  {
   "cell_type": "code",
   "execution_count": 43,
   "id": "defd8757-cfd4-43ac-a6ab-ee9d870c046f",
   "metadata": {},
   "outputs": [
    {
     "name": "stdout",
     "output_type": "stream",
     "text": [
      "Product\n",
      "Headphones    10.600000\n",
      "Laptop         6.571429\n",
      "Monitor        6.384615\n",
      "Phone          9.000000\n",
      "Tablet         9.142857\n",
      "Name: Units, dtype: float64\n"
     ]
    }
   ],
   "source": [
    "#Find the average Units sold per Product.\n",
    "aver = persons.groupby('Product')['Units'].mean()\n",
    "print(aver)"
   ]
  },
  {
   "cell_type": "markdown",
   "id": "42ec7afd-e502-4f83-930b-ba8cd4eb6223",
   "metadata": {},
   "source": [
    "## 19) Count how many sales each SalesPerson made."
   ]
  },
  {
   "cell_type": "code",
   "execution_count": 44,
   "id": "abc958fb-9adc-4fa1-8a2f-336e64135c40",
   "metadata": {},
   "outputs": [
    {
     "name": "stdout",
     "output_type": "stream",
     "text": [
      "SalesPerson\n",
      "Diana      16\n",
      "Charlie    10\n",
      "Bob         9\n",
      "Edward      8\n",
      "Alice       7\n",
      "Name: count, dtype: int64\n"
     ]
    }
   ],
   "source": [
    "#Count how many sales each SalesPerson made.\n",
    "print(persons['SalesPerson'].value_counts())"
   ]
  },
  {
   "cell_type": "markdown",
   "id": "0210c2f6-f484-4fcd-8ab1-3d5eccf10953",
   "metadata": {},
   "source": [
    "## 20) Find the highest TotalSales for each Region"
   ]
  },
  {
   "cell_type": "code",
   "execution_count": 45,
   "id": "2d516555-3b73-423c-881f-1fd8d730e53e",
   "metadata": {},
   "outputs": [
    {
     "name": "stdout",
     "output_type": "stream",
     "text": [
      "Region\n",
      "East     9000\n",
      "North    4200\n",
      "South    7200\n",
      "West     4200\n",
      "Name: TotalSales, dtype: int64\n"
     ]
    }
   ],
   "source": [
    "#Find the highest TotalSales for each Region\n",
    "high = persons.groupby('Region')['TotalSales'].max()\n",
    "print(high)"
   ]
  },
  {
   "cell_type": "markdown",
   "id": "2b464a60-7a96-4fe8-b1d9-ee54daa8404b",
   "metadata": {},
   "source": [
    "## 21) Find the total revenue per Product."
   ]
  },
  {
   "cell_type": "code",
   "execution_count": 46,
   "id": "cae41018-0599-45ab-ad2b-54b7b5a39e0f",
   "metadata": {},
   "outputs": [
    {
     "name": "stdout",
     "output_type": "stream",
     "text": [
      "Product\n",
      "Headphones     5300\n",
      "Laptop        55200\n",
      "Monitor       16600\n",
      "Phone         29700\n",
      "Tablet        16000\n",
      "Name: TotalSales, dtype: int64\n"
     ]
    }
   ],
   "source": [
    "#Find the total revenue per Product.\n",
    "revenue = persons.groupby('Product')['TotalSales'].sum()\n",
    "print(revenue)"
   ]
  },
  {
   "cell_type": "markdown",
   "id": "7aae647b-bb24-4047-9d3a-cf24c65a8c30",
   "metadata": {},
   "source": [
    "## 22) Identify the top-performing SalesPerson in terms of revenue."
   ]
  },
  {
   "cell_type": "code",
   "execution_count": 47,
   "id": "66188af8-4b31-48f3-9e63-97c374271cd6",
   "metadata": {},
   "outputs": [
    {
     "name": "stdout",
     "output_type": "stream",
     "text": [
      "SalesPerson\n",
      "Diana    41950\n",
      "Name: TotalSales, dtype: int64\n"
     ]
    }
   ],
   "source": [
    "#Identify the top-performing SalesPerson in terms of revenue.\n",
    "top_performing = persons.groupby('SalesPerson')['TotalSales'].sum()\n",
    "top = top_performing.sort_values(ascending=False)\n",
    "print(top.head(1))"
   ]
  },
  {
   "cell_type": "markdown",
   "id": "77c83f66-49fa-4a04-8c2c-e8558c270662",
   "metadata": {},
   "source": [
    "## 23) Find the product that generated the highest overall sales."
   ]
  },
  {
   "cell_type": "code",
   "execution_count": 48,
   "id": "2001b281-7a6c-4431-a327-12b26f9e8f65",
   "metadata": {},
   "outputs": [
    {
     "name": "stdout",
     "output_type": "stream",
     "text": [
      "Product\n",
      "Laptop    55200\n",
      "Name: TotalSales, dtype: int64\n"
     ]
    }
   ],
   "source": [
    "#Find the product that generated the highest overall sales.\n",
    "highest_sales = persons.groupby('Product')['TotalSales'].sum()\n",
    "highest = highest_sales.sort_values(ascending=False)\n",
    "print(highest.head(1))"
   ]
  },
  {
   "cell_type": "markdown",
   "id": "7cfbef69-bd24-4f7e-afab-aeb6384fffb7",
   "metadata": {},
   "source": [
    "## 24) Show the monthly total sales trend."
   ]
  },
  {
   "cell_type": "code",
   "execution_count": 49,
   "id": "df1a54d5-614f-4e6f-b8fa-c630506d67fa",
   "metadata": {},
   "outputs": [
    {
     "name": "stdout",
     "output_type": "stream",
     "text": [
      "Month\n",
      "January    122800\n",
      "Name: TotalSales, dtype: int64\n"
     ]
    }
   ],
   "source": [
    "#Show the monthly total sales trend.\n",
    "print(persons.groupby('Month')['TotalSales'].sum())"
   ]
  },
  {
   "cell_type": "markdown",
   "id": "14f6c3d8-e1c7-417c-88f8-e0803fe012f0",
   "metadata": {},
   "source": [
    "## 25) Show sales where two different products have the same UnitPrice."
   ]
  },
  {
   "cell_type": "code",
   "execution_count": 50,
   "id": "5c071efe-038a-4542-9c63-b9d099c6336b",
   "metadata": {},
   "outputs": [
    {
     "name": "stdout",
     "output_type": "stream",
     "text": [
      "UnitPrice\n",
      "100    [Headphones]\n",
      "200       [Monitor]\n",
      "250        [Tablet]\n",
      "300         [Phone]\n",
      "600        [Laptop]\n",
      "Name: Product, dtype: object\n"
     ]
    }
   ],
   "source": [
    "#Show sales where two different products have the same UnitPrice.\n",
    "print(persons.groupby('UnitPrice')['Product'].unique())"
   ]
  },
  {
   "cell_type": "markdown",
   "id": "d5c34fa2-fe31-4c57-9156-758bf36cd714",
   "metadata": {},
   "source": [
    "## 26) Save the updated DataFrame into a new CSV file named company_sales_updated.csv."
   ]
  },
  {
   "cell_type": "code",
   "execution_count": 51,
   "id": "06448015-0b6b-404e-af08-f47039f484e9",
   "metadata": {},
   "outputs": [],
   "source": [
    "#Save the updated DataFrame into a new CSV file named company_sales_updated.csv.\n",
    "persons.to_csv('company_sales_person_updated.csv')"
   ]
  }
 ],
 "metadata": {
  "kernelspec": {
   "display_name": "Python 3 (ipykernel)",
   "language": "python",
   "name": "python3"
  },
  "language_info": {
   "codemirror_mode": {
    "name": "ipython",
    "version": 3
   },
   "file_extension": ".py",
   "mimetype": "text/x-python",
   "name": "python",
   "nbconvert_exporter": "python",
   "pygments_lexer": "ipython3",
   "version": "3.13.5"
  }
 },
 "nbformat": 4,
 "nbformat_minor": 5
}
