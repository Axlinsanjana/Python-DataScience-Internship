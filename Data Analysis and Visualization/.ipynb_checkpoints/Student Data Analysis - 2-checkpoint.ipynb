{
 "cells": [
  {
   "cell_type": "markdown",
   "id": "65aa082c-36ec-4d38-9c86-11550308fade",
   "metadata": {},
   "source": [
    "<center><h1><b>Student Data Analysis</h1></center>"
   ]
  },
  {
   "cell_type": "markdown",
   "id": "f6c5f5f8-2c38-4870-9227-ea8d74f8ebe0",
   "metadata": {},
   "source": [
    "# Understanding the Data   \n",
    "The dataset contains information about students, including attributes such as their names or IDs and different academic or demographic details (for example, marks scored, subjects taken, age, or class depending on the file contents). By loading and previewing the first few rows, we can get an overview of how the data is structured, the type of each column, and whether there are any missing or unusual values. This understanding is essential before proceeding to clean, analyse, or visualise the data, as it clarifies what each column represents and what insights can be drawn from the dataset."
   ]
  },
  {
   "cell_type": "markdown",
   "id": "818d1002-7a70-4430-8f84-7d2d2ab4f4e4",
   "metadata": {},
   "source": [
    "## 1) Importing Required Libraries"
   ]
  },
  {
   "cell_type": "code",
   "execution_count": 12,
   "id": "a40f9816-d7d2-4c0f-8832-9ad3b2b2b616",
   "metadata": {},
   "outputs": [],
   "source": [
    "#Importing Required Libraries\n",
    "import numpy as np\n",
    "import pandas as pd"
   ]
  },
  {
   "cell_type": "markdown",
   "id": "9acdf739-c799-4529-a8b3-cdf3d49040dd",
   "metadata": {},
   "source": [
    "## 2) Reading Data"
   ]
  },
  {
   "cell_type": "code",
   "execution_count": 13,
   "id": "9d7cbc17-1e6e-4a01-aeef-c564c9f2aa79",
   "metadata": {},
   "outputs": [
    {
     "name": "stdout",
     "output_type": "stream",
     "text": [
      "   Student Name  Math  Science  English\n",
      "0         Aarav    75      100       86\n",
      "1          Diya    91       73       93\n",
      "2         Kabir    94       89       94\n",
      "3         Meera    88       97       73\n",
      "4        Ishaan    77       80       74\n",
      "5        Ananya    72       90       72\n",
      "6         Rohan    90       81       80\n",
      "7         Sanya    89       77       90\n",
      "8         Arjun    73       81       84\n",
      "9         Priya    72       70       75\n",
      "10       Vihaan    91       77       79\n",
      "11        Nisha    89       85       70\n",
      "12       Aditya    78       94       72\n",
      "13        Kavya    75       75       76\n",
      "14        Manav    87       96       80\n",
      "15       Ritika    75       89       75\n",
      "16        Karan    80       94       97\n",
      "17       Simran    87       90       72\n",
      "18          Dev    83       77       91\n",
      "19        Pooja    75       77       94\n"
     ]
    }
   ],
   "source": [
    "#Reading data\n",
    "students = pd.read_csv(r\"S:\\Jupyter Notebook\\Data Science Internship/Dataset/students_20.csv\")\n",
    "print(students)"
   ]
  },
  {
   "cell_type": "markdown",
   "id": "fdfd84f7-53bf-49b1-8475-691f1db8dd1e",
   "metadata": {},
   "source": [
    "## 3) Data Exploration"
   ]
  },
  {
   "cell_type": "markdown",
   "id": "65d97faf-b282-4a22-a8ab-ce70191ca0ba",
   "metadata": {},
   "source": [
    "### i) First 5 Records:"
   ]
  },
  {
   "cell_type": "code",
   "execution_count": 14,
   "id": "c2a39a3d-639c-4def-80a4-4b43ee8cd92b",
   "metadata": {},
   "outputs": [
    {
     "data": {
      "text/html": [
       "<div>\n",
       "<style scoped>\n",
       "    .dataframe tbody tr th:only-of-type {\n",
       "        vertical-align: middle;\n",
       "    }\n",
       "\n",
       "    .dataframe tbody tr th {\n",
       "        vertical-align: top;\n",
       "    }\n",
       "\n",
       "    .dataframe thead th {\n",
       "        text-align: right;\n",
       "    }\n",
       "</style>\n",
       "<table border=\"1\" class=\"dataframe\">\n",
       "  <thead>\n",
       "    <tr style=\"text-align: right;\">\n",
       "      <th></th>\n",
       "      <th>Student Name</th>\n",
       "      <th>Math</th>\n",
       "      <th>Science</th>\n",
       "      <th>English</th>\n",
       "    </tr>\n",
       "  </thead>\n",
       "  <tbody>\n",
       "    <tr>\n",
       "      <th>0</th>\n",
       "      <td>Aarav</td>\n",
       "      <td>75</td>\n",
       "      <td>100</td>\n",
       "      <td>86</td>\n",
       "    </tr>\n",
       "    <tr>\n",
       "      <th>1</th>\n",
       "      <td>Diya</td>\n",
       "      <td>91</td>\n",
       "      <td>73</td>\n",
       "      <td>93</td>\n",
       "    </tr>\n",
       "    <tr>\n",
       "      <th>2</th>\n",
       "      <td>Kabir</td>\n",
       "      <td>94</td>\n",
       "      <td>89</td>\n",
       "      <td>94</td>\n",
       "    </tr>\n",
       "    <tr>\n",
       "      <th>3</th>\n",
       "      <td>Meera</td>\n",
       "      <td>88</td>\n",
       "      <td>97</td>\n",
       "      <td>73</td>\n",
       "    </tr>\n",
       "    <tr>\n",
       "      <th>4</th>\n",
       "      <td>Ishaan</td>\n",
       "      <td>77</td>\n",
       "      <td>80</td>\n",
       "      <td>74</td>\n",
       "    </tr>\n",
       "  </tbody>\n",
       "</table>\n",
       "</div>"
      ],
      "text/plain": [
       "  Student Name  Math  Science  English\n",
       "0        Aarav    75      100       86\n",
       "1         Diya    91       73       93\n",
       "2        Kabir    94       89       94\n",
       "3        Meera    88       97       73\n",
       "4       Ishaan    77       80       74"
      ]
     },
     "execution_count": 14,
     "metadata": {},
     "output_type": "execute_result"
    }
   ],
   "source": [
    "#Show the first 5 rows of the DataFrame.\n",
    "students.head()"
   ]
  },
  {
   "cell_type": "markdown",
   "id": "e14ecb78-b03d-4a37-a2a3-cab1edbdce82",
   "metadata": {},
   "source": [
    "### ii) Last 5 Records:"
   ]
  },
  {
   "cell_type": "code",
   "execution_count": 15,
   "id": "374808a0-62a0-4594-b2cf-382c6dbf6de9",
   "metadata": {},
   "outputs": [
    {
     "data": {
      "text/html": [
       "<div>\n",
       "<style scoped>\n",
       "    .dataframe tbody tr th:only-of-type {\n",
       "        vertical-align: middle;\n",
       "    }\n",
       "\n",
       "    .dataframe tbody tr th {\n",
       "        vertical-align: top;\n",
       "    }\n",
       "\n",
       "    .dataframe thead th {\n",
       "        text-align: right;\n",
       "    }\n",
       "</style>\n",
       "<table border=\"1\" class=\"dataframe\">\n",
       "  <thead>\n",
       "    <tr style=\"text-align: right;\">\n",
       "      <th></th>\n",
       "      <th>Student Name</th>\n",
       "      <th>Math</th>\n",
       "      <th>Science</th>\n",
       "      <th>English</th>\n",
       "    </tr>\n",
       "  </thead>\n",
       "  <tbody>\n",
       "    <tr>\n",
       "      <th>15</th>\n",
       "      <td>Ritika</td>\n",
       "      <td>75</td>\n",
       "      <td>89</td>\n",
       "      <td>75</td>\n",
       "    </tr>\n",
       "    <tr>\n",
       "      <th>16</th>\n",
       "      <td>Karan</td>\n",
       "      <td>80</td>\n",
       "      <td>94</td>\n",
       "      <td>97</td>\n",
       "    </tr>\n",
       "    <tr>\n",
       "      <th>17</th>\n",
       "      <td>Simran</td>\n",
       "      <td>87</td>\n",
       "      <td>90</td>\n",
       "      <td>72</td>\n",
       "    </tr>\n",
       "    <tr>\n",
       "      <th>18</th>\n",
       "      <td>Dev</td>\n",
       "      <td>83</td>\n",
       "      <td>77</td>\n",
       "      <td>91</td>\n",
       "    </tr>\n",
       "    <tr>\n",
       "      <th>19</th>\n",
       "      <td>Pooja</td>\n",
       "      <td>75</td>\n",
       "      <td>77</td>\n",
       "      <td>94</td>\n",
       "    </tr>\n",
       "  </tbody>\n",
       "</table>\n",
       "</div>"
      ],
      "text/plain": [
       "   Student Name  Math  Science  English\n",
       "15       Ritika    75       89       75\n",
       "16        Karan    80       94       97\n",
       "17       Simran    87       90       72\n",
       "18          Dev    83       77       91\n",
       "19        Pooja    75       77       94"
      ]
     },
     "execution_count": 15,
     "metadata": {},
     "output_type": "execute_result"
    }
   ],
   "source": [
    "#tail of the data:\n",
    "students.tail()"
   ]
  },
  {
   "cell_type": "markdown",
   "id": "97bc1d6e-2422-4e30-97fb-b6c4b4457de3",
   "metadata": {},
   "source": [
    "# II) Understanding Variables"
   ]
  },
  {
   "cell_type": "markdown",
   "id": "97d1cba4-43c5-4e36-9d14-7f0ae1958415",
   "metadata": {},
   "source": [
    "## 1) Overview of Dataset Variables"
   ]
  },
  {
   "cell_type": "markdown",
   "id": "81387261-976e-45ee-b839-146854521ed0",
   "metadata": {},
   "source": [
    "### i) Column Names"
   ]
  },
  {
   "cell_type": "code",
   "execution_count": 16,
   "id": "b3dec336-05fc-471a-a802-1576b2a588a7",
   "metadata": {},
   "outputs": [
    {
     "name": "stdout",
     "output_type": "stream",
     "text": [
      "Colums Names:\n",
      "Index(['Student Name', 'Math', 'Science', 'English'], dtype='object')\n"
     ]
    }
   ],
   "source": [
    "#Column names:\n",
    "print('Colums Names:')\n",
    "print(students.columns)"
   ]
  },
  {
   "cell_type": "markdown",
   "id": "7f787dca-3bd9-48cd-bc48-9828b43845fb",
   "metadata": {},
   "source": [
    "### ii) Overview of Column Data Types:"
   ]
  },
  {
   "cell_type": "code",
   "execution_count": 17,
   "id": "41196251-da29-4e85-a7cf-8295eb3701b5",
   "metadata": {},
   "outputs": [
    {
     "name": "stdout",
     "output_type": "stream",
     "text": [
      "Data Types:\n",
      "Student Name    object\n",
      "Math             int64\n",
      "Science          int64\n",
      "English          int64\n",
      "dtype: object\n"
     ]
    }
   ],
   "source": [
    "#Datatypes:\n",
    "print('Data Types:')\n",
    "print(students.dtypes)"
   ]
  },
  {
   "cell_type": "markdown",
   "id": "49dd0ffc-57a9-4eaa-826c-e7e82314cc3b",
   "metadata": {},
   "source": [
    "## 2) Statistical Summary of Numerical Variables"
   ]
  },
  {
   "cell_type": "code",
   "execution_count": 18,
   "id": "e223f1ff-0c88-4cf9-9dc7-ce8d6a325d26",
   "metadata": {},
   "outputs": [
    {
     "data": {
      "text/html": [
       "<div>\n",
       "<style scoped>\n",
       "    .dataframe tbody tr th:only-of-type {\n",
       "        vertical-align: middle;\n",
       "    }\n",
       "\n",
       "    .dataframe tbody tr th {\n",
       "        vertical-align: top;\n",
       "    }\n",
       "\n",
       "    .dataframe thead th {\n",
       "        text-align: right;\n",
       "    }\n",
       "</style>\n",
       "<table border=\"1\" class=\"dataframe\">\n",
       "  <thead>\n",
       "    <tr style=\"text-align: right;\">\n",
       "      <th></th>\n",
       "      <th>Math</th>\n",
       "      <th>Science</th>\n",
       "      <th>English</th>\n",
       "    </tr>\n",
       "  </thead>\n",
       "  <tbody>\n",
       "    <tr>\n",
       "      <th>count</th>\n",
       "      <td>20.000000</td>\n",
       "      <td>20.000000</td>\n",
       "      <td>20.000000</td>\n",
       "    </tr>\n",
       "    <tr>\n",
       "      <th>mean</th>\n",
       "      <td>82.050000</td>\n",
       "      <td>84.600000</td>\n",
       "      <td>81.350000</td>\n",
       "    </tr>\n",
       "    <tr>\n",
       "      <th>std</th>\n",
       "      <td>7.528717</td>\n",
       "      <td>8.923063</td>\n",
       "      <td>8.975258</td>\n",
       "    </tr>\n",
       "    <tr>\n",
       "      <th>min</th>\n",
       "      <td>72.000000</td>\n",
       "      <td>70.000000</td>\n",
       "      <td>70.000000</td>\n",
       "    </tr>\n",
       "    <tr>\n",
       "      <th>25%</th>\n",
       "      <td>75.000000</td>\n",
       "      <td>77.000000</td>\n",
       "      <td>73.750000</td>\n",
       "    </tr>\n",
       "    <tr>\n",
       "      <th>50%</th>\n",
       "      <td>81.500000</td>\n",
       "      <td>83.000000</td>\n",
       "      <td>79.500000</td>\n",
       "    </tr>\n",
       "    <tr>\n",
       "      <th>75%</th>\n",
       "      <td>89.000000</td>\n",
       "      <td>91.000000</td>\n",
       "      <td>90.250000</td>\n",
       "    </tr>\n",
       "    <tr>\n",
       "      <th>max</th>\n",
       "      <td>94.000000</td>\n",
       "      <td>100.000000</td>\n",
       "      <td>97.000000</td>\n",
       "    </tr>\n",
       "  </tbody>\n",
       "</table>\n",
       "</div>"
      ],
      "text/plain": [
       "            Math     Science    English\n",
       "count  20.000000   20.000000  20.000000\n",
       "mean   82.050000   84.600000  81.350000\n",
       "std     7.528717    8.923063   8.975258\n",
       "min    72.000000   70.000000  70.000000\n",
       "25%    75.000000   77.000000  73.750000\n",
       "50%    81.500000   83.000000  79.500000\n",
       "75%    89.000000   91.000000  90.250000\n",
       "max    94.000000  100.000000  97.000000"
      ]
     },
     "execution_count": 18,
     "metadata": {},
     "output_type": "execute_result"
    }
   ],
   "source": [
    "#Describing the data:\n",
    "students.describe()"
   ]
  },
  {
   "cell_type": "markdown",
   "id": "cdcc66d5-4d57-4a08-af2e-80f69af50631",
   "metadata": {},
   "source": [
    "## 3) Checking"
   ]
  },
  {
   "cell_type": "markdown",
   "id": "3c5ab0cb-a368-4089-935f-ba2b019368d6",
   "metadata": {},
   "source": [
    "### i) Information Summary:"
   ]
  },
  {
   "cell_type": "code",
   "execution_count": 19,
   "id": "629ba061-77ff-4994-a825-68745251885d",
   "metadata": {},
   "outputs": [
    {
     "name": "stdout",
     "output_type": "stream",
     "text": [
      "<class 'pandas.core.frame.DataFrame'>\n",
      "RangeIndex: 20 entries, 0 to 19\n",
      "Data columns (total 4 columns):\n",
      " #   Column        Non-Null Count  Dtype \n",
      "---  ------        --------------  ----- \n",
      " 0   Student Name  20 non-null     object\n",
      " 1   Math          20 non-null     int64 \n",
      " 2   Science       20 non-null     int64 \n",
      " 3   English       20 non-null     int64 \n",
      "dtypes: int64(3), object(1)\n",
      "memory usage: 772.0+ bytes\n"
     ]
    }
   ],
   "source": [
    "#Information Summary:\n",
    "students.info()"
   ]
  },
  {
   "cell_type": "markdown",
   "id": "40e29ded-d3ff-4ad1-a339-f416a9f541d1",
   "metadata": {},
   "source": [
    "### ii) Shape of the Data:"
   ]
  },
  {
   "cell_type": "code",
   "execution_count": 20,
   "id": "44366d69-e3ea-40e1-bae8-ef62fcf7afa3",
   "metadata": {},
   "outputs": [
    {
     "data": {
      "text/plain": [
       "(20, 4)"
      ]
     },
     "execution_count": 20,
     "metadata": {},
     "output_type": "execute_result"
    }
   ],
   "source": [
    "#Shape of the Data\n",
    "students.shape"
   ]
  },
  {
   "cell_type": "markdown",
   "id": "3d7f2764-6199-4d3b-990b-deb592e4bac9",
   "metadata": {},
   "source": [
    "# III) Data Wrangling"
   ]
  },
  {
   "cell_type": "markdown",
   "id": "75614cb0-de9c-4a15-a977-f29d0f93659b",
   "metadata": {},
   "source": [
    "## 1) Checking missing/null values"
   ]
  },
  {
   "cell_type": "code",
   "execution_count": 21,
   "id": "9a8bbfdc-8217-4e53-9efa-67ee5245c070",
   "metadata": {},
   "outputs": [
    {
     "name": "stdout",
     "output_type": "stream",
     "text": [
      "Student Name    0\n",
      "Math            0\n",
      "Science         0\n",
      "English         0\n",
      "dtype: int64\n"
     ]
    }
   ],
   "source": [
    "#Count of Missing Entries:\n",
    "x = students.isnull().sum()\n",
    "print(x)"
   ]
  },
  {
   "cell_type": "markdown",
   "id": "383a2256-f77d-46f1-8802-e5b8af2c6eed",
   "metadata": {},
   "source": [
    "# IV) Exploratory Data Analysis"
   ]
  },
  {
   "cell_type": "markdown",
   "id": "3653ffe6-01e0-4906-8830-3b330c22845b",
   "metadata": {},
   "source": [
    "## 1) Displaying Student Names with their Math Marks"
   ]
  },
  {
   "cell_type": "code",
   "execution_count": 22,
   "id": "51065695-ac64-40ea-aa57-96d691ce3e22",
   "metadata": {},
   "outputs": [
    {
     "name": "stdout",
     "output_type": "stream",
     "text": [
      "   Student Name  Math\n",
      "0         Aarav    75\n",
      "1          Diya    91\n",
      "2         Kabir    94\n",
      "3         Meera    88\n",
      "4        Ishaan    77\n",
      "5        Ananya    72\n",
      "6         Rohan    90\n",
      "7         Sanya    89\n",
      "8         Arjun    73\n",
      "9         Priya    72\n",
      "10       Vihaan    91\n",
      "11        Nisha    89\n",
      "12       Aditya    78\n",
      "13        Kavya    75\n",
      "14        Manav    87\n",
      "15       Ritika    75\n",
      "16        Karan    80\n",
      "17       Simran    87\n",
      "18          Dev    83\n",
      "19        Pooja    75\n"
     ]
    }
   ],
   "source": [
    "#Show only the \"Student Name\" and \"Math\" columns.\n",
    "print(students[['Student Name','Math']])"
   ]
  },
  {
   "cell_type": "markdown",
   "id": "73cae637-afe1-42cb-8fa9-daf8420cbabf",
   "metadata": {},
   "source": [
    "## 2) Average Marks by Subject"
   ]
  },
  {
   "cell_type": "code",
   "execution_count": 23,
   "id": "cbd37a3c-b185-4bbb-840e-5bc215748cd0",
   "metadata": {},
   "outputs": [
    {
     "name": "stdout",
     "output_type": "stream",
     "text": [
      "Math       82.05\n",
      "Science    84.60\n",
      "English    81.35\n",
      "dtype: float64\n"
     ]
    }
   ],
   "source": [
    "#Find the average marks in each subject.\n",
    "print(students[['Math','Science','English']].mean())"
   ]
  },
  {
   "cell_type": "markdown",
   "id": "d026d8e0-7ba3-4d86-814d-09dbab05c245",
   "metadata": {},
   "source": [
    "## 3) Top Scorers in Science"
   ]
  },
  {
   "cell_type": "code",
   "execution_count": 24,
   "id": "1a51f49d-19ee-4308-8ae8-6ed002ed388c",
   "metadata": {},
   "outputs": [
    {
     "name": "stdout",
     "output_type": "stream",
     "text": [
      "  Student Name  Math  Science  English\n",
      "0        Aarav    75      100       86\n",
      "100\n"
     ]
    }
   ],
   "source": [
    "#Which student scored the highest in Science?\n",
    "max_mark = students['Science'].max()\n",
    "stu_name = students[students['Science'] == max_mark]\n",
    "print(stu_name)\n",
    "print(max_mark)"
   ]
  },
  {
   "cell_type": "markdown",
   "id": "634f1e17-37b8-4355-bf36-db4760494c03",
   "metadata": {},
   "source": [
    "## 4) Identifying the Students with the Highest Science Mark"
   ]
  },
  {
   "cell_type": "code",
   "execution_count": 25,
   "id": "6192c82d-5fce-4eed-a2fb-d22d3ae7cafa",
   "metadata": {},
   "outputs": [
    {
     "name": "stdout",
     "output_type": "stream",
     "text": [
      "100\n",
      "0    Aarav\n",
      "Name: Student Name, dtype: object\n"
     ]
    }
   ],
   "source": [
    "#Identifying the Students with the Highest Science Mark\n",
    "stu = students['Science'].max()\n",
    "stu_ = students.loc[students['Science'] == stu, 'Student Name']\n",
    "print(stu)\n",
    "print(stu_)"
   ]
  },
  {
   "cell_type": "markdown",
   "id": "211cf30e-4c16-4ba3-b711-93d713212107",
   "metadata": {},
   "source": [
    "## 5) Students Who Scored More Than 90 Marks in English\n"
   ]
  },
  {
   "cell_type": "code",
   "execution_count": 26,
   "id": "b99c4368-d6ff-4676-af62-cec2d11da61f",
   "metadata": {},
   "outputs": [
    {
     "name": "stdout",
     "output_type": "stream",
     "text": [
      "   Student Name  Math  Science  English\n",
      "1          Diya    91       73       93\n",
      "2         Kabir    94       89       94\n",
      "16        Karan    80       94       97\n",
      "18          Dev    83       77       91\n",
      "19        Pooja    75       77       94\n"
     ]
    }
   ],
   "source": [
    "#Select students who scored more than 90 in English.\n",
    "x = students[students['English'] > 90]\n",
    "print(x)"
   ]
  },
  {
   "cell_type": "markdown",
   "id": "6f64c251-009f-407f-81c7-afef3954f6d8",
   "metadata": {},
   "source": [
    "## 6) Students Sorted by Math Marks in Descending Order"
   ]
  },
  {
   "cell_type": "code",
   "execution_count": 27,
   "id": "49e627b5-4517-4ce1-b47c-5975b2b85257",
   "metadata": {},
   "outputs": [
    {
     "name": "stdout",
     "output_type": "stream",
     "text": [
      "   Student Name  Math\n",
      "2         Kabir    94\n",
      "1          Diya    91\n",
      "10       Vihaan    91\n",
      "6         Rohan    90\n",
      "11        Nisha    89\n",
      "7         Sanya    89\n",
      "3         Meera    88\n",
      "17       Simran    87\n",
      "14        Manav    87\n",
      "18          Dev    83\n",
      "16        Karan    80\n",
      "12       Aditya    78\n",
      "4        Ishaan    77\n",
      "0         Aarav    75\n",
      "15       Ritika    75\n",
      "13        Kavya    75\n",
      "19        Pooja    75\n",
      "8         Arjun    73\n",
      "9         Priya    72\n",
      "5        Ananya    72\n"
     ]
    }
   ],
   "source": [
    "#Sort students by Math marks in descending order.\n",
    "y = students.sort_values('Math', ascending=False)[['Student Name','Math']]\n",
    "print(y)"
   ]
  },
  {
   "cell_type": "markdown",
   "id": "4a989526-499d-4289-a560-a6f4cc6ca773",
   "metadata": {},
   "source": [
    "## 7) Calculating and Adding a Total Marks Column for Each Student"
   ]
  },
  {
   "cell_type": "code",
   "execution_count": 28,
   "id": "921b1b90-3e54-4fda-8a86-a856a82cc78e",
   "metadata": {},
   "outputs": [
    {
     "name": "stdout",
     "output_type": "stream",
     "text": [
      "   Student Name  Math  Science  English  Total\n",
      "0         Aarav    75      100       86    261\n",
      "1          Diya    91       73       93    257\n",
      "2         Kabir    94       89       94    277\n",
      "3         Meera    88       97       73    258\n",
      "4        Ishaan    77       80       74    231\n",
      "5        Ananya    72       90       72    234\n",
      "6         Rohan    90       81       80    251\n",
      "7         Sanya    89       77       90    256\n",
      "8         Arjun    73       81       84    238\n",
      "9         Priya    72       70       75    217\n",
      "10       Vihaan    91       77       79    247\n",
      "11        Nisha    89       85       70    244\n",
      "12       Aditya    78       94       72    244\n",
      "13        Kavya    75       75       76    226\n",
      "14        Manav    87       96       80    263\n",
      "15       Ritika    75       89       75    239\n",
      "16        Karan    80       94       97    271\n",
      "17       Simran    87       90       72    249\n",
      "18          Dev    83       77       91    251\n",
      "19        Pooja    75       77       94    246\n"
     ]
    }
   ],
   "source": [
    "#Add a new column \"Total\" = Math + Science + English\n",
    "students['Total'] = students['Math'] + students['English'] + students ['Science']\n",
    "print(students)"
   ]
  },
  {
   "cell_type": "markdown",
   "id": "8cb07532-3d19-40c3-8cce-b4d584fb9200",
   "metadata": {},
   "source": [
    "## 8) Identifying the Students with the Highest Total Marks"
   ]
  },
  {
   "cell_type": "code",
   "execution_count": 29,
   "id": "0c9d890d-ac49-42b0-9332-9b75d7697335",
   "metadata": {},
   "outputs": [
    {
     "name": "stdout",
     "output_type": "stream",
     "text": [
      "277\n",
      "2    Kabir\n",
      "Name: Student Name, dtype: object\n"
     ]
    }
   ],
   "source": [
    "#Find the student with the highest total marks.\n",
    "x = students['Total'].max()\n",
    "x_ = students.loc[students['Total'] == x,'Student Name']\n",
    "print(x)\n",
    "print(x_)"
   ]
  },
  {
   "cell_type": "markdown",
   "id": "74373ad2-11a5-457a-bbd9-cd904fe889d0",
   "metadata": {},
   "source": [
    "## 9) Students Scoring Above 80 Marks in Any Subject"
   ]
  },
  {
   "cell_type": "code",
   "execution_count": 30,
   "id": "7a623f20-5a86-4e3a-bc6d-b34eb0f05887",
   "metadata": {},
   "outputs": [
    {
     "name": "stdout",
     "output_type": "stream",
     "text": [
      "   Student Name  Math  Science  English  Total\n",
      "0         Aarav    75      100       86    261\n",
      "1          Diya    91       73       93    257\n",
      "2         Kabir    94       89       94    277\n",
      "3         Meera    88       97       73    258\n",
      "5        Ananya    72       90       72    234\n",
      "6         Rohan    90       81       80    251\n",
      "7         Sanya    89       77       90    256\n",
      "8         Arjun    73       81       84    238\n",
      "10       Vihaan    91       77       79    247\n",
      "11        Nisha    89       85       70    244\n",
      "12       Aditya    78       94       72    244\n",
      "14        Manav    87       96       80    263\n",
      "15       Ritika    75       89       75    239\n",
      "16        Karan    80       94       97    271\n",
      "17       Simran    87       90       72    249\n",
      "18          Dev    83       77       91    251\n",
      "19        Pooja    75       77       94    246\n"
     ]
    }
   ],
   "source": [
    "#Show students who scored less than 80 in at least one subject\n",
    "x = students[(students['Math'] > 80) | (students['Science'] > 80) |(students['English'] > 80)]\n",
    "print(x)"
   ]
  },
  {
   "cell_type": "markdown",
   "id": "a90c65e1-0b33-483a-ae63-12a431814449",
   "metadata": {},
   "source": [
    "## 10) Highest and Lowest Marks in Math"
   ]
  },
  {
   "cell_type": "code",
   "execution_count": 31,
   "id": "eb0036f3-a219-4a02-b021-2faa7608414c",
   "metadata": {},
   "outputs": [
    {
     "name": "stdout",
     "output_type": "stream",
     "text": [
      "94\n",
      "72\n"
     ]
    }
   ],
   "source": [
    "#What is the highest and lowest mark in Math?\n",
    "x = students['Math'].max()\n",
    "y = students['Math'].min()\n",
    "print(x)\n",
    "print(y)"
   ]
  },
  {
   "cell_type": "markdown",
   "id": "84f9b737-3a38-4521-a594-d826638cd1ae",
   "metadata": {},
   "source": [
    "## 11) Average (Mean) of Total Marks of All Students"
   ]
  },
  {
   "cell_type": "code",
   "execution_count": 32,
   "id": "3fef8e7a-4346-4bf9-87b9-f05bbbd33d9f",
   "metadata": {},
   "outputs": [
    {
     "name": "stdout",
     "output_type": "stream",
     "text": [
      "248.0\n"
     ]
    }
   ],
   "source": [
    "#Find the average total marks of all students.\n",
    "totals = students[\"Total\"].mean()\n",
    "print(totals)"
   ]
  },
  {
   "cell_type": "markdown",
   "id": "3c0879a9-c107-4eb8-8c56-45312e5a656c",
   "metadata": {},
   "source": [
    "## 12) Top 3 Students with the Highest English Marks"
   ]
  },
  {
   "cell_type": "code",
   "execution_count": 33,
   "id": "05aa5250-82ad-4737-bd76-20bb71b4a0c0",
   "metadata": {},
   "outputs": [
    {
     "name": "stdout",
     "output_type": "stream",
     "text": [
      "   Student Name  English\n",
      "16        Karan       97\n",
      "2         Kabir       94\n",
      "19        Pooja       94\n"
     ]
    }
   ],
   "source": [
    "#Top 3 Students with the Highest English Marks\n",
    "top_english = students.sort_values(\"English\", ascending=False)[['Student Name','English']]\n",
    "print(top_english.head(3))"
   ]
  },
  {
   "cell_type": "markdown",
   "id": "9c90c89c-ea43-4b2d-810c-60e697711024",
   "metadata": {},
   "source": [
    "## 13) Count of Students Scoring More Than 85 Marks in Science"
   ]
  },
  {
   "cell_type": "code",
   "execution_count": 34,
   "id": "8aaad9ee-918f-452d-9e1f-385923bff5d3",
   "metadata": {},
   "outputs": [
    {
     "name": "stdout",
     "output_type": "stream",
     "text": [
      "9\n"
     ]
    }
   ],
   "source": [
    "#Count of Students Scoring More Than 85 Marks in Science\n",
    "mask = students[\"Science\"] > 85\n",
    "count = mask.sum()\n",
    "print(count)"
   ]
  },
  {
   "cell_type": "markdown",
   "id": "7b6d882f-60aa-4b29-afb6-b63ba007bd41",
   "metadata": {},
   "source": [
    "## 14) Top 5 Students by Total Marks"
   ]
  },
  {
   "cell_type": "code",
   "execution_count": 35,
   "id": "b1a7e272-58f0-475b-9cfb-72604eafd5a8",
   "metadata": {},
   "outputs": [
    {
     "name": "stdout",
     "output_type": "stream",
     "text": [
      "   Student Name  Total\n",
      "2         Kabir    277\n",
      "16        Karan    271\n",
      "14        Manav    263\n",
      "0         Aarav    261\n",
      "3         Meera    258\n"
     ]
    }
   ],
   "source": [
    "#Show the top 5 students based on total marks (Student Name + Total)\n",
    "top5_students = students[[\"Student Name\",\"Total\"]].sort_values(\"Total\", ascending=False)\n",
    "print(top5_students.head(5))"
   ]
  },
  {
   "cell_type": "markdown",
   "id": "ecda565f-104d-48dd-83e7-6df262b6d464",
   "metadata": {},
   "source": [
    "## 15) Saving the Updated Students Marks DataFrame to a CSV File"
   ]
  },
  {
   "cell_type": "code",
   "execution_count": 38,
   "id": "3c9d4f85-a1d7-457b-b97e-3aca6c5687cc",
   "metadata": {},
   "outputs": [],
   "source": [
    "#Save the updated DataFrame (with totals) to a new CSV.\n",
    "students.to_csv('Updated_Students_Marks_20.csv',index=False)"
   ]
  }
 ],
 "metadata": {
  "kernelspec": {
   "display_name": "Python 3 (ipykernel)",
   "language": "python",
   "name": "python3"
  },
  "language_info": {
   "codemirror_mode": {
    "name": "ipython",
    "version": 3
   },
   "file_extension": ".py",
   "mimetype": "text/x-python",
   "name": "python",
   "nbconvert_exporter": "python",
   "pygments_lexer": "ipython3",
   "version": "3.13.5"
  }
 },
 "nbformat": 4,
 "nbformat_minor": 5
}
