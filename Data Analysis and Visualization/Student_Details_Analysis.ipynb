{
 "cells": [
  {
   "cell_type": "markdown",
   "id": "d952cdb1-d40c-42ea-8d54-1c76eff90dcc",
   "metadata": {},
   "source": [
    "<center><h1><b>Student Details Analysis</h1></center>"
   ]
  },
  {
   "cell_type": "markdown",
   "id": "8de8e6c0-07ce-4a95-8246-4ab8418b9e4d",
   "metadata": {},
   "source": [
    "# I) Understanding the Data:   \n",
    "The dataset contains marks for 50 individual students across three subjects: Mathematics, Science, and English. Each student has complete data, and no missing values are present. On average, the students score in the low to mid-70s in all subjects, indicating fairly consistent performance across the three areas. Because the names/IDs are unique, the dataset can be used to compare individual student performance as well as to compute class-level statistics, identify top performers, or spot students who may need additional support in specific subjects."
   ]
  },
  {
   "cell_type": "markdown",
   "id": "4483ecac-d771-454f-b650-2a5b37c2a6b7",
   "metadata": {},
   "source": [
    "## 1) Importing Required Libraries"
   ]
  },
  {
   "cell_type": "code",
   "execution_count": 1,
   "id": "e3b1ff73-ac41-4cf4-b843-6a28d6e417fd",
   "metadata": {},
   "outputs": [],
   "source": [
    "#Importing Required Libraries\n",
    "import numpy as np\n",
    "import pandas as pd\n",
    "import matplotlib.pyplot as plt"
   ]
  },
  {
   "cell_type": "markdown",
   "id": "98d469a1-681c-4cc7-9a7f-3989450030e2",
   "metadata": {},
   "source": [
    "## 2) Reading Data"
   ]
  },
  {
   "cell_type": "code",
   "execution_count": 2,
   "id": "53aad9b6-9080-47fc-99b2-d00b05031e2d",
   "metadata": {},
   "outputs": [
    {
     "name": "stdout",
     "output_type": "stream",
     "text": [
      "       Student  Math  Science  English\n",
      "0    Student_1    88       51       58\n",
      "1    Student_2    78       69       73\n",
      "2    Student_3    64       77       50\n",
      "3    Student_4    92       96       93\n",
      "4    Student_5    57       56       57\n",
      "5    Student_6    70       93       73\n",
      "6    Student_7    88       57       60\n",
      "7    Student_8    68       96       66\n",
      "8    Student_9    72       84       57\n",
      "9   Student_10    60       63       84\n",
      "10  Student_11    60       66       84\n",
      "11  Student_12    73       85       82\n",
      "12  Student_13    85       99       54\n",
      "13  Student_14    89       89       91\n",
      "14  Student_15    73       53       88\n",
      "15  Student_16    52       51       90\n",
      "16  Student_17    71       55       77\n",
      "17  Student_18    51       91       56\n",
      "18  Student_19    73       53       58\n",
      "19  Student_20    93       78       57\n",
      "20  Student_21    79       67       61\n",
      "21  Student_22    87       75       83\n",
      "22  Student_23    51       93       82\n",
      "23  Student_24    70       83       97\n",
      "24  Student_25    82       59       72\n",
      "25  Student_26    61       85       73\n",
      "26  Student_27    71       63       86\n",
      "27  Student_28    93       80       84\n",
      "28  Student_29    74       97       93\n",
      "29  Student_30    98       64       89\n",
      "30  Student_31    76       57       71\n",
      "31  Student_32    91       63       76\n",
      "32  Student_33    77       72       84\n",
      "33  Student_34    65       89       50\n",
      "34  Student_35    64       70       84\n",
      "35  Student_36    96       65       86\n",
      "36  Student_37    93       94       96\n",
      "37  Student_38    52       67       63\n",
      "38  Student_39    86       96       52\n",
      "39  Student_40    56       73       50\n",
      "40  Student_41    70       75       54\n",
      "41  Student_42    58       74       75\n",
      "42  Student_43    88       94       63\n",
      "43  Student_44    67       90       88\n",
      "44  Student_45    53       78       76\n",
      "45  Student_46    74       64       58\n",
      "46  Student_47    63       94       64\n",
      "47  Student_48    99       50       64\n",
      "48  Student_49    58       74       75\n",
      "49  Student_50    75       56       91\n"
     ]
    }
   ],
   "source": [
    "#Reading data\n",
    "students = pd.read_csv(r'S:\\Jupyter Notebook\\Data Science Internship/Dataset/student_marks.csv')\n",
    "print(students)"
   ]
  },
  {
   "cell_type": "markdown",
   "id": "3cbda0f8-ed07-4581-aa75-0e54a717bf42",
   "metadata": {},
   "source": [
    "## 3) Data Exploration"
   ]
  },
  {
   "cell_type": "markdown",
   "id": "0a54b427-94ad-4cf6-b9b6-b052262759c3",
   "metadata": {},
   "source": [
    "### i) First 5 Records:"
   ]
  },
  {
   "cell_type": "code",
   "execution_count": 3,
   "id": "b271c4b2-82c0-4444-9d6c-56392e076fa1",
   "metadata": {},
   "outputs": [
    {
     "data": {
      "text/html": [
       "<div>\n",
       "<style scoped>\n",
       "    .dataframe tbody tr th:only-of-type {\n",
       "        vertical-align: middle;\n",
       "    }\n",
       "\n",
       "    .dataframe tbody tr th {\n",
       "        vertical-align: top;\n",
       "    }\n",
       "\n",
       "    .dataframe thead th {\n",
       "        text-align: right;\n",
       "    }\n",
       "</style>\n",
       "<table border=\"1\" class=\"dataframe\">\n",
       "  <thead>\n",
       "    <tr style=\"text-align: right;\">\n",
       "      <th></th>\n",
       "      <th>Student</th>\n",
       "      <th>Math</th>\n",
       "      <th>Science</th>\n",
       "      <th>English</th>\n",
       "    </tr>\n",
       "  </thead>\n",
       "  <tbody>\n",
       "    <tr>\n",
       "      <th>0</th>\n",
       "      <td>Student_1</td>\n",
       "      <td>88</td>\n",
       "      <td>51</td>\n",
       "      <td>58</td>\n",
       "    </tr>\n",
       "    <tr>\n",
       "      <th>1</th>\n",
       "      <td>Student_2</td>\n",
       "      <td>78</td>\n",
       "      <td>69</td>\n",
       "      <td>73</td>\n",
       "    </tr>\n",
       "    <tr>\n",
       "      <th>2</th>\n",
       "      <td>Student_3</td>\n",
       "      <td>64</td>\n",
       "      <td>77</td>\n",
       "      <td>50</td>\n",
       "    </tr>\n",
       "    <tr>\n",
       "      <th>3</th>\n",
       "      <td>Student_4</td>\n",
       "      <td>92</td>\n",
       "      <td>96</td>\n",
       "      <td>93</td>\n",
       "    </tr>\n",
       "    <tr>\n",
       "      <th>4</th>\n",
       "      <td>Student_5</td>\n",
       "      <td>57</td>\n",
       "      <td>56</td>\n",
       "      <td>57</td>\n",
       "    </tr>\n",
       "  </tbody>\n",
       "</table>\n",
       "</div>"
      ],
      "text/plain": [
       "     Student  Math  Science  English\n",
       "0  Student_1    88       51       58\n",
       "1  Student_2    78       69       73\n",
       "2  Student_3    64       77       50\n",
       "3  Student_4    92       96       93\n",
       "4  Student_5    57       56       57"
      ]
     },
     "execution_count": 3,
     "metadata": {},
     "output_type": "execute_result"
    }
   ],
   "source": [
    "#head of the data:\n",
    "students.head()"
   ]
  },
  {
   "cell_type": "markdown",
   "id": "1606bef1-de35-4898-bb93-423099116b08",
   "metadata": {},
   "source": [
    "### ii) Last 5 Records:"
   ]
  },
  {
   "cell_type": "code",
   "execution_count": 4,
   "id": "c3d44d8b-977a-4730-9a5f-9555e1332551",
   "metadata": {},
   "outputs": [
    {
     "data": {
      "text/html": [
       "<div>\n",
       "<style scoped>\n",
       "    .dataframe tbody tr th:only-of-type {\n",
       "        vertical-align: middle;\n",
       "    }\n",
       "\n",
       "    .dataframe tbody tr th {\n",
       "        vertical-align: top;\n",
       "    }\n",
       "\n",
       "    .dataframe thead th {\n",
       "        text-align: right;\n",
       "    }\n",
       "</style>\n",
       "<table border=\"1\" class=\"dataframe\">\n",
       "  <thead>\n",
       "    <tr style=\"text-align: right;\">\n",
       "      <th></th>\n",
       "      <th>Student</th>\n",
       "      <th>Math</th>\n",
       "      <th>Science</th>\n",
       "      <th>English</th>\n",
       "    </tr>\n",
       "  </thead>\n",
       "  <tbody>\n",
       "    <tr>\n",
       "      <th>45</th>\n",
       "      <td>Student_46</td>\n",
       "      <td>74</td>\n",
       "      <td>64</td>\n",
       "      <td>58</td>\n",
       "    </tr>\n",
       "    <tr>\n",
       "      <th>46</th>\n",
       "      <td>Student_47</td>\n",
       "      <td>63</td>\n",
       "      <td>94</td>\n",
       "      <td>64</td>\n",
       "    </tr>\n",
       "    <tr>\n",
       "      <th>47</th>\n",
       "      <td>Student_48</td>\n",
       "      <td>99</td>\n",
       "      <td>50</td>\n",
       "      <td>64</td>\n",
       "    </tr>\n",
       "    <tr>\n",
       "      <th>48</th>\n",
       "      <td>Student_49</td>\n",
       "      <td>58</td>\n",
       "      <td>74</td>\n",
       "      <td>75</td>\n",
       "    </tr>\n",
       "    <tr>\n",
       "      <th>49</th>\n",
       "      <td>Student_50</td>\n",
       "      <td>75</td>\n",
       "      <td>56</td>\n",
       "      <td>91</td>\n",
       "    </tr>\n",
       "  </tbody>\n",
       "</table>\n",
       "</div>"
      ],
      "text/plain": [
       "       Student  Math  Science  English\n",
       "45  Student_46    74       64       58\n",
       "46  Student_47    63       94       64\n",
       "47  Student_48    99       50       64\n",
       "48  Student_49    58       74       75\n",
       "49  Student_50    75       56       91"
      ]
     },
     "execution_count": 4,
     "metadata": {},
     "output_type": "execute_result"
    }
   ],
   "source": [
    "#tail of the data:\n",
    "students.tail()"
   ]
  },
  {
   "cell_type": "markdown",
   "id": "b8f8a292-5eef-494e-bec9-bca8487b8163",
   "metadata": {},
   "source": [
    "# II) Understanding Variables"
   ]
  },
  {
   "cell_type": "markdown",
   "id": "cd20983d-d26c-47a6-ab65-aed472dace7f",
   "metadata": {},
   "source": [
    "## 1) Overview of Dataset Variables"
   ]
  },
  {
   "cell_type": "markdown",
   "id": "e74f2730-0df8-4c5a-88d1-e95d29db9205",
   "metadata": {},
   "source": [
    "### i) Column Names"
   ]
  },
  {
   "cell_type": "code",
   "execution_count": 5,
   "id": "509e2f25-be17-4e2e-bc60-7b4a3291f5b4",
   "metadata": {},
   "outputs": [
    {
     "name": "stdout",
     "output_type": "stream",
     "text": [
      "Colums Names:\n",
      "Index(['Student', 'Math', 'Science', 'English'], dtype='object')\n"
     ]
    }
   ],
   "source": [
    "#Column names:\n",
    "print('Colums Names:')\n",
    "print(students.columns)"
   ]
  },
  {
   "cell_type": "markdown",
   "id": "69029759-d952-4aae-841a-d79794e038dd",
   "metadata": {},
   "source": [
    "### ii) Overview of Column Data Types:"
   ]
  },
  {
   "cell_type": "code",
   "execution_count": 6,
   "id": "eee986ac-1018-45a8-9cb6-bec21416a075",
   "metadata": {},
   "outputs": [
    {
     "name": "stdout",
     "output_type": "stream",
     "text": [
      "Data Types:\n",
      "Student    object\n",
      "Math        int64\n",
      "Science     int64\n",
      "English     int64\n",
      "dtype: object\n"
     ]
    }
   ],
   "source": [
    "#Datatypes:\n",
    "print('Data Types:')\n",
    "print(students.dtypes)"
   ]
  },
  {
   "cell_type": "markdown",
   "id": "cdeab8b7-e7d7-44b9-bc5b-2c1e99bfa555",
   "metadata": {},
   "source": [
    "## 2) Statistical Summary of Numerical Variables"
   ]
  },
  {
   "cell_type": "code",
   "execution_count": 7,
   "id": "1e31b1fd-74f1-461d-bc52-5926ea72c91c",
   "metadata": {},
   "outputs": [
    {
     "data": {
      "text/html": [
       "<div>\n",
       "<style scoped>\n",
       "    .dataframe tbody tr th:only-of-type {\n",
       "        vertical-align: middle;\n",
       "    }\n",
       "\n",
       "    .dataframe tbody tr th {\n",
       "        vertical-align: top;\n",
       "    }\n",
       "\n",
       "    .dataframe thead th {\n",
       "        text-align: right;\n",
       "    }\n",
       "</style>\n",
       "<table border=\"1\" class=\"dataframe\">\n",
       "  <thead>\n",
       "    <tr style=\"text-align: right;\">\n",
       "      <th></th>\n",
       "      <th>Math</th>\n",
       "      <th>Science</th>\n",
       "      <th>English</th>\n",
       "    </tr>\n",
       "  </thead>\n",
       "  <tbody>\n",
       "    <tr>\n",
       "      <th>count</th>\n",
       "      <td>50.000000</td>\n",
       "      <td>50.000000</td>\n",
       "      <td>50.000000</td>\n",
       "    </tr>\n",
       "    <tr>\n",
       "      <th>mean</th>\n",
       "      <td>73.680000</td>\n",
       "      <td>74.460000</td>\n",
       "      <td>72.960000</td>\n",
       "    </tr>\n",
       "    <tr>\n",
       "      <th>std</th>\n",
       "      <td>13.890887</td>\n",
       "      <td>15.114812</td>\n",
       "      <td>14.289942</td>\n",
       "    </tr>\n",
       "    <tr>\n",
       "      <th>min</th>\n",
       "      <td>51.000000</td>\n",
       "      <td>50.000000</td>\n",
       "      <td>50.000000</td>\n",
       "    </tr>\n",
       "    <tr>\n",
       "      <th>25%</th>\n",
       "      <td>63.250000</td>\n",
       "      <td>63.000000</td>\n",
       "      <td>58.500000</td>\n",
       "    </tr>\n",
       "    <tr>\n",
       "      <th>50%</th>\n",
       "      <td>73.000000</td>\n",
       "      <td>74.000000</td>\n",
       "      <td>74.000000</td>\n",
       "    </tr>\n",
       "    <tr>\n",
       "      <th>75%</th>\n",
       "      <td>86.750000</td>\n",
       "      <td>89.000000</td>\n",
       "      <td>84.000000</td>\n",
       "    </tr>\n",
       "    <tr>\n",
       "      <th>max</th>\n",
       "      <td>99.000000</td>\n",
       "      <td>99.000000</td>\n",
       "      <td>97.000000</td>\n",
       "    </tr>\n",
       "  </tbody>\n",
       "</table>\n",
       "</div>"
      ],
      "text/plain": [
       "            Math    Science    English\n",
       "count  50.000000  50.000000  50.000000\n",
       "mean   73.680000  74.460000  72.960000\n",
       "std    13.890887  15.114812  14.289942\n",
       "min    51.000000  50.000000  50.000000\n",
       "25%    63.250000  63.000000  58.500000\n",
       "50%    73.000000  74.000000  74.000000\n",
       "75%    86.750000  89.000000  84.000000\n",
       "max    99.000000  99.000000  97.000000"
      ]
     },
     "execution_count": 7,
     "metadata": {},
     "output_type": "execute_result"
    }
   ],
   "source": [
    "#Describing the data:\n",
    "students.describe()"
   ]
  },
  {
   "cell_type": "markdown",
   "id": "10651414-ac23-4ba1-8dd5-996fac639860",
   "metadata": {},
   "source": [
    "## 3) Checking"
   ]
  },
  {
   "cell_type": "markdown",
   "id": "eb734a3c-a1f0-4ba5-ba87-37869c451b20",
   "metadata": {},
   "source": [
    "### i) Information Summary:"
   ]
  },
  {
   "cell_type": "code",
   "execution_count": 8,
   "id": "a4aee75c-5cc5-4de0-a812-52587439d66f",
   "metadata": {},
   "outputs": [
    {
     "name": "stdout",
     "output_type": "stream",
     "text": [
      "<class 'pandas.core.frame.DataFrame'>\n",
      "RangeIndex: 50 entries, 0 to 49\n",
      "Data columns (total 4 columns):\n",
      " #   Column   Non-Null Count  Dtype \n",
      "---  ------   --------------  ----- \n",
      " 0   Student  50 non-null     object\n",
      " 1   Math     50 non-null     int64 \n",
      " 2   Science  50 non-null     int64 \n",
      " 3   English  50 non-null     int64 \n",
      "dtypes: int64(3), object(1)\n",
      "memory usage: 1.7+ KB\n"
     ]
    }
   ],
   "source": [
    "#Information Summary:\n",
    "students.info()"
   ]
  },
  {
   "cell_type": "markdown",
   "id": "bb909dd0-3783-4700-9c9e-6792f0722d2f",
   "metadata": {},
   "source": [
    "### ii) Shape of the Data:"
   ]
  },
  {
   "cell_type": "code",
   "execution_count": 9,
   "id": "a2224aa1-9fb6-4083-ab49-50e32de632b9",
   "metadata": {},
   "outputs": [
    {
     "data": {
      "text/plain": [
       "(50, 4)"
      ]
     },
     "execution_count": 9,
     "metadata": {},
     "output_type": "execute_result"
    }
   ],
   "source": [
    "#Shape of the Data\n",
    "students.shape"
   ]
  },
  {
   "cell_type": "markdown",
   "id": "758d20cf-f6b9-4ac6-b168-c51aa949b67d",
   "metadata": {},
   "source": [
    "# III) Data Wrangling"
   ]
  },
  {
   "cell_type": "markdown",
   "id": "54a342e7-cc24-4b22-9464-7261481aeef7",
   "metadata": {},
   "source": [
    "## 1) Checking missing/null values"
   ]
  },
  {
   "cell_type": "code",
   "execution_count": 10,
   "id": "8b106035-801e-435e-9c40-339dc49f59f1",
   "metadata": {},
   "outputs": [
    {
     "name": "stdout",
     "output_type": "stream",
     "text": [
      "Student    0\n",
      "Math       0\n",
      "Science    0\n",
      "English    0\n",
      "dtype: int64\n"
     ]
    }
   ],
   "source": [
    "#Count of Missing Entries:\n",
    "x = students.isnull().sum()\n",
    "print(x)"
   ]
  },
  {
   "cell_type": "markdown",
   "id": "f6f1df20-6db3-4f6b-b02c-0baccc683dc6",
   "metadata": {},
   "source": [
    "# IV) Exploratory Data Analysis"
   ]
  },
  {
   "cell_type": "markdown",
   "id": "b569898a-4655-4f0b-bd82-9ca9cace0f72",
   "metadata": {},
   "source": [
    "## 1) Calculating Total Marks for Each Student"
   ]
  },
  {
   "cell_type": "code",
   "execution_count": 11,
   "id": "a3ae4e0c-0e7f-4a48-a2bc-8be076f45026",
   "metadata": {},
   "outputs": [
    {
     "name": "stdout",
     "output_type": "stream",
     "text": [
      "       Student  Math  Science  English  Total\n",
      "0    Student_1    88       51       58    197\n",
      "1    Student_2    78       69       73    220\n",
      "2    Student_3    64       77       50    191\n",
      "3    Student_4    92       96       93    281\n",
      "4    Student_5    57       56       57    170\n",
      "5    Student_6    70       93       73    236\n",
      "6    Student_7    88       57       60    205\n",
      "7    Student_8    68       96       66    230\n",
      "8    Student_9    72       84       57    213\n",
      "9   Student_10    60       63       84    207\n",
      "10  Student_11    60       66       84    210\n",
      "11  Student_12    73       85       82    240\n",
      "12  Student_13    85       99       54    238\n",
      "13  Student_14    89       89       91    269\n",
      "14  Student_15    73       53       88    214\n",
      "15  Student_16    52       51       90    193\n",
      "16  Student_17    71       55       77    203\n",
      "17  Student_18    51       91       56    198\n",
      "18  Student_19    73       53       58    184\n",
      "19  Student_20    93       78       57    228\n",
      "20  Student_21    79       67       61    207\n",
      "21  Student_22    87       75       83    245\n",
      "22  Student_23    51       93       82    226\n",
      "23  Student_24    70       83       97    250\n",
      "24  Student_25    82       59       72    213\n",
      "25  Student_26    61       85       73    219\n",
      "26  Student_27    71       63       86    220\n",
      "27  Student_28    93       80       84    257\n",
      "28  Student_29    74       97       93    264\n",
      "29  Student_30    98       64       89    251\n",
      "30  Student_31    76       57       71    204\n",
      "31  Student_32    91       63       76    230\n",
      "32  Student_33    77       72       84    233\n",
      "33  Student_34    65       89       50    204\n",
      "34  Student_35    64       70       84    218\n",
      "35  Student_36    96       65       86    247\n",
      "36  Student_37    93       94       96    283\n",
      "37  Student_38    52       67       63    182\n",
      "38  Student_39    86       96       52    234\n",
      "39  Student_40    56       73       50    179\n",
      "40  Student_41    70       75       54    199\n",
      "41  Student_42    58       74       75    207\n",
      "42  Student_43    88       94       63    245\n",
      "43  Student_44    67       90       88    245\n",
      "44  Student_45    53       78       76    207\n",
      "45  Student_46    74       64       58    196\n",
      "46  Student_47    63       94       64    221\n",
      "47  Student_48    99       50       64    213\n",
      "48  Student_49    58       74       75    207\n",
      "49  Student_50    75       56       91    222\n"
     ]
    }
   ],
   "source": [
    "#Calculating Total Marks for Each Student\n",
    "students['Total'] = students['Math'] + students['Science'] + students['English']\n",
    "print(students)"
   ]
  },
  {
   "cell_type": "markdown",
   "id": "71e5ea74-5cc5-498b-80d6-916363b78d89",
   "metadata": {},
   "source": [
    "## 2) Bar Chart of Top 10 Students by Total Marks"
   ]
  },
  {
   "cell_type": "code",
   "execution_count": 14,
   "id": "1ce268c3-e50a-4044-b9da-53d2015f1bf5",
   "metadata": {},
   "outputs": [
    {
     "data": {
      "image/png": "[encoded data removed]",
      "text/plain": [
       "<Figure size 800x400 with 1 Axes>"
      ]
     },
     "metadata": {},
     "output_type": "display_data"
    }
   ],
   "source": [
    "#Top 10 Students by Total Marks\n",
    "plt.figure(figsize=(8,4))\n",
    "top10 = students.sort_values(by='Total', ascending=False).head(10)\n",
    "plt.bar(top10['Student'], top10['Total'], color = 'lightcoral', edgecolor='darkred')\n",
    "plt.xticks(rotation=45)\n",
    "plt.title('Top 10 Students by Total Marks')\n",
    "plt.xlabel('Students')\n",
    "plt.ylabel('Total Marks')\n",
    "plt.show()"
   ]
  },
  {
   "cell_type": "markdown",
   "id": "b9b44725-a2f6-4532-90ea-4deffd0d16a8",
   "metadata": {},
   "source": [
    "**Observation:**   \n",
    "- The bar chart above displays the top 10 students by total marks across Math, Science and English.\n",
    "- X-axis: Student names; Y-axis: their total marks.\n",
    "- Light coral bars with dark red edges highlight differences in scores.\n",
    "- All ten students scored significantly higher totals compared to the rest of the class.\n",
    "- Easy to identify and compare the highest performers at a glance."
   ]
  },
  {
   "cell_type": "markdown",
   "id": "8c3defd0-c48d-4a8c-8c25-78e957cc46d0",
   "metadata": {},
   "source": [
    "## 3) Bar Chart of Bottom 10 Students by Total Marks"
   ]
  },
  {
   "cell_type": "code",
   "execution_count": null,
   "id": "22679110-12f8-4081-b349-933a1c9658bf",
   "metadata": {},
   "outputs": [],
   "source": [
    "#Bottom 10 Students by Total Marks\n",
    "least10 = students.nsmallest(10,'Total')\n",
    "plt.figure(figsize=(8,4))\n",
    "plt.bar(least10['Student'],least10['Total'], color = 'skyblue', edgecolor = 'midnightblue')\n",
    "plt.title('Bottom 10 Students by Total Marks')\n",
    "plt.xlabel('Students')\n",
    "plt.ylabel('Total Marks')\n",
    "plt.xticks(rotation=45)\n",
    "plt.show()"
   ]
  },
  {
   "cell_type": "markdown",
   "id": "b0d2c97e-9e3f-4bdd-81a2-bccdedd7d6f9",
   "metadata": {},
   "source": [
    "**Observation:**\n",
    "- Bar chart displays the 10 students with the lowest total marks (Math + Science + English).\n",
    "- X-axis: Student names; Y-axis: their total marks.\n",
    "- The chart highlights which students are performing at the lower end of the class.\n",
    "- Helps to quickly identify students who may need extra support or attention.\n",
    "- Makes it easy to compare the total marks among the lowest scorers visually."
   ]
  },
  {
   "cell_type": "markdown",
   "id": "a4ca09ab-bfa2-47d9-b1ae-6d3a4d1bf209",
   "metadata": {},
   "source": [
    "## 4) Pie Chart of Total Marks by Subject"
   ]
  },
  {
   "cell_type": "code",
   "execution_count": null,
   "id": "071ae967-bd65-4e6d-b2cf-43de1aef9048",
   "metadata": {},
   "outputs": [],
   "source": [
    "#Total Marks by Subject:\n",
    "totals = students['Math'].sum(), students['English'].sum(), students['Science'].sum()\n",
    "subjects = ['Math','English','Science']\n",
    "plt.pie(totals, labels = subjects, autopct = '%1.1f%%', colors = ['skyblue', 'lightgreen', 'lightcoral'])\n",
    "plt.title('Total Marks Distribution by Subject')\n",
    "plt.show()"
   ]
  },
  {
   "cell_type": "markdown",
   "id": "f5939085-8e88-4cff-8ca9-f6db48522166",
   "metadata": {},
   "source": [
    "**Observation:**\n",
    "- Pie chart shows the distribution of total marks scored in Math, English, and Science by all students combined.\n",
    "- Each slice represents a subject; the percentage shows its share of the total marks.\n",
    "- Useful for comparing the overall performance in each subject at a glance.\n",
    "- Highlights which subject contributes the largest or smallest share of total marks in the dataset."
   ]
  }
 ],
 "metadata": {
  "kernelspec": {
   "display_name": "Python 3 (ipykernel)",
   "language": "python",
   "name": "python3"
  },
  "language_info": {
   "codemirror_mode": {
    "name": "ipython",
    "version": 3
   },
   "file_extension": ".py",
   "mimetype": "text/x-python",
   "name": "python",
   "nbconvert_exporter": "python",
   "pygments_lexer": "ipython3",
   "version": "3.13.5"
  }
 },
 "nbformat": 4,
 "nbformat_minor": 5
}
