{
 "cells": [
  {
   "cell_type": "markdown",
   "id": "84dbdc35-509b-4169-b94d-18016fc28a11",
   "metadata": {},
   "source": [
    "<center><h1><b>NumPy Task</center>"
   ]
  },
  {
   "cell_type": "markdown",
   "id": "ba3aa492-9999-4fcd-92bd-95d550f75031",
   "metadata": {},
   "source": [
    "## Importing NumPy Libaray "
   ]
  },
  {
   "cell_type": "code",
   "execution_count": 42,
   "id": "7176e2c0-64e8-4a99-9ad2-b4808c46a3d1",
   "metadata": {},
   "outputs": [],
   "source": [
    "#Importing NumPy Libaray\n",
    "import numpy as np"
   ]
  },
  {
   "cell_type": "markdown",
   "id": "3ffe6a7d-e150-44e5-815e-4f2e6cbc0bb8",
   "metadata": {},
   "source": [
    "## 1) Create a NumPy array of zeros of size 5."
   ]
  },
  {
   "cell_type": "code",
   "execution_count": 43,
   "id": "80b8898f-b540-40d3-918e-2f6f3b9a7e28",
   "metadata": {},
   "outputs": [
    {
     "name": "stdout",
     "output_type": "stream",
     "text": [
      "[0. 0. 0. 0. 0.]\n"
     ]
    }
   ],
   "source": [
    "#Create a NumPy array of zeros of size 5.\n",
    "a_zeros = np.zeros(5)\n",
    "print(a_zeros)"
   ]
  },
  {
   "cell_type": "markdown",
   "id": "bb4d7c29-966b-4a62-9b86-498a4be5ab88",
   "metadata": {},
   "source": [
    "## 2) Create a NumPy array of ones of size 4 × 4."
   ]
  },
  {
   "cell_type": "code",
   "execution_count": 44,
   "id": "efac14c5-e53a-407d-b3dc-0ae4dbf26798",
   "metadata": {},
   "outputs": [
    {
     "name": "stdout",
     "output_type": "stream",
     "text": [
      "[[1. 1. 1. 1.]\n",
      " [1. 1. 1. 1.]\n",
      " [1. 1. 1. 1.]\n",
      " [1. 1. 1. 1.]]\n"
     ]
    }
   ],
   "source": [
    "#Create a NumPy array of ones of size 4 × 4.\n",
    "a_ones = np.ones((4,4))\n",
    "print(a_ones)"
   ]
  },
  {
   "cell_type": "markdown",
   "id": "f9011522-9036-48d7-b50e-1cb1c6bb36cd",
   "metadata": {},
   "source": [
    "## 3) Create an array of even numbers from 2 to 20."
   ]
  },
  {
   "cell_type": "code",
   "execution_count": 45,
   "id": "4087cf82-1a3f-489e-bba4-d2b01abb1ca6",
   "metadata": {},
   "outputs": [
    {
     "name": "stdout",
     "output_type": "stream",
     "text": [
      "[ 2  4  6  8 10 12 14 16 18 20]\n"
     ]
    }
   ],
   "source": [
    "#Create an array of even numbers from 2 to 20.\n",
    "even = np.arange(2,21,2)\n",
    "print(even)"
   ]
  },
  {
   "cell_type": "markdown",
   "id": "0796fe3b-9e51-4118-91a8-42db2dcb51fa",
   "metadata": {},
   "source": [
    "## 4) Create an array with values from 10 to 50, step 5"
   ]
  },
  {
   "cell_type": "code",
   "execution_count": 46,
   "id": "6a882fda-ad74-4f82-b693-29ee02af8873",
   "metadata": {},
   "outputs": [
    {
     "name": "stdout",
     "output_type": "stream",
     "text": [
      "[10 15 20 25 30 35 40 45 50]\n"
     ]
    }
   ],
   "source": [
    "#Create an array with values from 10 to 50, step 5\n",
    "a_array = np.arange(10,51,5)\n",
    "print(a_array)"
   ]
  },
  {
   "cell_type": "markdown",
   "id": "da68a7bf-6a68-426c-88f7-9931f5795389",
   "metadata": {},
   "source": [
    "## 5) Create an array [1, 2, 3] and multiply it by 3."
   ]
  },
  {
   "cell_type": "code",
   "execution_count": 47,
   "id": "bc043e4a-56c7-4526-899e-70f945748302",
   "metadata": {},
   "outputs": [
    {
     "name": "stdout",
     "output_type": "stream",
     "text": [
      "[3 6 9]\n"
     ]
    }
   ],
   "source": [
    "#Array Operations\n",
    "#Create an array [1, 2, 3] and multiply it by 3.\n",
    "mul = np.array([1,2,3])\n",
    "print(mul*3)"
   ]
  },
  {
   "cell_type": "markdown",
   "id": "a2c65891-482a-4eab-933b-b2049597a6f9",
   "metadata": {},
   "source": [
    "## 6) Create two arrays and add them element-wise"
   ]
  },
  {
   "cell_type": "code",
   "execution_count": 48,
   "id": "b99a6c1f-6cbb-4ded-a6c4-9184d9f06d12",
   "metadata": {},
   "outputs": [
    {
     "name": "stdout",
     "output_type": "stream",
     "text": [
      "[5 7 9]\n"
     ]
    }
   ],
   "source": [
    "#Create two arrays and add them element-wise\n",
    "array1 = np.array([1,2,3])\n",
    "array2 = np.array([4,5,6])\n",
    "result = array1 + array2\n",
    "print(result)"
   ]
  },
  {
   "cell_type": "markdown",
   "id": "3b9a5247-33db-42b9-b5cb-1b2679f845a2",
   "metadata": {},
   "source": [
    "## 7) Create an array [10, 20, 30, 40] and find its mean."
   ]
  },
  {
   "cell_type": "code",
   "execution_count": 49,
   "id": "9f5b6b69-c188-406c-a9d6-3fcd1a74ef13",
   "metadata": {},
   "outputs": [
    {
     "name": "stdout",
     "output_type": "stream",
     "text": [
      "25.0\n"
     ]
    }
   ],
   "source": [
    "#Create an array [10, 20, 30, 40] and find its mean.\n",
    "a = np.array([10, 20, 30, 40])\n",
    "ans = np.mean(a)\n",
    "print(ans)"
   ]
  },
  {
   "cell_type": "markdown",
   "id": "45aa245d-af99-4a64-b21f-1cb99be385ab",
   "metadata": {},
   "source": [
    "## 8) Create an array [4, 9, 16, 25] and find the square root."
   ]
  },
  {
   "cell_type": "code",
   "execution_count": 50,
   "id": "f4db5981-ed8a-4b5a-abec-03ddf457c3c1",
   "metadata": {},
   "outputs": [
    {
     "name": "stdout",
     "output_type": "stream",
     "text": [
      "[2. 3. 4. 5.]\n"
     ]
    }
   ],
   "source": [
    "#Create an array [4, 9, 16, 25] and find the square root.\n",
    "x = np.array([4, 9, 16, 25])\n",
    "x_ = np.sqrt(x)\n",
    "print(x_)"
   ]
  },
  {
   "cell_type": "markdown",
   "id": "4d0bc1d1-59d8-4af4-9231-cdfa91e5f244",
   "metadata": {},
   "source": [
    "## 9) Create a random array of size 5 and find its sum."
   ]
  },
  {
   "cell_type": "code",
   "execution_count": 51,
   "id": "92f13428-f07f-4503-9632-5314d0a2e534",
   "metadata": {},
   "outputs": [
    {
     "name": "stdout",
     "output_type": "stream",
     "text": [
      "[0.02967263 0.6171351  0.63694894 0.66722708 0.52580422]\n",
      "2.4767879799768933\n"
     ]
    }
   ],
   "source": [
    "#Create a random array of size 5 and find its sum.\n",
    "rand = np.random.rand(5)\n",
    "print(rand)\n",
    "rand_ = np.sum(rand)\n",
    "print(rand_)"
   ]
  },
  {
   "cell_type": "markdown",
   "id": "c93a515e-0b84-4faa-be60-0522a2b93bad",
   "metadata": {},
   "source": [
    "## 10) Slice the first 5 elements from an array of numbers from 1 to 10"
   ]
  },
  {
   "cell_type": "code",
   "execution_count": 52,
   "id": "4afbbf05-cd4c-4e29-9f45-a17666cab2aa",
   "metadata": {},
   "outputs": [
    {
     "name": "stdout",
     "output_type": "stream",
     "text": [
      "[1 2 3 4 5]\n"
     ]
    }
   ],
   "source": [
    "#Indexing & Slicing:\n",
    "#Slice the first 5 elements from an array of numbers from 1 to 10\n",
    "sli = np.arange(1,11)\n",
    "print(sli[:5])"
   ]
  },
  {
   "cell_type": "markdown",
   "id": "f0b9949a-1b8e-46ae-8cbd-738ba135d237",
   "metadata": {},
   "source": [
    "## 11) Get the last two elements of [10, 20, 30, 40, 50]"
   ]
  },
  {
   "cell_type": "code",
   "execution_count": 53,
   "id": "54ca3bde-9381-444d-8542-93a5f8fd7233",
   "metadata": {},
   "outputs": [
    {
     "name": "stdout",
     "output_type": "stream",
     "text": [
      "[40 50]\n"
     ]
    }
   ],
   "source": [
    "#Get the last two elements of [10, 20, 30, 40, 50]\n",
    "last_two = np.array([10, 20, 30, 40, 50])\n",
    "print(last_two[3:])"
   ]
  },
  {
   "cell_type": "markdown",
   "id": "983558c9-78f0-49de-871f-57bf11fb6742",
   "metadata": {},
   "source": [
    "## 12) Change the 3rd element of [1, 2, 3, 4, 5] to 99."
   ]
  },
  {
   "cell_type": "code",
   "execution_count": 54,
   "id": "1d5763ea-8318-49ff-9f97-258ce408c78c",
   "metadata": {},
   "outputs": [
    {
     "name": "stdout",
     "output_type": "stream",
     "text": [
      "[ 1 99  3  4  5]\n"
     ]
    }
   ],
   "source": [
    "#Change the 3rd element of [1, 2, 3, 4, 5] to 99.\n",
    "a = np.array([1, 2, 3, 4, 5])\n",
    "a[1] = 99\n",
    "print(a)"
   ]
  },
  {
   "cell_type": "markdown",
   "id": "dbcc40f9-0191-4bc8-bb54-a710c9fe2a29",
   "metadata": {},
   "source": [
    "## 13) Create a 3×3 matrix and access the element in the 2nd row, 3rd column."
   ]
  },
  {
   "cell_type": "code",
   "execution_count": 55,
   "id": "aa3aec0b-df7e-4c19-bccf-149ba7ada79a",
   "metadata": {},
   "outputs": [
    {
     "name": "stdout",
     "output_type": "stream",
     "text": [
      "6\n"
     ]
    }
   ],
   "source": [
    "#Create a 3×3 matrix and access the element in the 2nd row, 3rd column.\n",
    "mat = np.array([[1,2,3],\n",
    "        [4,5,6],\n",
    "        [7,8,9]])\n",
    "element = mat[1,2]\n",
    "print(element)"
   ]
  },
  {
   "cell_type": "markdown",
   "id": "a12bfeb0-fa64-45d7-a931-caac3ca8a9f7",
   "metadata": {},
   "source": [
    "## 14) Create a 1D array and reverse it using slicing."
   ]
  },
  {
   "cell_type": "code",
   "execution_count": 56,
   "id": "389ec577-3eaf-4b0b-9e01-5b4dcddc4781",
   "metadata": {},
   "outputs": [
    {
     "name": "stdout",
     "output_type": "stream",
     "text": [
      "[5 4 3 2 1]\n"
     ]
    }
   ],
   "source": [
    "#Create a 1D array and reverse it using slicing.\n",
    "rev = np.array([1,2,3,4,5])\n",
    "rev_ = rev[::-1]\n",
    "print(rev_)"
   ]
  },
  {
   "cell_type": "markdown",
   "id": "b12e8ca9-157a-4dbb-b01c-92ea25e89dec",
   "metadata": {},
   "source": [
    "## 15) Generate a random integer between 1 and 100."
   ]
  },
  {
   "cell_type": "code",
   "execution_count": 57,
   "id": "e8858b1f-c605-433e-8e15-6ad3ee8dfd0e",
   "metadata": {},
   "outputs": [
    {
     "name": "stdout",
     "output_type": "stream",
     "text": [
      "88\n"
     ]
    }
   ],
   "source": [
    "#Random Numbers\n",
    "#Generate a random integer between 1 and 100.\n",
    "rand_int = np.random.randint(1,101)\n",
    "print(rand_int)"
   ]
  },
  {
   "cell_type": "markdown",
   "id": "74f78be4-074e-4548-bf7f-6cb085754ed6",
   "metadata": {},
   "source": [
    "## 16) Generate a random array of size 3 × 3."
   ]
  },
  {
   "cell_type": "code",
   "execution_count": 58,
   "id": "d04594e9-815a-43c6-aed7-b34fcb022533",
   "metadata": {},
   "outputs": [
    {
     "name": "stdout",
     "output_type": "stream",
     "text": [
      "[[0.02303509 0.24575184 0.64834966]\n",
      " [0.99639329 0.36853929 0.19237767]\n",
      " [0.10832824 0.71676567 0.42001141]]\n"
     ]
    }
   ],
   "source": [
    "#Generate a random array of size 3 × 3.\n",
    "rand_array = np.random.rand(3,3)\n",
    "print(rand_array)"
   ]
  },
  {
   "cell_type": "markdown",
   "id": "dfec43fa-60a7-4c9b-beac-fa130dd43a41",
   "metadata": {},
   "source": [
    "## 17) Generate 5 random numbers from a normal distribution."
   ]
  },
  {
   "cell_type": "code",
   "execution_count": 59,
   "id": "ece1b2c9-1860-496d-80c7-93285c61de3b",
   "metadata": {},
   "outputs": [
    {
     "name": "stdout",
     "output_type": "stream",
     "text": [
      "[ 0.00668081 -1.21981172  0.35901713  1.2574181   0.59683835]\n"
     ]
    }
   ],
   "source": [
    "#Generate 5 random numbers from a normal distribution.\n",
    "num = np.random.randn(5)\n",
    "print(num)"
   ]
  },
  {
   "cell_type": "markdown",
   "id": "02b331bb-0306-45b9-ab86-4e2404eed68a",
   "metadata": {},
   "source": [
    "## 18) Generate 10 random numbers between 0 and 1."
   ]
  },
  {
   "cell_type": "code",
   "execution_count": 60,
   "id": "ddb05f89-d2ae-446b-95df-00670878451a",
   "metadata": {},
   "outputs": [
    {
     "name": "stdout",
     "output_type": "stream",
     "text": [
      "[0.69630379 0.29877559 0.74593551 0.97667712 0.41552569 0.41886168\n",
      " 0.40330708 0.58242415 0.30501925 0.01240653]\n"
     ]
    }
   ],
   "source": [
    "#Generate 10 random numbers between 0 and 1.\n",
    "a = np.random.random(10)\n",
    "print(a)"
   ]
  },
  {
   "cell_type": "markdown",
   "id": "ed090bb6-2d30-483f-9496-9a0d71d6fdc2",
   "metadata": {},
   "source": [
    "## 19) Shuffle an array [1, 2, 3, 4, 5] randomly."
   ]
  },
  {
   "cell_type": "code",
   "execution_count": 62,
   "id": "7a607b43-93b7-45f1-881b-8751645baf4b",
   "metadata": {},
   "outputs": [
    {
     "name": "stdout",
     "output_type": "stream",
     "text": [
      "[4 5 2 1 3]\n"
     ]
    }
   ],
   "source": [
    "#Shuffle an array [1, 2, 3, 4, 5] randomly.\n",
    "num = np.array([1, 2, 3, 4, 5])\n",
    "np.random.shuffle(num)\n",
    "print(num)"
   ]
  }
 ],
 "metadata": {
  "kernelspec": {
   "display_name": "Python 3 (ipykernel)",
   "language": "python",
   "name": "python3"
  },
  "language_info": {
   "codemirror_mode": {
    "name": "ipython",
    "version": 3
   },
   "file_extension": ".py",
   "mimetype": "text/x-python",
   "name": "python",
   "nbconvert_exporter": "python",
   "pygments_lexer": "ipython3",
   "version": "3.13.5"
  }
 },
 "nbformat": 4,
 "nbformat_minor": 5
}
