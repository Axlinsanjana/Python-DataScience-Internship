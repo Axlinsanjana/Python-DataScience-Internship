{
 "cells": [
  {
   "cell_type": "markdown",
   "id": "15dcc8a8-8f96-4f41-987f-142149d0f52c",
   "metadata": {},
   "source": [
    "<center><h1><b>Basics of NumPy</h1>"
   ]
  },
  {
   "cell_type": "markdown",
   "id": "adeeb0f6-1311-4d91-ab45-ca078994273a",
   "metadata": {},
   "source": [
    "## Importing NumPy Library"
   ]
  },
  {
   "cell_type": "code",
   "execution_count": 1,
   "id": "9be14e63-a50e-436e-80bb-8ae663495ba2",
   "metadata": {},
   "outputs": [],
   "source": [
    "import numpy as np"
   ]
  },
  {
   "cell_type": "markdown",
   "id": "272c422b-5df9-46c6-af0d-b80f56e6b1f1",
   "metadata": {},
   "source": [
    "## 1. Create Arrays"
   ]
  },
  {
   "cell_type": "code",
   "execution_count": 18,
   "id": "87225a3c-958c-4fa1-844d-4033f9ae46ab",
   "metadata": {},
   "outputs": [
    {
     "name": "stdout",
     "output_type": "stream",
     "text": [
      "1D Array:\n",
      "[1 2 3 4]\n",
      "\n",
      "2D Array:\n",
      "[[1 2 3]\n",
      " [4 5 6]]\n",
      "\n",
      "Zeros:\n",
      "[[0. 0. 0.]\n",
      " [0. 0. 0.]\n",
      " [0. 0. 0.]]\n",
      "\n",
      "Ones:\n",
      "[[1. 1. 1. 1.]\n",
      " [1. 1. 1. 1.]]\n",
      "\n",
      "Identity:\n",
      "[[1. 0. 0. 0.]\n",
      " [0. 1. 0. 0.]\n",
      " [0. 0. 1. 0.]\n",
      " [0. 0. 0. 1.]]\n"
     ]
    }
   ],
   "source": [
    "#Create Arrays\n",
    "# 1D array\n",
    "print('1D Array:')\n",
    "a = np.array([1, 2, 3, 4])\n",
    "print(a)\n",
    "\n",
    "# 2D array\n",
    "print('\\n2D Array:')\n",
    "b = np.array([[1, 2, 3], [4, 5, 6]])\n",
    "print(b)\n",
    "\n",
    "\n",
    "# Zeros, Ones, Identity\n",
    "print('\\nZeros:')\n",
    "zeros = np.zeros((3, 3))\n",
    "print(zeros)\n",
    "\n",
    "print('\\nOnes:')\n",
    "ones = np.ones((2, 4))\n",
    "print(ones)\n",
    "\n",
    "print('\\nIdentity:')\n",
    "identity = np.identity(4)\n",
    "print(identity)"
   ]
  },
  {
   "cell_type": "markdown",
   "id": "ecf85648-0f0d-4355-a866-13f4adbf41de",
   "metadata": {},
   "source": [
    "## 2. Array Properties"
   ]
  },
  {
   "cell_type": "code",
   "execution_count": 23,
   "id": "71479e1c-9cf0-4809-b959-bf7cc5b54b12",
   "metadata": {},
   "outputs": [
    {
     "name": "stdout",
     "output_type": "stream",
     "text": [
      "Shape: (2, 3)\n",
      "Size: 6\n",
      "Dimension: 2\n",
      "Data Type: int64\n"
     ]
    }
   ],
   "source": [
    "#Array Properties\n",
    "arr = np.array([[1, 2, 3], [4, 5, 6]])\n",
    "print('Shape:', arr.shape)\n",
    "print('Size:', arr.size) \n",
    "print('Dimension:',arr.ndim) \n",
    "print('Data Type:', arr.dtype)"
   ]
  },
  {
   "cell_type": "markdown",
   "id": "c0459036-73fb-4824-9603-d54f921dcd9f",
   "metadata": {},
   "source": [
    "## 3. Array Operations"
   ]
  },
  {
   "cell_type": "code",
   "execution_count": 33,
   "id": "b2e2ad46-27b5-42ac-a303-2043ad84ffc1",
   "metadata": {},
   "outputs": [
    {
     "name": "stdout",
     "output_type": "stream",
     "text": [
      "x + y = [5 7 9] \n",
      "\n",
      "x * y = [ 4 10 18] \n",
      "\n",
      "x.dot(y) = 32\n"
     ]
    }
   ],
   "source": [
    "#Array Operations\n",
    "x = np.array([1, 2, 3])\n",
    "y = np.array([4, 5, 6])\n",
    "print('x + y =', x + y,'\\n')\n",
    "print('x * y =', x * y,'\\n')\n",
    "print('x.dot(y) =', x.dot(y))"
   ]
  },
  {
   "cell_type": "markdown",
   "id": "d1a138a2-8324-497a-a9c6-698683ea2c1e",
   "metadata": {},
   "source": [
    "## 4. Indexing and Slicing"
   ]
  },
  {
   "cell_type": "code",
   "execution_count": 34,
   "id": "9d23726f-4276-4ff5-b37c-a53fd6c5d8a0",
   "metadata": {},
   "outputs": [
    {
     "name": "stdout",
     "output_type": "stream",
     "text": [
      "[2 3 4 5 6]\n",
      "[9 8 7 6 5 4 3 2 1 0]\n"
     ]
    }
   ],
   "source": [
    "#Indexing and Slicing\n",
    "arr = np.arange(10)\n",
    "print(arr[2:7])\n",
    "print(arr[::-1])"
   ]
  },
  {
   "cell_type": "markdown",
   "id": "55e0b9a2-1efc-4d05-a43a-16d8afca39f5",
   "metadata": {},
   "source": [
    "## 5. Reshape & Flatten"
   ]
  },
  {
   "cell_type": "code",
   "execution_count": 37,
   "id": "5c947e9c-fee9-4740-a8f1-dd12b03e4e19",
   "metadata": {},
   "outputs": [
    {
     "name": "stdout",
     "output_type": "stream",
     "text": [
      "[[ 0  1  2  3]\n",
      " [ 4  5  6  7]\n",
      " [ 8  9 10 11]] \n",
      "\n",
      "[ 0  1  2  3  4  5  6  7  8  9 10 11]\n"
     ]
    }
   ],
   "source": [
    "#Reshape & Flatten\n",
    "arr = np.arange(12)\n",
    "reshaped = arr.reshape(3, 4)\n",
    "print(reshaped,'\\n')\n",
    "\n",
    "flattened = reshaped.flatten()\n",
    "print(flattened)"
   ]
  },
  {
   "cell_type": "markdown",
   "id": "ab3a6d8d-8a29-44f0-9f32-7e7e1b382b03",
   "metadata": {},
   "source": [
    "## 6. Statistical Operations"
   ]
  },
  {
   "cell_type": "code",
   "execution_count": 38,
   "id": "be1a501c-184a-4d2d-a397-a7f751e0c12c",
   "metadata": {},
   "outputs": [
    {
     "name": "stdout",
     "output_type": "stream",
     "text": [
      "3.0\n",
      "3.0\n",
      "1.4142135623730951\n",
      "15\n"
     ]
    }
   ],
   "source": [
    "data = np.array([1, 2, 3, 4, 5])\n",
    "\n",
    "print(np.mean(data))\n",
    "print(np.median(data))\n",
    "print(np.std(data))\n",
    "print(np.sum(data))"
   ]
  },
  {
   "cell_type": "markdown",
   "id": "64230f5f-a8f5-4fc0-9f47-28eb3e18c8eb",
   "metadata": {},
   "source": [
    "## 7. Random Numbers"
   ]
  },
  {
   "cell_type": "code",
   "execution_count": 42,
   "id": "0c32b634-078f-4d3b-a0dc-f1e0d7d7967f",
   "metadata": {},
   "outputs": [
    {
     "name": "stdout",
     "output_type": "stream",
     "text": [
      "[[0.86103338 0.19875514 0.88974952]\n",
      " [0.36033162 0.47155062 0.7045086 ]\n",
      " [0.71711742 0.84776431 0.37355141]] [4 8 2 7 3] [-0.60619411 -0.48021806 -0.63128618  2.36449409 -0.73992098]\n"
     ]
    }
   ],
   "source": [
    "rand_arr = np.random.rand(3, 3)\n",
    "rand_int = np.random.randint(1, 10, 5)\n",
    "normal_dist = np.random.randn(5)\n",
    "print(rand_arr, rand_int, normal_dist)"
   ]
  },
  {
   "cell_type": "markdown",
   "id": "c55a6c0d-aa8d-409d-af43-4e6d6adefcb4",
   "metadata": {},
   "source": [
    "## 8. Matrix Operations"
   ]
  },
  {
   "cell_type": "code",
   "execution_count": 44,
   "id": "8f79cf3b-6c31-479e-911b-2bf659f7c43b",
   "metadata": {},
   "outputs": [
    {
     "name": "stdout",
     "output_type": "stream",
     "text": [
      "[[3 2]\n",
      " [4 6]]\n",
      "[[ 4  4]\n",
      " [10  8]]\n",
      "[[-2.   1. ]\n",
      " [ 1.5 -0.5]]\n",
      "-2.0000000000000004\n"
     ]
    }
   ],
   "source": [
    "A = np.array([[1, 2], [3, 4]])\n",
    "B = np.array([[2, 0], [1, 2]])\n",
    "\n",
    "print(A + B)\n",
    "print(A @ B)\n",
    "print(np.linalg.inv(A))\n",
    "print(np.linalg.det(A))"
   ]
  },
  {
   "cell_type": "markdown",
   "id": "892e1fca-aac6-4e7e-a73a-7b269c223faf",
   "metadata": {},
   "source": [
    "## 9. Broadcasting"
   ]
  },
  {
   "cell_type": "code",
   "execution_count": 45,
   "id": "3cda930f-e767-42d1-a9a7-fc6158cdd4a9",
   "metadata": {},
   "outputs": [
    {
     "name": "stdout",
     "output_type": "stream",
     "text": [
      "[[11 12 13]\n",
      " [14 15 16]]\n"
     ]
    }
   ],
   "source": [
    "arr = np.array([[1, 2, 3], [4, 5, 6]])\n",
    "print(arr + 10)   # Adds 10 to every element"
   ]
  },
  {
   "cell_type": "markdown",
   "id": "0bf302c8-4ec6-4e3e-ad6f-d776c2158470",
   "metadata": {},
   "source": [
    "## 10. Boolean Indexing"
   ]
  },
  {
   "cell_type": "code",
   "execution_count": 46,
   "id": "afd354da-59d5-44ab-ab43-75ed33d16ef9",
   "metadata": {},
   "outputs": [
    {
     "name": "stdout",
     "output_type": "stream",
     "text": [
      "[4 5 6]\n"
     ]
    }
   ],
   "source": [
    "arr = np.array([1, 2, 3, 4, 5, 6])\n",
    "\n",
    "print(arr[arr > 3]) "
   ]
  }
 ],
 "metadata": {
  "kernelspec": {
   "display_name": "Python 3 (ipykernel)",
   "language": "python",
   "name": "python3"
  },
  "language_info": {
   "codemirror_mode": {
    "name": "ipython",
    "version": 3
   },
   "file_extension": ".py",
   "mimetype": "text/x-python",
   "name": "python",
   "nbconvert_exporter": "python",
   "pygments_lexer": "ipython3",
   "version": "3.13.5"
  }
 },
 "nbformat": 4,
 "nbformat_minor": 5
}
