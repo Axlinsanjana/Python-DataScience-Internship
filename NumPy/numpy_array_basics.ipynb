{
 "cells": [
  {
   "cell_type": "markdown",
   "id": "a8e1ff0f-3578-463c-8c54-9377b482abc7",
   "metadata": {},
   "source": [
    "<center><h1><b>Numpy Array Basics</h1></center>"
   ]
  },
  {
   "cell_type": "markdown",
   "id": "76a411d6-7085-41ed-994f-da96dc3241a0",
   "metadata": {},
   "source": [
    "## 1) Importing Required libraries"
   ]
  },
  {
   "cell_type": "code",
   "execution_count": 158,
   "id": "20e67c57-7212-444d-bca5-17e9baa5070d",
   "metadata": {},
   "outputs": [],
   "source": [
    "#Importing Libraries\n",
    "import numpy as np\n",
    "import sys"
   ]
  },
  {
   "cell_type": "markdown",
   "id": "4d9d1599-0779-4815-907c-66397356fbe8",
   "metadata": {},
   "source": [
    "## 2) Creating and Inspecting a 1-D NumPy Array "
   ]
  },
  {
   "cell_type": "code",
   "execution_count": 159,
   "id": "e0a0822b-0f39-4f08-a241-63aecf6a7159",
   "metadata": {},
   "outputs": [
    {
     "name": "stdout",
     "output_type": "stream",
     "text": [
      "(5,)\n",
      "<class 'numpy.ndarray'>\n"
     ]
    }
   ],
   "source": [
    "#1D array\n",
    "x = np.array([1,2,5,6,57,])\n",
    "print(x.shape)\n",
    "print(type(x))"
   ]
  },
  {
   "cell_type": "markdown",
   "id": "379d2c44-dda1-40e2-8ebe-c18912008fdf",
   "metadata": {},
   "source": [
    "## 3) Creating and Inspecting a 2-D NumPy Array"
   ]
  },
  {
   "cell_type": "code",
   "execution_count": 160,
   "id": "d0d101c3-530c-46ae-9d1a-b0163fc5d748",
   "metadata": {},
   "outputs": [
    {
     "name": "stdout",
     "output_type": "stream",
     "text": [
      "(3, 2)\n"
     ]
    }
   ],
   "source": [
    "#2D array\n",
    "a = np.array([[1,2],[2,4],[4,7]])\n",
    "print(a.shape)"
   ]
  },
  {
   "cell_type": "markdown",
   "id": "86378820-637e-4790-9a9a-804a4f96a4e7",
   "metadata": {},
   "source": [
    "## 4) Creating and Inspecting a 3-D NumPy Array"
   ]
  },
  {
   "cell_type": "code",
   "execution_count": 161,
   "id": "7fbe5a44-4c59-43c8-b417-46d30ec5d04b",
   "metadata": {},
   "outputs": [
    {
     "name": "stdout",
     "output_type": "stream",
     "text": [
      "(2, 2, 2)\n"
     ]
    }
   ],
   "source": [
    "#3D Array:\n",
    "n = np.array([[[1,2],[4,6]],[[4,5],[8,9]]])\n",
    "print(n.shape)"
   ]
  },
  {
   "cell_type": "markdown",
   "id": "02a78064-0168-4cf7-901f-9e74a2edd69e",
   "metadata": {},
   "source": [
    "## 5) Creating and Inspecting a 4-D NumPy Array with Random Integers"
   ]
  },
  {
   "cell_type": "code",
   "execution_count": 162,
   "id": "cf8fed94-25e0-468d-8d0d-f402d22a0c1c",
   "metadata": {},
   "outputs": [
    {
     "name": "stdout",
     "output_type": "stream",
     "text": [
      "[[[[8 3 7 6]\n",
      "   [6 3 8 4]\n",
      "   [3 2 3 1]\n",
      "   [8 5 3 6]]\n",
      "\n",
      "  [[5 7 2 4]\n",
      "   [4 7 7 1]\n",
      "   [2 7 2 3]\n",
      "   [5 2 6 2]]\n",
      "\n",
      "  [[4 8 7 8]\n",
      "   [4 8 9 8]\n",
      "   [8 1 9 6]\n",
      "   [6 4 3 7]]]\n",
      "\n",
      "\n",
      " [[[9 4 3 5]\n",
      "   [2 9 5 8]\n",
      "   [3 7 2 7]\n",
      "   [7 2 4 7]]\n",
      "\n",
      "  [[3 1 7 9]\n",
      "   [3 5 6 6]\n",
      "   [3 5 9 2]\n",
      "   [6 1 5 1]]\n",
      "\n",
      "  [[9 8 4 1]\n",
      "   [2 7 8 7]\n",
      "   [5 7 7 6]\n",
      "   [5 2 3 2]]]]\n",
      "(2, 3, 4, 4)\n"
     ]
    }
   ],
   "source": [
    "#4D Array:\n",
    "import random\n",
    "d4 = np.random.randint(1,10,size=(2,3,4,4))\n",
    "print(d4)\n",
    "print(d4.shape)"
   ]
  },
  {
   "cell_type": "markdown",
   "id": "972593f6-7c0e-4012-92a3-750cb88a2ecd",
   "metadata": {},
   "source": [
    "## 6) Creating and Inspecting Another 4-D NumPy Array"
   ]
  },
  {
   "cell_type": "code",
   "execution_count": 163,
   "id": "9e9600ea-d93a-4fd2-a09b-fa6162140cae",
   "metadata": {},
   "outputs": [
    {
     "name": "stdout",
     "output_type": "stream",
     "text": [
      "[[[[1 4]\n",
      "   [8 5]]\n",
      "\n",
      "  [[5 5]\n",
      "   [4 7]]]\n",
      "\n",
      "\n",
      " [[[1 2]\n",
      "   [1 6]]\n",
      "\n",
      "  [[9 6]\n",
      "   [3 8]]]]\n",
      "(2, 2, 2, 2)\n"
     ]
    }
   ],
   "source": [
    "#4-D Array (Shape 2×2×2×2)\n",
    "d = np.random.randint(1,10,size=(2,2,2,2))\n",
    "print(d)\n",
    "print(d.shape)"
   ]
  },
  {
   "cell_type": "markdown",
   "id": "c29006bf-8107-41a5-bcd7-78099d27a77b",
   "metadata": {},
   "source": [
    "## 7) Array multiplication"
   ]
  },
  {
   "cell_type": "code",
   "execution_count": 164,
   "id": "74704e2d-4bd1-4a40-82b3-cf42d7d32636",
   "metadata": {},
   "outputs": [
    {
     "name": "stdout",
     "output_type": "stream",
     "text": [
      "[1, 2, 3, 1, 2, 3]\n",
      "[2 4 6]\n"
     ]
    }
   ],
   "source": [
    "#List vs NumPy Array Multiplication\n",
    "list1 = [1,2,3]\n",
    "list2 = np.array([1,2,3])\n",
    "print(list1*2)\n",
    "print(list2*2)"
   ]
  },
  {
   "cell_type": "markdown",
   "id": "e10a95c4-ea99-4451-8a67-3c53fa5b67ec",
   "metadata": {},
   "source": [
    "## 8) Array Properties and Changing Data Type"
   ]
  },
  {
   "cell_type": "code",
   "execution_count": 165,
   "id": "acff0404-c27e-41ba-b1cf-3a25f8776b6f",
   "metadata": {},
   "outputs": [
    {
     "name": "stdout",
     "output_type": "stream",
     "text": [
      "1\n",
      "3\n",
      "int64\n",
      "['1' '2' '3']\n"
     ]
    }
   ],
   "source": [
    "#Inspecting NumPy Array Properties and Changing Data Type\n",
    "ab = np.array([1,2,3])\n",
    "print(ab.ndim)\n",
    "print(ab.size)\n",
    "print(ab.dtype)\n",
    "print(ab.astype('U64'))"
   ]
  },
  {
   "cell_type": "markdown",
   "id": "64841598-5a3a-4df9-9338-120ddf76777a",
   "metadata": {},
   "source": [
    "## 9) Array Properties and Changing Data Type"
   ]
  },
  {
   "cell_type": "code",
   "execution_count": 166,
   "id": "5fb43f8c-ddce-4c9c-a485-3d5d474f2bb9",
   "metadata": {},
   "outputs": [
    {
     "name": "stdout",
     "output_type": "stream",
     "text": [
      "2\n",
      "4\n",
      "int64\n",
      "[[1. 3.]\n",
      " [4. 5.]]\n"
     ]
    }
   ],
   "source": [
    "#2-D NumPy Array Attributes and Type Conversion\n",
    "ba = np.array([[1,3],[4,5]])\n",
    "print(ba.ndim)\n",
    "print(ba.size)\n",
    "print(ba.dtype)\n",
    "print(ba.astype('float64'))"
   ]
  },
  {
   "cell_type": "markdown",
   "id": "87799165-bd46-4527-b380-0a85b3fdbfef",
   "metadata": {},
   "source": [
    "## 10) Array Properties and Changing Data Type"
   ]
  },
  {
   "cell_type": "code",
   "execution_count": 167,
   "id": "456f0d57-e3f2-411e-b461-2a1ea5eabc1f",
   "metadata": {},
   "outputs": [
    {
     "name": "stdout",
     "output_type": "stream",
     "text": [
      "3\n",
      "8\n",
      "int64\n",
      "[[[1. 2.]\n",
      "  [2. 3.]]\n",
      "\n",
      " [[4. 5.]\n",
      "  [6. 7.]]]\n"
     ]
    }
   ],
   "source": [
    "#3-D NumPy Array Attributes and Type Conversion\n",
    "c = np.array([[[1,2],[2,3]],[[4,5],[6,7]]])\n",
    "print(c.ndim)\n",
    "print(c.size)\n",
    "print(c.dtype)\n",
    "print(c.astype('float64'))"
   ]
  },
  {
   "cell_type": "markdown",
   "id": "bc3a7738-fda9-4ee8-8d0a-83c615d30154",
   "metadata": {},
   "source": [
    "## 11) Memory Size of Python List Elements"
   ]
  },
  {
   "cell_type": "code",
   "execution_count": 168,
   "id": "fc3a450d-37db-466c-9f28-70352005ccdf",
   "metadata": {},
   "outputs": [
    {
     "name": "stdout",
     "output_type": "stream",
     "text": [
      "136\n",
      "1360\n"
     ]
    }
   ],
   "source": [
    "#Memory Size of Python List Elements\n",
    "s = [0,1,2,3,4,5,6,7,8,9]\n",
    "print(sys.getsizeof(s))\n",
    "print(sys.getsizeof(s)*len(s))"
   ]
  },
  {
   "cell_type": "markdown",
   "id": "fca8c738-fb14-4b10-a600-82d4d119a020",
   "metadata": {},
   "source": [
    "## 12) Item Size and Total Memory Usage"
   ]
  },
  {
   "cell_type": "code",
   "execution_count": 169,
   "id": "5d994f49-6c92-4570-86f4-2c41daa8fbe8",
   "metadata": {},
   "outputs": [
    {
     "name": "stdout",
     "output_type": "stream",
     "text": [
      "8\n",
      "80\n"
     ]
    }
   ],
   "source": [
    "#Inspecting Item Size and Total Memory Usage of a NumPy Array\n",
    "di = np.array([0,1,2,3,4,5,6,7,8,9])\n",
    "print(di.itemsize)\n",
    "print(di.size*di.itemsize)"
   ]
  },
  {
   "cell_type": "markdown",
   "id": "973548f6-037c-4388-97a3-2a82c04a76b5",
   "metadata": {},
   "source": [
    "## 13) Performance Comparison"
   ]
  },
  {
   "cell_type": "code",
   "execution_count": 170,
   "id": "48920941-15e6-4e79-bffe-df166af0214f",
   "metadata": {},
   "outputs": [
    {
     "name": "stdout",
     "output_type": "stream",
     "text": [
      "0.006717205047607422\n",
      "0.0003521442413330078\n"
     ]
    }
   ],
   "source": [
    "#Performance Comparison: Lists vs NumPy Arrays\n",
    "import time\n",
    "size = 10000\n",
    "list1 = range(size)\n",
    "list2 = range(size)\n",
    "array1 = np.arange(size)\n",
    "array2 = np.arange(size)\n",
    "initialTime = time.time()\n",
    "resultantList = [(a*b) for a,b in zip(list1,list2)]\n",
    "print(time.time() - initialTime)\n",
    "initialTime = time.time()\n",
    "resultantArray = array1 * array2\n",
    "print((time.time() - initialTime))"
   ]
  },
  {
   "cell_type": "markdown",
   "id": "a51afd9e-3ba7-47c5-9c74-7178546d0c45",
   "metadata": {},
   "source": [
    "## 14) Arrays Filled with Zeros"
   ]
  },
  {
   "cell_type": "code",
   "execution_count": 171,
   "id": "c6b5e8ed-8dfa-4ff3-8909-0eb268975337",
   "metadata": {},
   "outputs": [
    {
     "name": "stdout",
     "output_type": "stream",
     "text": [
      "[[0. 0. 0.]\n",
      " [0. 0. 0.]]\n",
      "[[0 0 0]\n",
      " [0 0 0]\n",
      " [0 0 0]]\n"
     ]
    }
   ],
   "source": [
    "#Creating NumPy Arrays Filled with Zeros\n",
    "xy = np.zeros((2,3))\n",
    "yz = np.zeros((3,3),dtype=int)\n",
    "print(xy)\n",
    "print(yz)"
   ]
  },
  {
   "cell_type": "markdown",
   "id": "23b4f119-8821-4108-9d69-cd47dfc4f987",
   "metadata": {},
   "source": [
    "## 15) Arrays Filled with Ones and Checking Data Type"
   ]
  },
  {
   "cell_type": "code",
   "execution_count": 172,
   "id": "5f76f65a-67f8-4bc3-8848-56bea20abb3d",
   "metadata": {},
   "outputs": [
    {
     "name": "stdout",
     "output_type": "stream",
     "text": [
      "int64\n",
      "[[1. 1. 1.]\n",
      " [1. 1. 1.]]\n",
      "[[1 1 1]\n",
      " [1 1 1]\n",
      " [1 1 1]]\n"
     ]
    }
   ],
   "source": [
    "#Creating NumPy Arrays Filled with Ones and Checking Data Type\n",
    "g = np.ones((2,3))\n",
    "print(c.dtype)\n",
    "h = np.ones((3,3),dtype=int)\n",
    "print(g)\n",
    "print(h)"
   ]
  },
  {
   "cell_type": "markdown",
   "id": "adb2e953-6fb8-4a36-bd98-6263c6f474be",
   "metadata": {},
   "source": [
    "## 16) Array Filled with a Specific Value"
   ]
  },
  {
   "cell_type": "code",
   "execution_count": 173,
   "id": "ae0172ae-1aae-468e-ab7f-cd1e504e455e",
   "metadata": {},
   "outputs": [
    {
     "name": "stdout",
     "output_type": "stream",
     "text": [
      "[[30 30 30]\n",
      " [30 30 30]\n",
      " [30 30 30]]\n"
     ]
    }
   ],
   "source": [
    "#Creating a NumPy Array Filled with a Specific Value\n",
    "g = np.full((3,3),30)\n",
    "print(g)"
   ]
  },
  {
   "cell_type": "markdown",
   "id": "e5065004-461b-44b6-9b8d-6180197be431",
   "metadata": {},
   "source": [
    "## 17) Identity Matrix"
   ]
  },
  {
   "cell_type": "code",
   "execution_count": 174,
   "id": "2005b55b-9d10-4c5c-a2b7-8b33eaf7c50a",
   "metadata": {},
   "outputs": [
    {
     "name": "stdout",
     "output_type": "stream",
     "text": [
      "[[1. 0. 0. 0.]\n",
      " [0. 1. 0. 0.]\n",
      " [0. 0. 1. 0.]\n",
      " [0. 0. 0. 1.]]\n",
      "<class 'numpy.ndarray'>\n"
     ]
    }
   ],
   "source": [
    "#NumPy Identity Matrix Example\n",
    "a = np.identity(4)\n",
    "print(a)\n",
    "print(type(a))"
   ]
  },
  {
   "cell_type": "markdown",
   "id": "a8bc5576-4041-47a4-9d2b-6cb5fde68394",
   "metadata": {},
   "source": [
    "## 18) Python List to NumPy Array"
   ]
  },
  {
   "cell_type": "code",
   "execution_count": 175,
   "id": "f5ba81bc-57e2-4417-9b9e-e5166183c654",
   "metadata": {},
   "outputs": [
    {
     "data": {
      "text/plain": [
       "array([1, 2, 3, 4, 5])"
      ]
     },
     "execution_count": 175,
     "metadata": {},
     "output_type": "execute_result"
    }
   ],
   "source": [
    "#Converting Python List to NumPy Array\n",
    "a = [1,2,3,4,5]\n",
    "x = np.asarray(a)\n",
    "x"
   ]
  },
  {
   "cell_type": "markdown",
   "id": "dd63e0f4-71ac-4190-9c77-a98bfe703beb",
   "metadata": {},
   "source": [
    "## 19) Python Tuple to NumPy Array"
   ]
  },
  {
   "cell_type": "code",
   "execution_count": 176,
   "id": "7ce5e45b-9804-4ba1-9c13-ae28a50a6cff",
   "metadata": {},
   "outputs": [
    {
     "data": {
      "text/plain": [
       "array([1, 2, 3])"
      ]
     },
     "execution_count": 176,
     "metadata": {},
     "output_type": "execute_result"
    }
   ],
   "source": [
    "#Converting Python Tuple to NumPy Array\n",
    "a = (1,2,3)\n",
    "x = np.asarray(a)\n",
    "x"
   ]
  },
  {
   "cell_type": "markdown",
   "id": "0bb6b4fc-5a45-4998-a060-75ff8d6d68e4",
   "metadata": {},
   "source": [
    "## 20) NumPy Array with arange() and Slicing Elements"
   ]
  },
  {
   "cell_type": "code",
   "execution_count": 177,
   "id": "a174cfaf-efe8-403a-b638-e549a29a11e6",
   "metadata": {},
   "outputs": [
    {
     "name": "stdout",
     "output_type": "stream",
     "text": [
      "[2 3 4 5 6 7]\n"
     ]
    }
   ],
   "source": [
    "#Creating a Array with arange() and Slicing Elements\n",
    "a = np.arange(10)\n",
    "print(a[2:8])"
   ]
  },
  {
   "cell_type": "markdown",
   "id": "0dc7e59d-e897-447f-bb53-0953e26b2277",
   "metadata": {},
   "source": [
    "## 21) Array of Random Floats"
   ]
  },
  {
   "cell_type": "code",
   "execution_count": 178,
   "id": "4c254019-cf08-4ab3-adff-0e1b63eb8c51",
   "metadata": {},
   "outputs": [
    {
     "name": "stdout",
     "output_type": "stream",
     "text": [
      "[0.98330707 0.6498707  0.88077529 0.10574053 0.55603892 0.60451182\n",
      " 0.80701092 0.14599214 0.3108198  0.32067089]\n"
     ]
    }
   ],
   "source": [
    "#Creating a 1-D NumPy Array of Random Floats\n",
    "a = np.random.random(10)\n",
    "print(a)"
   ]
  },
  {
   "cell_type": "markdown",
   "id": "27500da8-d29a-47de-adf6-5cae3457c914",
   "metadata": {},
   "source": [
    "## 22) Slicing a NumPy Array with a Step"
   ]
  },
  {
   "cell_type": "code",
   "execution_count": 179,
   "id": "33cc4f0e-ed46-422b-82e1-ab4ae6dcc192",
   "metadata": {},
   "outputs": [
    {
     "data": {
      "text/plain": [
       "array([0.98330707, 0.88077529, 0.55603892, 0.80701092, 0.3108198 ])"
      ]
     },
     "execution_count": 179,
     "metadata": {},
     "output_type": "execute_result"
    }
   ],
   "source": [
    "#Slicing a NumPy Array with a Step\n",
    "a[::2]"
   ]
  },
  {
   "cell_type": "markdown",
   "id": "abdb21a9-2412-468e-898c-8111f9e0f65d",
   "metadata": {},
   "source": [
    "### 23) Slicing a NumPy Array with Start, Stop, and Step"
   ]
  },
  {
   "cell_type": "code",
   "execution_count": 180,
   "id": "23be33d1-45ee-4dcc-b42f-6c9fa62174d2",
   "metadata": {},
   "outputs": [
    {
     "data": {
      "text/plain": [
       "array([0.88077529, 0.55603892, 0.80701092, 0.3108198 ])"
      ]
     },
     "execution_count": 180,
     "metadata": {},
     "output_type": "execute_result"
    }
   ],
   "source": [
    "#Slicing a NumPy Array with Start, Stop, and Step\n",
    "a[2:10:2]"
   ]
  },
  {
   "cell_type": "markdown",
   "id": "9b60c616-d0e8-4cd8-86ad-50ebebed8d16",
   "metadata": {},
   "source": [
    "## 24) Slicing a NumPy Array with a Custom Step Size"
   ]
  },
  {
   "cell_type": "code",
   "execution_count": 181,
   "id": "0d8946c7-7de0-46e3-aae1-ee8606dcd354",
   "metadata": {},
   "outputs": [
    {
     "data": {
      "text/plain": [
       "array([0.88077529, 0.14599214])"
      ]
     },
     "execution_count": 181,
     "metadata": {},
     "output_type": "execute_result"
    }
   ],
   "source": [
    "#Slicing a NumPy Array with a Custom Step Size\n",
    "a[2:10:5]"
   ]
  },
  {
   "cell_type": "markdown",
   "id": "6671a735-1857-4dfb-87bf-fe826280a07c",
   "metadata": {},
   "source": [
    "## 25) Accessing a Specific Element"
   ]
  },
  {
   "cell_type": "code",
   "execution_count": 182,
   "id": "526cf4ef-ccda-4fe2-be8b-23924970c8df",
   "metadata": {},
   "outputs": [
    {
     "name": "stdout",
     "output_type": "stream",
     "text": [
      "3\n",
      "6\n"
     ]
    }
   ],
   "source": [
    "#Accessing a Specific Element in a 2-D NumPy Array\n",
    "a = np.array([[1,2,3],[4,5,6]])\n",
    "print(a[0,2])\n",
    "print(a[1,2])"
   ]
  },
  {
   "cell_type": "markdown",
   "id": "81cd4d7b-4471-401c-9436-8247b59a8be3",
   "metadata": {},
   "source": [
    "## 26) Selecting Specific Rows and Columns"
   ]
  },
  {
   "cell_type": "code",
   "execution_count": 183,
   "id": "2981831b-b70a-477f-92d7-61dbd9455ff4",
   "metadata": {},
   "outputs": [
    {
     "name": "stdout",
     "output_type": "stream",
     "text": [
      "[[1 2 3]\n",
      " [4 5 6]\n",
      " [7 8 9]]\n",
      "[[1 2 3]\n",
      " [4 5 6]]\n",
      "[[3]\n",
      " [6]]\n"
     ]
    }
   ],
   "source": [
    "#Selecting Specific Rows and Columns from a 2-D NumPy Array\n",
    "a = np.array([[1,2,3],[4,5,6],[7,8,9]])\n",
    "print(a)\n",
    "print(a[0:2])\n",
    "print(a[0:2,-1:])"
   ]
  },
  {
   "cell_type": "markdown",
   "id": "1720513b-0b19-42ba-9c1a-a75315bb166b",
   "metadata": {},
   "source": [
    "## 27) Selecting Blocks and Rows"
   ]
  },
  {
   "cell_type": "code",
   "execution_count": 184,
   "id": "ede3bc61-f95f-4f13-9d81-9d53857798e5",
   "metadata": {},
   "outputs": [
    {
     "name": "stdout",
     "output_type": "stream",
     "text": [
      "[[[ 1  2]\n",
      "  [ 2  3]\n",
      "  [ 4  5]]\n",
      "\n",
      " [[ 6  7]\n",
      "  [ 8  9]\n",
      "  [10 11]]\n",
      "\n",
      " [[12 13]\n",
      "  [14 15]\n",
      "  [16 17]]]\n",
      "[[[ 1  2]\n",
      "  [ 2  3]\n",
      "  [ 4  5]]\n",
      "\n",
      " [[ 6  7]\n",
      "  [ 8  9]\n",
      "  [10 11]]]\n",
      "[[[1 2]\n",
      "  [2 3]\n",
      "  [4 5]]]\n"
     ]
    }
   ],
   "source": [
    "#Selecting Blocks and Rows from a 3-D NumPy Array\n",
    "a = np.array([[[1,2],[2,3],[4,5]],[[6,7],[8,9],[10,11]],[[12,13],[14,15],[16,17]]])\n",
    "print(a)\n",
    "print(a[0:2])\n",
    "print(a[0:1,0:])"
   ]
  },
  {
   "cell_type": "markdown",
   "id": "62f5bde8-70e9-4f54-9fa5-5676006521d2",
   "metadata": {},
   "source": [
    "## 28) Random Integer NumPy Array"
   ]
  },
  {
   "cell_type": "code",
   "execution_count": 185,
   "id": "5c8239ec-19b5-41de-8103-8b530400cc76",
   "metadata": {},
   "outputs": [
    {
     "name": "stdout",
     "output_type": "stream",
     "text": [
      "[[43 35 45 25 25 32 19 41]\n",
      " [28 29 39 47 49 41 40 13]\n",
      " [48 10 38 16 27 11 42 12]]\n"
     ]
    }
   ],
   "source": [
    "#Random Integer NumPy Array\n",
    "a = np.array(np.random.randint(10,50,(3,8)))\n",
    "print(a)"
   ]
  },
  {
   "cell_type": "markdown",
   "id": "11e23f91-d01f-489e-9513-9dd74c84612f",
   "metadata": {},
   "source": [
    "## 29) Transposing a NumPy Array"
   ]
  },
  {
   "cell_type": "code",
   "execution_count": 186,
   "id": "2a403aec-c6a4-4348-9bec-b9e9e16b5000",
   "metadata": {},
   "outputs": [
    {
     "name": "stdout",
     "output_type": "stream",
     "text": [
      "[[43 28 48]\n",
      " [35 29 10]\n",
      " [45 39 38]\n",
      " [25 47 16]\n",
      " [25 49 27]\n",
      " [32 41 11]\n",
      " [19 40 42]\n",
      " [41 13 12]]\n"
     ]
    }
   ],
   "source": [
    "#Transposing a NumPy Array\n",
    "x = np.transpose(a)\n",
    "print(x)"
   ]
  },
  {
   "cell_type": "markdown",
   "id": "d7ce9179-0e75-45a9-9b37-8404d101ec8f",
   "metadata": {},
   "source": [
    "## 30) Reshaping a NumPy Array"
   ]
  },
  {
   "cell_type": "code",
   "execution_count": 187,
   "id": "4020383b-4b83-4e16-81fc-af17a9c5907a",
   "metadata": {},
   "outputs": [
    {
     "name": "stdout",
     "output_type": "stream",
     "text": [
      "[[[43 28 48]\n",
      "  [35 29 10]\n",
      "  [45 39 38]\n",
      "  [25 47 16]]\n",
      "\n",
      " [[25 49 27]\n",
      "  [32 41 11]\n",
      "  [19 40 42]\n",
      "  [41 13 12]]]\n"
     ]
    }
   ],
   "source": [
    "#Reshaping a NumPy Array into a New Shape\n",
    "b = (2,4,3)\n",
    "z = np.reshape(x,b)\n",
    "print(z)"
   ]
  },
  {
   "cell_type": "markdown",
   "id": "1f21aa66-d121-4db2-ac8b-50f8bfe09c90",
   "metadata": {},
   "source": [
    "## 31) Array of Random Integers"
   ]
  },
  {
   "cell_type": "code",
   "execution_count": 188,
   "id": "bd80efbd-a925-482a-ba11-3af62eecbab3",
   "metadata": {},
   "outputs": [
    {
     "name": "stdout",
     "output_type": "stream",
     "text": [
      "[[[49 39 36 39 24 14]\n",
      "  [43 38 31 33 12 45]\n",
      "  [40 11 32 39 28 34]\n",
      "  [27 45 43 38 17 23]]\n",
      "\n",
      " [[37 32 28 35 11 35]\n",
      "  [13 34 11 49 34 49]\n",
      "  [33 28 30 11 28 47]\n",
      "  [32 34 25 30 48 45]]]\n"
     ]
    }
   ],
   "source": [
    "#Creating a 3-D NumPy Array of Random Integers\n",
    "a = np.array(np.random.randint(10,50,(2,4,6)))\n",
    "print(a)"
   ]
  },
  {
   "cell_type": "markdown",
   "id": "429d668a-08dc-494e-885d-eac1c4f8c9c4",
   "metadata": {},
   "source": [
    "## 32) Resizing a 3-D NumPy Array"
   ]
  },
  {
   "cell_type": "code",
   "execution_count": 189,
   "id": "e3f05901-7a0e-4088-a265-c3dfe89d56be",
   "metadata": {},
   "outputs": [
    {
     "name": "stdout",
     "output_type": "stream",
     "text": [
      "[[[49 39 36 39 24 14]\n",
      "  [43 38 31 33 12 45]\n",
      "  [40 11 32 39 28 34]]\n",
      "\n",
      " [[27 45 43 38 17 23]\n",
      "  [37 32 28 35 11 35]\n",
      "  [13 34 11 49 34 49]]\n",
      "\n",
      " [[33 28 30 11 28 47]\n",
      "  [32 34 25 30 48 45]\n",
      "  [49 39 36 39 24 14]]\n",
      "\n",
      " [[43 38 31 33 12 45]\n",
      "  [40 11 32 39 28 34]\n",
      "  [27 45 43 38 17 23]]]\n"
     ]
    }
   ],
   "source": [
    "#Resizing a 3-D NumPy Array from (2×4×6) to (4×3×6)\n",
    "b = (4,3,6)\n",
    "ans = np.resize(a,b)\n",
    "print(ans)"
   ]
  },
  {
   "cell_type": "markdown",
   "id": "18373807-4939-4f3c-b511-2573e5b92417",
   "metadata": {},
   "source": [
    "## 33) Flattening a NumPy Array"
   ]
  },
  {
   "cell_type": "code",
   "execution_count": 190,
   "id": "c917624c-bed1-44b7-80a6-7ef91fb44201",
   "metadata": {},
   "outputs": [
    {
     "data": {
      "text/plain": [
       "array([49, 39, 36, 39, 24, 14, 43, 38, 31, 33, 12, 45, 40, 11, 32, 39, 28,\n",
       "       34, 27, 45, 43, 38, 17, 23, 37, 32, 28, 35, 11, 35, 13, 34, 11, 49,\n",
       "       34, 49, 33, 28, 30, 11, 28, 47, 32, 34, 25, 30, 48, 45, 49, 39, 36,\n",
       "       39, 24, 14, 43, 38, 31, 33, 12, 45, 40, 11, 32, 39, 28, 34, 27, 45,\n",
       "       43, 38, 17, 23], dtype=int32)"
      ]
     },
     "execution_count": 190,
     "metadata": {},
     "output_type": "execute_result"
    }
   ],
   "source": [
    "#Flattening a NumPy Array into 1-D\n",
    "ans.flatten()"
   ]
  }
 ],
 "metadata": {
  "kernelspec": {
   "display_name": "Python 3 (ipykernel)",
   "language": "python",
   "name": "python3"
  },
  "language_info": {
   "codemirror_mode": {
    "name": "ipython",
    "version": 3
   },
   "file_extension": ".py",
   "mimetype": "text/x-python",
   "name": "python",
   "nbconvert_exporter": "python",
   "pygments_lexer": "ipython3",
   "version": "3.13.5"
  }
 },
 "nbformat": 4,
 "nbformat_minor": 5
}
