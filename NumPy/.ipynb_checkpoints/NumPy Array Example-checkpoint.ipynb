{
 "cells": [
  {
   "cell_type": "markdown",
   "id": "ffdc12da-2801-498f-92eb-238d21e3ea15",
   "metadata": {},
   "source": [
    "<center><h1><b>NumPy Array Example</h1></center>"
   ]
  },
  {
   "cell_type": "markdown",
   "id": "c9e461fc-c366-4288-aa84-445c76cde23d",
   "metadata": {},
   "source": [
    "## Importing NumPy Library"
   ]
  },
  {
   "cell_type": "code",
   "execution_count": 1,
   "id": "ff03734c-51bf-427e-a355-a0dd6d8f3e08",
   "metadata": {},
   "outputs": [],
   "source": [
    "#Importing NumPy Library\n",
    "import numpy as np"
   ]
  },
  {
   "cell_type": "markdown",
   "id": "e4c69db2-3595-42fd-b47d-866bfb2120d0",
   "metadata": {},
   "source": [
    "## 1-D Array Example"
   ]
  },
  {
   "cell_type": "code",
   "execution_count": 2,
   "id": "96a8bd11-ad45-4de6-b369-faca81f6f8a5",
   "metadata": {},
   "outputs": [
    {
     "name": "stdout",
     "output_type": "stream",
     "text": [
      "[ 2  3  5  7 11]\n",
      "<class 'numpy.ndarray'>\n",
      "(5,)\n"
     ]
    }
   ],
   "source": [
    "#1D Array(some prime numbers):\n",
    "prime_array = np.array([2,3,5,7,11])\n",
    "print(prime_array)\n",
    "print(type(prime_array))\n",
    "print(prime_array.shape)"
   ]
  },
  {
   "cell_type": "markdown",
   "id": "f3296abc-c666-4259-8025-84e7b8533003",
   "metadata": {},
   "source": [
    "## Creating 2D array"
   ]
  },
  {
   "cell_type": "code",
   "execution_count": 3,
   "id": "b253a0c1-3bbb-417c-83b6-3ba0ceb6277b",
   "metadata": {},
   "outputs": [
    {
     "name": "stdout",
     "output_type": "stream",
     "text": [
      "[[1 2]\n",
      " [3 4]]\n",
      "(2, 2)\n"
     ]
    },
    {
     "data": {
      "text/plain": [
       "array([[1, 2],\n",
       "       [3, 4]])"
      ]
     },
     "execution_count": 3,
     "metadata": {},
     "output_type": "execute_result"
    }
   ],
   "source": [
    "#2D Array(Creating 2D array):\n",
    "another_array =  np.array([[1,2],[3,4]])\n",
    "print(another_array)\n",
    "print(another_array.shape)\n",
    "another_array"
   ]
  },
  {
   "cell_type": "markdown",
   "id": "f55847ee-95e3-41d0-bf53-55265d5b0984",
   "metadata": {},
   "source": [
    "## Creating 3D array"
   ]
  },
  {
   "cell_type": "code",
   "execution_count": 4,
   "id": "8a26441d-fe25-4f8a-ad9e-f9d45a3ab9e7",
   "metadata": {},
   "outputs": [
    {
     "name": "stdout",
     "output_type": "stream",
     "text": [
      "2 Layers of 2×2 Array:\n",
      "[[[1 2]\n",
      "  [3 4]]\n",
      "\n",
      " [[5 6]\n",
      "  [6 7]]]\n",
      "(2, 2, 2)\n",
      "\n",
      "2 Layers of 3×4 Arrays:\n",
      "[[[ 1  2  3  4]\n",
      "  [ 5  6  7  8]\n",
      "  [ 9 10 11 12]]\n",
      "\n",
      " [[13 14 15 16]\n",
      "  [17 18 19 20]\n",
      "  [21 22 23 24]]]\n",
      "(2, 3, 4)\n"
     ]
    }
   ],
   "source": [
    "#3-D Array Example: 2 Layers of 2×2 Arrays\n",
    "#Eg 1:\n",
    "print('2 Layers of 2×2 Array:')\n",
    "threeD_array = np.array([[[1,2,],[3,4]],[[5,6],[6,7]]])\n",
    "print(threeD_array)\n",
    "print(threeD_array.shape)\n",
    "\n",
    "#Eg 2:\n",
    "#3-D Array Example: 2 Layers of 3×4 Arrays\n",
    "print('\\n2 Layers of 3×4 Arrays:')\n",
    "array_3d = np.array([\n",
    "    [#layer1\n",
    "    [1,2,3,4],[5,6,7,8],[9,10,11,12]\n",
    "    ],\n",
    "    [#layer 2\n",
    "    [13,14,15,16],[17,18,19,20],[21,22,23,24]]])\n",
    "print(array_3d)\n",
    "print(array_3d.shape)"
   ]
  },
  {
   "cell_type": "markdown",
   "id": "10473c45-cddc-4897-aaf2-2febee27f3e8",
   "metadata": {},
   "source": [
    "## Creating a 4-Dimensional Array"
   ]
  },
  {
   "cell_type": "code",
   "execution_count": 5,
   "id": "d4713945-80e7-460a-b38a-d31906a0a6b6",
   "metadata": {},
   "outputs": [
    {
     "name": "stdout",
     "output_type": "stream",
     "text": [
      "[[[[7 6 9 8 3]\n",
      "   [1 9 8 4 4]\n",
      "   [3 3 2 5 1]\n",
      "   [3 2 4 4 2]]\n",
      "\n",
      "  [[5 6 3 6 5]\n",
      "   [2 7 3 9 8]\n",
      "   [7 1 3 5 2]\n",
      "   [7 9 3 7 8]]\n",
      "\n",
      "  [[3 6 1 9 5]\n",
      "   [4 6 3 4 2]\n",
      "   [7 1 6 1 2]\n",
      "   [6 7 4 9 1]]]\n",
      "\n",
      "\n",
      " [[[4 8 6 5 1]\n",
      "   [1 6 1 5 9]\n",
      "   [9 7 2 8 7]\n",
      "   [4 2 6 8 2]]\n",
      "\n",
      "  [[8 1 3 4 3]\n",
      "   [8 5 9 2 4]\n",
      "   [9 5 8 5 3]\n",
      "   [5 4 5 4 1]]\n",
      "\n",
      "  [[9 8 6 8 6]\n",
      "   [1 9 4 6 4]\n",
      "   [6 1 3 5 8]\n",
      "   [8 9 8 3 1]]]]\n",
      "(2, 3, 4, 5)\n"
     ]
    }
   ],
   "source": [
    "#Creating a 4-Dimensional Array of Random Integers:\n",
    "array_4d = np.random.randint(1,10,size = (2,3,4,5))\n",
    "print(array_4d)\n",
    "print(array_4d.shape)"
   ]
  },
  {
   "cell_type": "markdown",
   "id": "9e6d5713-7a0d-410f-9ba4-5be673a028df",
   "metadata": {},
   "source": [
    "## Generating a Single Random Integer"
   ]
  },
  {
   "cell_type": "code",
   "execution_count": 6,
   "id": "e6c97340-d759-49da-a151-7b73b9cc31d7",
   "metadata": {},
   "outputs": [
    {
     "name": "stdout",
     "output_type": "stream",
     "text": [
      "4\n"
     ]
    }
   ],
   "source": [
    "#Generating a Single Random Integer\n",
    "print(np.random.randint(1, 10))"
   ]
  },
  {
   "cell_type": "markdown",
   "id": "d5ffcf8b-1638-46c3-9980-f45b0df769d3",
   "metadata": {},
   "source": [
    "## Python List vs NumPy Array: Multiplication Example"
   ]
  },
  {
   "cell_type": "code",
   "execution_count": 7,
   "id": "f6601b93-dd78-40ec-bcb7-e1cd28d663db",
   "metadata": {},
   "outputs": [
    {
     "name": "stdout",
     "output_type": "stream",
     "text": [
      "[1, 2, 3, 1, 2, 3]\n",
      "[2 4 6]\n"
     ]
    }
   ],
   "source": [
    "#Python List vs NumPy Array: Multiplication Example\n",
    "#list:\n",
    "py_list = [1,2,3]\n",
    "print(py_list*2)\n",
    "\n",
    "#Array:\n",
    "np_array = np.array([1,2,3])\n",
    "print(np_array*2)"
   ]
  },
  {
   "cell_type": "markdown",
   "id": "61c36993-b2c6-4adb-a7da-31cb063d5910",
   "metadata": {},
   "source": [
    "## Understanding Array Shapes"
   ]
  },
  {
   "cell_type": "code",
   "execution_count": 8,
   "id": "bccfd0e6-4c7a-4374-aec9-f7b1a63991b1",
   "metadata": {},
   "outputs": [
    {
     "name": "stdout",
     "output_type": "stream",
     "text": [
      "(2, 3)\n",
      "(2, 4)\n",
      "(4, 2, 3)\n"
     ]
    }
   ],
   "source": [
    "#Understanding Array Shapes in NumPy \n",
    "#ndarray.shape:\n",
    "#2D array:\n",
    "narray = np.array([[1,2,3],[4,5,6]])\n",
    "print(narray.shape)\n",
    "\n",
    "#2D array:\n",
    "aarray = np.array([[1,2,3,4],[5,6,7,8]])\n",
    "print(aarray.shape)\n",
    "\n",
    "#3D array:\n",
    "n_array = np.array([[[1,2,3],[4,5,6]],\n",
    "                    [[1,2,3],[4,5,6]],\n",
    "                    [[1,2,3],[4,5,6]],\n",
    "                   [[1,2,3],[4,5,6]]])\n",
    "print(n_array.shape)"
   ]
  },
  {
   "cell_type": "markdown",
   "id": "4f5b7b34-5b72-4f83-afbb-611cd200e742",
   "metadata": {},
   "source": [
    "## Checking the Number of Dimensions"
   ]
  },
  {
   "cell_type": "code",
   "execution_count": 9,
   "id": "92a83973-5a4a-4a0e-b1cb-a117c062fe9d",
   "metadata": {},
   "outputs": [
    {
     "name": "stdout",
     "output_type": "stream",
     "text": [
      "Dimensions of array integers: 1\n",
      "Dimensions of 2d array: 2\n"
     ]
    }
   ],
   "source": [
    "#Checking the Number of Dimensions of NumPy Arrays (.ndim Attribute)\n",
    "#Eg 1:\n",
    "array_of_integers = np.array([0,1,2,3,4,5,6,7,8,9])\n",
    "print('Dimensions of array integers:',array_of_integers.ndim)\n",
    "\n",
    "#Eg 2:\n",
    "sample_2darray = np.array([[1,2,3],[4,5,6]])\n",
    "print('Dimensions of 2d array:',sample_2darray.ndim)"
   ]
  },
  {
   "cell_type": "markdown",
   "id": "0c7ef688-0f6a-46ee-b7a2-f1d92b0db2da",
   "metadata": {},
   "source": [
    "## Checking the Total Number of Elements"
   ]
  },
  {
   "cell_type": "code",
   "execution_count": 10,
   "id": "2490bb00-5d8e-4c2c-a6ae-c2fb3efff750",
   "metadata": {},
   "outputs": [
    {
     "name": "stdout",
     "output_type": "stream",
     "text": [
      "10\n",
      "6\n"
     ]
    }
   ],
   "source": [
    "#Checking the Total Number of Elements in NumPy Arrays (.size Attribute)\n",
    "#Eg 1:\n",
    "a = np.array([0,1,2,3,4,5,6,7,8,9])\n",
    "print(a.size)\n",
    "\n",
    "#Eg 2:\n",
    "b = np.array([[1,2,3],[4,5,6]])\n",
    "print(b.size)"
   ]
  },
  {
   "cell_type": "markdown",
   "id": "c5d604d8-7dfe-47b7-a7f9-9fc9d4af3ac5",
   "metadata": {},
   "source": [
    "## Checking the Data Type"
   ]
  },
  {
   "cell_type": "code",
   "execution_count": 11,
   "id": "2364cb14-5166-44c4-9450-7d4d41e2d61d",
   "metadata": {},
   "outputs": [
    {
     "name": "stdout",
     "output_type": "stream",
     "text": [
      "int64\n",
      "<U32\n"
     ]
    }
   ],
   "source": [
    "#Checking the Data Type of NumPy Arrays (.dtype Attribute)\n",
    "#Eg 1:\n",
    "my_array = np.array([[1,2,3,4,5]])\n",
    "print(my_array.dtype)\n",
    "\n",
    "#Eg 2:\n",
    "n_array = np.array([1,2.0,3,4,5,'abc'])\n",
    "print(n_array.dtype)"
   ]
  },
  {
   "cell_type": "markdown",
   "id": "aad7461f-3a79-4143-aaa5-9c885fe25518",
   "metadata": {},
   "source": [
    "## Changing Array Data Type"
   ]
  },
  {
   "cell_type": "code",
   "execution_count": 12,
   "id": "a93ddf53-635c-4f33-a7b1-9f6e3065720d",
   "metadata": {},
   "outputs": [
    {
     "name": "stdout",
     "output_type": "stream",
     "text": [
      "[1 2 3 4]\n",
      "int64\n",
      "float64\n"
     ]
    }
   ],
   "source": [
    "#Changing Array Data Type with .astype()\n",
    "x = np.array([1,2,3,4])\n",
    "print(x)\n",
    "print(x.dtype)\n",
    "x_ = x.astype('float64')\n",
    "print(x_.dtype)"
   ]
  },
  {
   "cell_type": "markdown",
   "id": "ac4fc637-d1ca-426a-b39d-47e675205f98",
   "metadata": {},
   "source": [
    "## Checking Memory Usage of a Python List"
   ]
  },
  {
   "cell_type": "code",
   "execution_count": 13,
   "id": "3fea3fcc-7644-4af8-a2d6-9e3c2369aae4",
   "metadata": {},
   "outputs": [
    {
     "name": "stdout",
     "output_type": "stream",
     "text": [
      "136\n",
      "1360\n"
     ]
    }
   ],
   "source": [
    "#Checking Memory Usage of a Python List with sys.getsizeof()\n",
    "#import sys\n",
    "import  sys\n",
    "s = [0,1,2,3,4,5,6,7,8,9]\n",
    "print(sys.getsizeof(s))\n",
    "print(sys.getsizeof(s)*len(s))"
   ]
  },
  {
   "cell_type": "markdown",
   "id": "2e15099a-6d52-4c82-8abe-03adc19cfb47",
   "metadata": {},
   "source": [
    "## Checking Memory Usage of a NumPy Array"
   ]
  },
  {
   "cell_type": "code",
   "execution_count": 14,
   "id": "25299f02-b4b1-4e8e-b2da-2035cd0fee63",
   "metadata": {},
   "outputs": [
    {
     "name": "stdout",
     "output_type": "stream",
     "text": [
      "8\n",
      "80\n"
     ]
    }
   ],
   "source": [
    "#Checking Memory Usage of a NumPy Array (.itemsize and .size)\n",
    "D = np.array([0,1,2,3,4,5,6,7,8,9])\n",
    "print(D.itemsize)\n",
    "print(D.size*D.itemsize)"
   ]
  },
  {
   "cell_type": "markdown",
   "id": "e9f6a62f-e578-423d-b588-d7252839327c",
   "metadata": {},
   "source": [
    "## Comparing Execution Time\n"
   ]
  },
  {
   "cell_type": "code",
   "execution_count": 15,
   "id": "28e5411c-226b-4bcc-9e82-02de3357cd8e",
   "metadata": {},
   "outputs": [
    {
     "name": "stdout",
     "output_type": "stream",
     "text": [
      "0.009895086288452148\n",
      "0.00031185150146484375\n"
     ]
    }
   ],
   "source": [
    "#Comparing Execution Time: Python Lists vs NumPy Arrays\n",
    "#Performance:\n",
    "import time\n",
    "size = 10000\n",
    "list1 = range(size)\n",
    "list2 = range(size)\n",
    "array1 = np.array(size)\n",
    "array2 = np.array(size)\n",
    "initialTime = time.time()\n",
    "resultantList =[(a*b) for a,b in zip (list1,list2)]\n",
    "print((time.time() - initialTime))\n",
    "initialTime = time.time()\n",
    "resultantArray = time.time()\n",
    "resultantArray = array1 * array2\n",
    "print(time.time()-initialTime)"
   ]
  },
  {
   "cell_type": "markdown",
   "id": "701a4aed-8b22-4954-8286-96bcd9f38869",
   "metadata": {},
   "source": [
    "## Generating Zero-Filled Arrays"
   ]
  },
  {
   "cell_type": "code",
   "execution_count": 16,
   "id": "ee837c29-166b-426f-a64d-6139fb034350",
   "metadata": {},
   "outputs": [
    {
     "name": "stdout",
     "output_type": "stream",
     "text": [
      "[[0. 0. 0.]\n",
      " [0. 0. 0.]\n",
      " [0. 0. 0.]]\n",
      "[[0 0 0]\n",
      " [0 0 0]\n",
      " [0 0 0]\n",
      " [0 0 0]]\n"
     ]
    }
   ],
   "source": [
    "#Initializing array with Zeros\n",
    "zeros_array = np.zeros((3,3))\n",
    "another_zeros = np.zeros((4,3), dtype = int)\n",
    "print(zeros_array)\n",
    "print(another_zeros)"
   ]
  },
  {
   "cell_type": "markdown",
   "id": "85c240e3-64c2-4adf-93c7-e496267dd6dd",
   "metadata": {},
   "source": [
    "## Creating Arrays of Ones with NumPy"
   ]
  },
  {
   "cell_type": "code",
   "execution_count": 17,
   "id": "74b0fb1a-ec85-4018-8613-fff405ca4b05",
   "metadata": {},
   "outputs": [
    {
     "name": "stdout",
     "output_type": "stream",
     "text": [
      "Example 1:\n",
      "[[1. 1. 1.]\n",
      " [1. 1. 1.]\n",
      " [1. 1. 1.]]\n",
      "\n",
      "Example 2:\n",
      "[[1 1 1]\n",
      " [1 1 1]]\n",
      "\n",
      "Example 3:\n",
      "[[1. 1. 1.]\n",
      " [1. 1. 1.]\n",
      " [1. 1. 1.]]\n"
     ]
    }
   ],
   "source": [
    "#Creating Arrays of Ones with NumPy\n",
    "#Eg 1:\n",
    "print('Example 1:')\n",
    "ones_array = np.ones((3,3))\n",
    "print(ones_array)\n",
    "\n",
    "#Eg 2:\n",
    "print('\\nExample 2:')\n",
    "another_ones_array = np.ones((2,3), dtype = int)\n",
    "print(another_ones_array)\n",
    "\n",
    "#Eg 3:\n",
    "print('\\nExample 3:')\n",
    "a = np.ones((3,3))\n",
    "print(a)"
   ]
  },
  {
   "cell_type": "markdown",
   "id": "f63ce915-1c3a-446a-9a76-207e184c57a9",
   "metadata": {},
   "source": [
    "## Reshaping NumPy Arrays (Changing Shape Attribute)"
   ]
  },
  {
   "cell_type": "code",
   "execution_count": 18,
   "id": "00c4a1d0-2721-476e-a5d5-76e726873ca7",
   "metadata": {},
   "outputs": [
    {
     "data": {
      "text/plain": [
       "array([[1., 1., 1., 1., 1., 1.],\n",
       "       [1., 1., 1., 1., 1., 1.]])"
      ]
     },
     "execution_count": 18,
     "metadata": {},
     "output_type": "execute_result"
    }
   ],
   "source": [
    "#Reshaping NumPy Arrays (Changing Shape Attribute)\n",
    "bunch_of_ones = np.ones((4,3))\n",
    "bunch_of_ones\n",
    "bunch_of_ones.shape = (2,6)\n",
    "bunch_of_ones"
   ]
  },
  {
   "cell_type": "markdown",
   "id": "3b492350-ee65-4229-b02d-26f79b9f821c",
   "metadata": {},
   "source": [
    "## Creating a NumPy Array with arange()"
   ]
  },
  {
   "cell_type": "code",
   "execution_count": 19,
   "id": "076baf80-9c39-41b7-8e70-729bf96f3e15",
   "metadata": {},
   "outputs": [
    {
     "name": "stdout",
     "output_type": "stream",
     "text": [
      "[0 1 2 3 4]\n",
      "[10 12 14 16 18]\n"
     ]
    }
   ],
   "source": [
    "#Arrays from numerical ranges:\n",
    "#Array with values from 0 to N\n",
    "#Eg 1:\n",
    "array_with_range = np.arange(5)\n",
    "print(array_with_range)\n",
    "\n",
    "#Eg 2:\n",
    "another_with_range = np.arange(10,20,2)\n",
    "print(another_with_range)"
   ]
  },
  {
   "cell_type": "markdown",
   "id": "874b554c-bce6-4afa-b3e5-07752f8a5a71",
   "metadata": {},
   "source": [
    "## Creating a NumPy Array Filled with a Specific Value"
   ]
  },
  {
   "cell_type": "code",
   "execution_count": 20,
   "id": "bba689bd-abcd-4cde-9d94-f7a3421218a1",
   "metadata": {},
   "outputs": [
    {
     "name": "stdout",
     "output_type": "stream",
     "text": [
      "[[30 30 30]\n",
      " [30 30 30]\n",
      " [30 30 30]]\n"
     ]
    }
   ],
   "source": [
    "#Creating a NumPy Array Filled with a Specific Value (np.full)\n",
    "a = np.full((3,3),30)\n",
    "print(a)"
   ]
  },
  {
   "cell_type": "markdown",
   "id": "39761c4e-fea9-4bd7-baca-7c2c36cd31c2",
   "metadata": {},
   "source": [
    "## Creating an Identity Matrix"
   ]
  },
  {
   "cell_type": "code",
   "execution_count": 21,
   "id": "701c7828-b7e1-43ee-8d5c-e34c5dcd348a",
   "metadata": {},
   "outputs": [
    {
     "name": "stdout",
     "output_type": "stream",
     "text": [
      "[[1. 0. 0. 0.]\n",
      " [0. 1. 0. 0.]\n",
      " [0. 0. 1. 0.]\n",
      " [0. 0. 0. 1.]]\n"
     ]
    }
   ],
   "source": [
    "#Creating an Identity Matrix Using np.identity()\n",
    "a = np.identity(4)\n",
    "print(a)"
   ]
  },
  {
   "cell_type": "markdown",
   "id": "a404451f-09a3-4c8c-b4df-6eda5eb2297e",
   "metadata": {},
   "source": [
    "## Converting a Python List to a NumPy Array"
   ]
  },
  {
   "cell_type": "code",
   "execution_count": 22,
   "id": "ad30ce60-fa3f-436e-80c0-e668f39c932f",
   "metadata": {},
   "outputs": [
    {
     "data": {
      "text/plain": [
       "array([1, 2, 3])"
      ]
     },
     "execution_count": 22,
     "metadata": {},
     "output_type": "execute_result"
    }
   ],
   "source": [
    "#Converting a Python List to a NumPy Array Using np.asarray()\n",
    "typical_list = [1,2,3]\n",
    "corresponding_array = np.asarray(typical_list)\n",
    "corresponding_array"
   ]
  },
  {
   "cell_type": "markdown",
   "id": "b68a1b01-a274-405a-9da4-5ccf862f344c",
   "metadata": {},
   "source": [
    "## Converting Tuple to NumPy Array"
   ]
  },
  {
   "cell_type": "code",
   "execution_count": 23,
   "id": "41d783e0-fa20-43a6-aeb4-c1211b037e3c",
   "metadata": {},
   "outputs": [
    {
     "data": {
      "text/plain": [
       "array([1, 2, 3])"
      ]
     },
     "execution_count": 23,
     "metadata": {},
     "output_type": "execute_result"
    }
   ],
   "source": [
    "#Converting a Python Tuple to a NumPy Array Using np.array()\n",
    "typical_tuple = (1,2,3)\n",
    "corresponding_array = np.array(typical_tuple)\n",
    "corresponding_array"
   ]
  },
  {
   "cell_type": "markdown",
   "id": "8720e018-3664-4bd0-b7ff-1795dd4beb14",
   "metadata": {},
   "source": [
    "## Creating a NumPy Array with a Range of Numbers"
   ]
  },
  {
   "cell_type": "code",
   "execution_count": 24,
   "id": "91856a39-670f-4c0b-9173-ef70a3b3431a",
   "metadata": {},
   "outputs": [
    {
     "name": "stdout",
     "output_type": "stream",
     "text": [
      "[0 1 2 3 4 5 6 7 8 9]\n"
     ]
    }
   ],
   "source": [
    "#Creating a NumPy Array with a Range of Numbers Using np.arange()\n",
    "a = np.arange(10)\n",
    "print(a)"
   ]
  },
  {
   "cell_type": "markdown",
   "id": "9ed40b04-5e70-451e-8558-44bab07e4f06",
   "metadata": {},
   "source": [
    "## Random Array and Slicing"
   ]
  },
  {
   "cell_type": "code",
   "execution_count": 25,
   "id": "5219bce4-d4a7-4307-a25f-6d03dc8386bc",
   "metadata": {},
   "outputs": [
    {
     "name": "stdout",
     "output_type": "stream",
     "text": [
      "[0.89884278 0.82872902 0.81046354 0.77398552 0.2994928  0.63994162\n",
      " 0.90433903 0.53105112 0.59675797 0.51075996]\n",
      "[0.89884278 0.81046354 0.2994928  0.90433903 0.59675797]\n"
     ]
    }
   ],
   "source": [
    "#Slice items between indexes in steps\n",
    "a = np.random.random(10)\n",
    "print(a)\n",
    "print(a[::2])"
   ]
  },
  {
   "cell_type": "markdown",
   "id": "fc909da0-cec9-4607-9701-d0ccad45ce88",
   "metadata": {},
   "source": [
    "## Accessing a Specific Element"
   ]
  },
  {
   "cell_type": "code",
   "execution_count": 26,
   "id": "de4d8f23-644e-4eb4-8a23-03c064e7b9f5",
   "metadata": {},
   "outputs": [
    {
     "name": "stdout",
     "output_type": "stream",
     "text": [
      "6\n"
     ]
    }
   ],
   "source": [
    "#Accessing a Specific Element from a 2D NumPy Array\n",
    "a = np.array([[1,2,3],[4,5,6]])\n",
    "print(a[1,2])"
   ]
  },
  {
   "cell_type": "markdown",
   "id": "0052ee65-abc9-40de-95d3-f7ec071bf302",
   "metadata": {},
   "source": [
    "## Slicing Rows and Columns"
   ]
  },
  {
   "cell_type": "code",
   "execution_count": 27,
   "id": "bab6e2da-bcb7-4cd7-a13d-4fbfbdd30176",
   "metadata": {},
   "outputs": [
    {
     "name": "stdout",
     "output_type": "stream",
     "text": [
      "[[1 2 3]\n",
      " [4 5 6]\n",
      " [7 8 9]]\n",
      "[[1 2 3]\n",
      " [4 5 6]]\n",
      "[2 5]\n"
     ]
    }
   ],
   "source": [
    "#Slicing Rows and Columns from a 2D NumPy Array\n",
    "a = np.array([[1,2,3],[4,5,6],[7,8,9]])\n",
    "print(a)\n",
    "print(a[0:2])\n",
    "print(a[0:2,-2])"
   ]
  },
  {
   "cell_type": "markdown",
   "id": "7a17d359-5775-4825-8823-65d3504fcae6",
   "metadata": {},
   "source": [
    "## Selecting a Specific Row"
   ]
  },
  {
   "cell_type": "code",
   "execution_count": 28,
   "id": "fb01e60b-e1f9-401a-8c88-2c7229d47b64",
   "metadata": {},
   "outputs": [
    {
     "name": "stdout",
     "output_type": "stream",
     "text": [
      "[[1 2 3]]\n"
     ]
    }
   ],
   "source": [
    "#Selecting a Specific Row from a 2D NumPy Array\n",
    "a = np.array([[1,2,3],[4,5,6],[7,8,9]])\n",
    "print(a[0:1,:])"
   ]
  },
  {
   "cell_type": "markdown",
   "id": "59b16e4e-0a57-4251-aec2-b20db96c1d06",
   "metadata": {},
   "source": [
    "## Slicing and Indexing"
   ]
  },
  {
   "cell_type": "code",
   "execution_count": 29,
   "id": "0f146963-0785-4ff1-9c9f-264c786f131d",
   "metadata": {},
   "outputs": [
    {
     "name": "stdout",
     "output_type": "stream",
     "text": [
      "[[[ 1  2]\n",
      "  [ 3  4]\n",
      "  [ 5  6]]\n",
      "\n",
      " [[ 7  8]\n",
      "  [ 9 10]\n",
      "  [11 12]]\n",
      "\n",
      " [[13 14]\n",
      "  [15 16]\n",
      "  [17 18]]]\n",
      "[[[ 1  2]\n",
      "  [ 3  4]\n",
      "  [ 5  6]]\n",
      "\n",
      " [[ 7  8]\n",
      "  [ 9 10]\n",
      "  [11 12]]]\n",
      "\n",
      "\n",
      "\n",
      "\n",
      "[[[ 3  4]\n",
      "  [ 5  6]]\n",
      "\n",
      " [[ 9 10]\n",
      "  [11 12]]]\n",
      "\n",
      "\n",
      "\n",
      "\n",
      "[[[ 4]\n",
      "  [ 6]]\n",
      "\n",
      " [[10]\n",
      "  [12]]]\n"
     ]
    }
   ],
   "source": [
    "#Slicing and Indexing in a 3D NumPy Array\n",
    "a = np.array([[[1,2],[3,4],[5,6]],\n",
    "             [[7,8],[9,10],[11,12]],\n",
    "             [[13,14],[15,16],[17,18]]])\n",
    "print(a)\n",
    "print(a[0:2])\n",
    "print('\\n\\n\\n')\n",
    "print(a[0:2,1:])\n",
    "print('\\n\\n\\n')\n",
    "print(a[0:2,1:,1:])"
   ]
  },
  {
   "cell_type": "markdown",
   "id": "078b59bb-fa14-4ae0-8057-1b9293ac5d27",
   "metadata": {},
   "source": [
    "## Random Integer Array and Shape "
   ]
  },
  {
   "cell_type": "code",
   "execution_count": 30,
   "id": "8224a760-4702-44a9-9181-370cb2f34f93",
   "metadata": {},
   "outputs": [
    {
     "name": "stdout",
     "output_type": "stream",
     "text": [
      "[[39 19]\n",
      " [31 34]\n",
      " [42 39]\n",
      " [32 11]\n",
      " [20 25]\n",
      " [15 22]\n",
      " [14 30]\n",
      " [32 29]]\n",
      "(8, 2)\n"
     ]
    }
   ],
   "source": [
    "#Random Integer Array and Shape \n",
    "arravali = np.array(np.random.randint(10,45,(8,2)))\n",
    "print(arravali)\n",
    "print(arravali.shape)"
   ]
  },
  {
   "cell_type": "markdown",
   "id": "f76fe329-a015-4606-8d9d-5b8c1bc0e2ca",
   "metadata": {},
   "source": [
    "## Transposing Arrays "
   ]
  },
  {
   "cell_type": "code",
   "execution_count": 31,
   "id": "ebcac16d-43de-4814-85e3-890ecf8a7e76",
   "metadata": {},
   "outputs": [
    {
     "name": "stdout",
     "output_type": "stream",
     "text": [
      "[[39 31 42 32 20 15 14 32]\n",
      " [19 34 39 11 25 22 30 29]]\n",
      "(2, 8)\n"
     ]
    }
   ],
   "source": [
    "#Transposing a NumPy Array Using np.transpose()\n",
    "nilgiri = np.transpose(arravali)\n",
    "print(nilgiri)\n",
    "print(nilgiri.shape)"
   ]
  },
  {
   "cell_type": "markdown",
   "id": "7b17d767-2508-4da1-96fb-bfa8e2e1b4d3",
   "metadata": {},
   "source": [
    "## Reshaping Arrays"
   ]
  },
  {
   "cell_type": "code",
   "execution_count": 32,
   "id": "56c9f9bf-173f-4465-9b2d-3bc03a9df6b0",
   "metadata": {},
   "outputs": [
    {
     "name": "stdout",
     "output_type": "stream",
     "text": [
      "[[33 23 24 20 36 13 42 37]\n",
      " [16 28 41 35 36 22 28 16]\n",
      " [39 40 18 20 14 23 18 10]]\n",
      "(3, 8)\n",
      "\n",
      "\n",
      "\n",
      "[[[33 23 24]\n",
      "  [20 36 13]\n",
      "  [42 37 16]\n",
      "  [28 41 35]]\n",
      "\n",
      " [[36 22 28]\n",
      "  [16 39 40]\n",
      "  [18 20 14]\n",
      "  [23 18 10]]]\n",
      "(2, 4, 3)\n"
     ]
    }
   ],
   "source": [
    "#Reshaping a NumPy Array into a New Shape Using np.reshape()\n",
    "rand = np.array(np.random.randint(10,45,(3,8)))\n",
    "print(rand)\n",
    "print(rand.shape)\n",
    "#reshape array\n",
    "print('\\n\\n')\n",
    "new_shape = (2,4,3)\n",
    "reshaped_rand = np.reshape(rand,new_shape)\n",
    "print(reshaped_rand)\n",
    "print(reshaped_rand.shape)"
   ]
  },
  {
   "cell_type": "markdown",
   "id": "0159b679-f946-47d8-b43a-c5bace521f99",
   "metadata": {},
   "source": [
    "## Resizing a NumPy Array"
   ]
  },
  {
   "cell_type": "code",
   "execution_count": 33,
   "id": "58841894-43c8-4b3d-8719-3ab8faaad021",
   "metadata": {},
   "outputs": [
    {
     "name": "stdout",
     "output_type": "stream",
     "text": [
      "[[[10 38 15 27 35 39]\n",
      "  [26 33 30 15 27 32]\n",
      "  [13 14 11 35 30 29]\n",
      "  [31 23 42 33 16 34]]\n",
      "\n",
      " [[25 14 34 14 39 12]\n",
      "  [19 43 41 22 25 24]\n",
      "  [24 20 37 11 16 21]\n",
      "  [31 22 32 27 28 42]]]\n",
      "(2, 4, 6)\n",
      "\n",
      "\n",
      "\n",
      "[[[10 38 15 27 35 39]\n",
      "  [26 33 30 15 27 32]\n",
      "  [13 14 11 35 30 29]]\n",
      "\n",
      " [[31 23 42 33 16 34]\n",
      "  [25 14 34 14 39 12]\n",
      "  [19 43 41 22 25 24]]\n",
      "\n",
      " [[24 20 37 11 16 21]\n",
      "  [31 22 32 27 28 42]\n",
      "  [10 38 15 27 35 39]]\n",
      "\n",
      " [[26 33 30 15 27 32]\n",
      "  [13 14 11 35 30 29]\n",
      "  [31 23 42 33 16 34]]]\n",
      "(4, 3, 6)\n"
     ]
    }
   ],
   "source": [
    "#Resizing a 3D NumPy Array Using np.resize()\n",
    "random_3D = np.array(np.random.randint(10,45,(2,4,6)))\n",
    "print(random_3D)\n",
    "print(random_3D.shape)\n",
    "#resize the 3D array\n",
    "print('\\n\\n')\n",
    "new_shape = (4,3,6)\n",
    "resized_random_3D = np.resize(random_3D,new_shape)\n",
    "print(resized_random_3D)\n",
    "print(resized_random_3D.shape)"
   ]
  },
  {
   "cell_type": "markdown",
   "id": "7e507018-65ff-46a1-8af9-9fa9c10eebbd",
   "metadata": {},
   "source": [
    "## Flattening a NumPy Array"
   ]
  },
  {
   "cell_type": "code",
   "execution_count": 34,
   "id": "7c28ceb4-ecf8-4d9a-a253-a2a1273b9d50",
   "metadata": {},
   "outputs": [
    {
     "name": "stdout",
     "output_type": "stream",
     "text": [
      "[[[34 31 41 39 25 21]\n",
      "  [12 17 12 11 34 24]\n",
      "  [36 27 36 15 35 17]\n",
      "  [20 36 31 22 19 31]]\n",
      "\n",
      " [[42 33 17 22 39 29]\n",
      "  [14 33 24 12 21 35]\n",
      "  [21 35 41 16 44 41]\n",
      "  [29 11 13 33 24 21]]]\n",
      "(2, 4, 6)\n",
      "\n",
      "\n",
      "\n"
     ]
    },
    {
     "data": {
      "text/plain": [
       "array([34, 31, 41, 39, 25, 21, 12, 17, 12, 11, 34, 24, 36, 27, 36, 15, 35,\n",
       "       17, 20, 36, 31, 22, 19, 31, 42, 33, 17, 22, 39, 29, 14, 33, 24, 12,\n",
       "       21, 35, 21, 35, 41, 16, 44, 41, 29, 11, 13, 33, 24, 21],\n",
       "      dtype=int32)"
      ]
     },
     "execution_count": 34,
     "metadata": {},
     "output_type": "execute_result"
    }
   ],
   "source": [
    "#Flattening a 3D NumPy Array Using .flatten()\n",
    "#Initialize a 3D array\n",
    "a = np.array(np.random.randint(10,45,(2,4,6)))\n",
    "print(a)\n",
    "print(a.shape)\n",
    "#Flatten the 3D array\n",
    "print('\\n\\n')\n",
    "a.flatten()"
   ]
  }
 ],
 "metadata": {
  "kernelspec": {
   "display_name": "Python 3 (ipykernel)",
   "language": "python",
   "name": "python3"
  },
  "language_info": {
   "codemirror_mode": {
    "name": "ipython",
    "version": 3
   },
   "file_extension": ".py",
   "mimetype": "text/x-python",
   "name": "python",
   "nbconvert_exporter": "python",
   "pygments_lexer": "ipython3",
   "version": "3.13.5"
  }
 },
 "nbformat": 4,
 "nbformat_minor": 5
}
