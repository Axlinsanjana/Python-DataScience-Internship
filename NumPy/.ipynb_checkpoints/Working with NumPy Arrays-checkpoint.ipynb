{
 "cells": [
  {
   "cell_type": "markdown",
   "id": "5ffb7485-db8f-45e0-b85f-eded7ad0f572",
   "metadata": {},
   "source": [
    "<center><h1><b>NumPy Operations and Array Manipulation</h1></center>"
   ]
  },
  {
   "cell_type": "markdown",
   "id": "5ca89272-0f37-4118-9554-9d53fce288d7",
   "metadata": {},
   "source": [
    "## Importing the NumPy Library"
   ]
  },
  {
   "cell_type": "code",
   "execution_count": 1,
   "id": "eb1acc24-0c6c-44e0-80dd-90eef2481549",
   "metadata": {},
   "outputs": [],
   "source": [
    "#Importing the NumPy Library\n",
    "import numpy as np"
   ]
  },
  {
   "cell_type": "markdown",
   "id": "44d2971f-fef6-4057-8dd2-b801ffd90ee8",
   "metadata": {},
   "source": [
    "## Creating an array of numbers"
   ]
  },
  {
   "cell_type": "code",
   "execution_count": 2,
   "id": "1e098ff4-9f92-46c6-b26b-ba2774c585de",
   "metadata": {},
   "outputs": [
    {
     "name": "stdout",
     "output_type": "stream",
     "text": [
      "[ 1  2  3  4  5  6  7  8  9 10]\n"
     ]
    }
   ],
   "source": [
    "#Creating an array of numbers\n",
    "arr = np.arange(1,11)\n",
    "print(arr)"
   ]
  },
  {
   "cell_type": "markdown",
   "id": "e5e90f4c-7e1c-44b7-98d3-0b0e7645f91d",
   "metadata": {},
   "source": [
    "## Creating a 3x3 matrix of ones"
   ]
  },
  {
   "cell_type": "code",
   "execution_count": 3,
   "id": "bec36a9d-95ec-401b-b5b7-7d3c7ab0f2d1",
   "metadata": {},
   "outputs": [
    {
     "name": "stdout",
     "output_type": "stream",
     "text": [
      "[[1. 1. 1.]\n",
      " [1. 1. 1.]\n",
      " [1. 1. 1.]]\n"
     ]
    }
   ],
   "source": [
    "#Creating a 3x3 matrix of ones:\n",
    "a = np.ones((3,3))\n",
    "print(a)"
   ]
  },
  {
   "cell_type": "markdown",
   "id": "40714e35-5bfe-4fb9-a0fa-67b1e81823c6",
   "metadata": {},
   "source": [
    "## Random Integer Array"
   ]
  },
  {
   "cell_type": "code",
   "execution_count": 4,
   "id": "eef223aa-90bb-4ff5-947e-6cead462207c",
   "metadata": {},
   "outputs": [
    {
     "name": "stdout",
     "output_type": "stream",
     "text": [
      "[44 41 31 28 41]\n"
     ]
    }
   ],
   "source": [
    "#Generate 5 random integers between 10 and 50\n",
    "x = np.random.randint(10,50, size = 5)\n",
    "print(x)"
   ]
  },
  {
   "cell_type": "markdown",
   "id": "81ab4828-b1fe-444a-bb85-127893bcdefb",
   "metadata": {},
   "source": [
    "## Maximum Value and Index\n"
   ]
  },
  {
   "cell_type": "code",
   "execution_count": 5,
   "id": "ed4cbd32-6f0f-46f4-9b7a-126e9c86512c",
   "metadata": {},
   "outputs": [
    {
     "name": "stdout",
     "output_type": "stream",
     "text": [
      "9\n",
      "1\n"
     ]
    }
   ],
   "source": [
    "#Find the maximum and its index\n",
    "arr = np.array([4, 9, 2, 7, 5])\n",
    "print(arr.max())\n",
    "print(arr.argmax())"
   ]
  },
  {
   "cell_type": "markdown",
   "id": "1b13610e-5608-4b9b-ab80-69dc2d57f483",
   "metadata": {},
   "source": [
    "## Reshaping the Array"
   ]
  },
  {
   "cell_type": "code",
   "execution_count": 6,
   "id": "dbba52bd-f60f-47b6-ba45-e29e78b745af",
   "metadata": {},
   "outputs": [
    {
     "name": "stdout",
     "output_type": "stream",
     "text": [
      "[[1 2 3]\n",
      " [4 5 6]\n",
      " [7 8 9]]\n"
     ]
    }
   ],
   "source": [
    "#Reshape a 1D array into 3x3\n",
    "arr = np.arange(1, 10)\n",
    "print(arr.reshape(3,3))"
   ]
  },
  {
   "cell_type": "markdown",
   "id": "1725c794-ecc9-4257-9978-bcef736411cd",
   "metadata": {},
   "source": [
    "## Matrix multiplication"
   ]
  },
  {
   "cell_type": "code",
   "execution_count": 7,
   "id": "f8ab2c08-d9f9-43f8-99ef-40da517ce211",
   "metadata": {},
   "outputs": [
    {
     "name": "stdout",
     "output_type": "stream",
     "text": [
      "[[19 22]\n",
      " [43 50]]\n"
     ]
    }
   ],
   "source": [
    "#Matrix multiplication\n",
    "A = np.array([[1, 2], [3, 4]])\n",
    "B = np.array([[5, 6], [7, 8]])\n",
    "print(A@B)"
   ]
  },
  {
   "cell_type": "markdown",
   "id": "dcfe452f-91d9-4030-a421-d380154d3988",
   "metadata": {},
   "source": [
    "## Extracting Even Numbers from an Array"
   ]
  },
  {
   "cell_type": "code",
   "execution_count": 8,
   "id": "0f1fb5f0-0bf0-4306-abc7-43b15958d506",
   "metadata": {},
   "outputs": [
    {
     "name": "stdout",
     "output_type": "stream",
     "text": [
      "[ 0  2  4  6  8 10]\n"
     ]
    }
   ],
   "source": [
    "#Extract even numbers from an array\n",
    "x = np.arange(0, 11)\n",
    "even = x[x%2==0]\n",
    "print(even)"
   ]
  },
  {
   "cell_type": "markdown",
   "id": "e35ec497-af65-4e7d-9bc9-702c6d764ff7",
   "metadata": {},
   "source": [
    "## Generating Even Numbers from an Array"
   ]
  },
  {
   "cell_type": "code",
   "execution_count": 9,
   "id": "4def8607-37e1-4a62-ad9f-48f06f4ae596",
   "metadata": {},
   "outputs": [
    {
     "name": "stdout",
     "output_type": "stream",
     "text": [
      "[ 2  4  6  8 10]\n"
     ]
    }
   ],
   "source": [
    "#Generation of even numbers from an array\n",
    "x = np.arange(2, 11,2)\n",
    "print(x)"
   ]
  },
  {
   "cell_type": "markdown",
   "id": "a640c202-fefe-4491-8ec9-2a197ff69e4d",
   "metadata": {},
   "source": [
    "## Replacing Negative Numbers"
   ]
  },
  {
   "cell_type": "code",
   "execution_count": 10,
   "id": "4970eb09-fa83-4311-8456-28b1321173c3",
   "metadata": {},
   "outputs": [
    {
     "name": "stdout",
     "output_type": "stream",
     "text": [
      "[3 0 7 0 9]\n"
     ]
    }
   ],
   "source": [
    "#Replace negative numbers with zero\n",
    "arr = np.array([3, -1, 7, -5, 9])\n",
    "arr[arr<0]=0\n",
    "print(arr)"
   ]
  },
  {
   "cell_type": "markdown",
   "id": "ff810c77-49b8-47e6-a3aa-983681c97bed",
   "metadata": {},
   "source": [
    "## Array Normalization"
   ]
  },
  {
   "cell_type": "code",
   "execution_count": 11,
   "id": "a6bf01c7-960b-4cf0-a205-08fa1c0764f9",
   "metadata": {},
   "outputs": [
    {
     "name": "stdout",
     "output_type": "stream",
     "text": [
      "[0.   0.25 0.5  0.75 1.  ]\n"
     ]
    }
   ],
   "source": [
    "#Normalize values between 0 and 1\n",
    "arr = np.array([10, 20, 30, 40, 50])\n",
    "norm = (arr - arr.min()) / (arr.max() - arr.min())\n",
    "print(norm)"
   ]
  }
 ],
 "metadata": {
  "kernelspec": {
   "display_name": "Python 3 (ipykernel)",
   "language": "python",
   "name": "python3"
  },
  "language_info": {
   "codemirror_mode": {
    "name": "ipython",
    "version": 3
   },
   "file_extension": ".py",
   "mimetype": "text/x-python",
   "name": "python",
   "nbconvert_exporter": "python",
   "pygments_lexer": "ipython3",
   "version": "3.13.5"
  }
 },
 "nbformat": 4,
 "nbformat_minor": 5
}
